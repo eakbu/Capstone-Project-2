{
 "cells": [
  {
   "cell_type": "markdown",
   "metadata": {},
   "source": [
    "# Amazon Health and Personal-Care Products Review-Sentiment Analysis"
   ]
  },
  {
   "cell_type": "markdown",
   "metadata": {},
   "source": [
    "##### Problem statement\n",
    "Health and personal care products are increasingly important and even vital for people’s health after the COVID-19 outbreak. What customers think about how effective these products in making us clean and healthy has not been investigated, however. In this project, my client is Amazon, and I will provide a software tool to Amazon in a way I will identify positive and negative words included in customers’ reviews for health and personal care products. For this purpose, I will use the customer reviews on these products in the period of 2004-2014. Based on these reviews in the said time period, I will develop a sentiment analysis model through natural language processing to determine customers’ sentiment toward these products. By developing such a model, I will provide my client, Amazon, better understanding of customers’ opinion and thoughts about its health and personal care products. **Thus, the central purpose of this project is to collect and analyze customer feedback about Amazon’s health and personal care products, and provide Amazon the detailed analyses of customer impressions on these products so that Amazon can benefit from these analyses in order to make improvements on its products and maximize e-commerce sales.**\n",
    "###### Description of the Data\n",
    "The data includes features in relation to customer reviews and ratings on health and personal care products. The data has 55,076 rows and 9 features. In each row, I have a customer review and the following variables:\n",
    "\n",
    "\n",
    "\n",
    "* reviewerID : ID of the reviewer, type: object\n",
    "* asin : ID of the product , type: object reviewerName : the reviewer’s \n",
    "* name – type: object helpful : s, how helpful the review is – type: \n",
    "* object reviewText : text of the review – type:\n",
    "* object overall : Rating – type: float64\n",
    "* summary : summary of the review – type: object\n",
    "* unixReviewTime : time of the review (unix time) – type: int64\n",
    "* reviewTime : time of the \n",
    "* review (raw) – type: object\n",
    "\n",
    "The data is located in Standford Analysis Project webpage. The original data is in a JSON format. To analyze the data, I will have to change the data format. In order to do that, I will import a JSON file and decode JSON file by using query in order to convert JSON file to csv file.\n",
    "Here’s the link for data Source: [link](http://snap.stanford.edu/data/amazon/productGraph/categoryFiles/reviews_Health_and_Personal_Care_10.json.gz)\n"
   ]
  },
  {
   "cell_type": "markdown",
   "metadata": {
    "toc": true
   },
   "source": [
    "<h1>Table of Contents<span class=\"tocSkip\"></span></h1>\n",
    "<div class=\"toc\"><ul class=\"toc-item\"><li><span><a href=\"#Amazon-Health-and-Personal-Care-Products-Review-Sentiment-Analysis\" data-toc-modified-id=\"Amazon-Health-and-Personal-Care-Products-Review-Sentiment-Analysis-1\">Amazon Health and Personal-Care Products Review-Sentiment Analysis</a></span><ul class=\"toc-item\"><li><ul class=\"toc-item\"><li><ul class=\"toc-item\"><li><ul class=\"toc-item\"><li><span><a href=\"#Problem-statement\" data-toc-modified-id=\"Problem-statement-1.0.0.0.1\">Problem statement</a></span><ul class=\"toc-item\"><li><span><a href=\"#Description-of-the-Data\" data-toc-modified-id=\"Description-of-the-Data-1.0.0.0.1.1\">Description of the Data</a></span></li></ul></li></ul></li></ul></li></ul></li><li><span><a href=\"#Import-Necessary-Libraries\" data-toc-modified-id=\"Import-Necessary-Libraries-1.1\">Import Necessary Libraries</a></span></li><li><span><a href=\"#Load-the-Amazon-Review-Dataset\" data-toc-modified-id=\"Load-the-Amazon-Review-Dataset-1.2\">Load the Amazon Review Dataset</a></span></li><li><span><a href=\"#Check-Out-the-Dataset\" data-toc-modified-id=\"Check-Out-the-Dataset-1.3\">Check Out the Dataset</a></span></li><li><span><a href=\"#Heating-maps-for-missing-values\" data-toc-modified-id=\"Heating-maps-for-missing-values-1.4\">Heating maps for missing values</a></span></li><li><span><a href=\"#Some-information-about-dataset-so-far:\" data-toc-modified-id=\"Some-information-about-dataset-so-far:-1.5\"><strong>Some information about dataset so far:</strong></a></span></li><li><span><a href=\"#Dropping-Missing-Values\" data-toc-modified-id=\"Dropping-Missing-Values-1.6\">Dropping Missing Values</a></span></li><li><span><a href=\"#Concatenating-'reviewText'-and-'summary'-columns\" data-toc-modified-id=\"Concatenating-'reviewText'-and-'summary'-columns-1.7\">Concatenating 'reviewText' and 'summary' columns</a></span></li><li><span><a href=\"#Splitting-'helpful'-column-into-two-separate-columns\" data-toc-modified-id=\"Splitting-'helpful'-column-into-two-separate-columns-1.8\">Splitting 'helpful' column into two separate columns</a></span></li><li><span><a href=\"#Classifying-the-'overall'-(ratings)-as-good-,neutral-and-bad\" data-toc-modified-id=\"Classifying-the-'overall'-(ratings)-as-good-,neutral-and-bad-1.9\">Classifying the 'overall' (ratings) as good ,neutral and bad</a></span></li><li><span><a href=\"#Dropping-multiply-columns-about-customer-('reviwerName')-and-time-('unixReviewTime)\" data-toc-modified-id=\"Dropping-multiply-columns-about-customer-('reviwerName')-and-time-('unixReviewTime)-1.10\">Dropping multiply columns about customer ('reviwerName') and time ('unixReviewTime)</a></span></li><li><span><a href=\"#Organizing-'time'-column\" data-toc-modified-id=\"Organizing-'time'-column-1.11\">Organizing 'time' column</a></span></li><li><span><a href=\"#Creating-'year'-column-from--'reviewTime'-column\" data-toc-modified-id=\"Creating-'year'-column-from--'reviewTime'-column-1.12\">Creating 'year' column from  'reviewTime' column</a></span></li><li><span><a href=\"#Rename-column-names\" data-toc-modified-id=\"Rename-column-names-1.13\">Rename column names</a></span></li><li><span><a href=\"#Descriptive-Statistics\" data-toc-modified-id=\"Descriptive-Statistics-1.14\">Descriptive Statistics</a></span><ul class=\"toc-item\"><li><span><a href=\"#Descriptive-Statistic-Summary:\" data-toc-modified-id=\"Descriptive-Statistic-Summary:-1.14.1\"><strong>Descriptive Statistic Summary:</strong></a></span></li></ul></li><li><span><a href=\"#Preprocessing-the-new_text\" data-toc-modified-id=\"Preprocessing-the-new_text-1.15\">Preprocessing the new_text</a></span><ul class=\"toc-item\"><li><span><a href=\"#Removing-HTML-tags\" data-toc-modified-id=\"Removing-HTML-tags-1.15.1\">Removing HTML tags</a></span></li><li><span><a href=\"#Removing-accented-characters\" data-toc-modified-id=\"Removing-accented-characters-1.15.2\">Removing accented characters</a></span></li><li><span><a href=\"#Expanding-Contractions\" data-toc-modified-id=\"Expanding-Contractions-1.15.3\">Expanding Contractions</a></span></li><li><span><a href=\"#Removing-Special-Characters\" data-toc-modified-id=\"Removing-Special-Characters-1.15.4\">Removing Special Characters</a></span></li><li><span><a href=\"#Lemmatization\" data-toc-modified-id=\"Lemmatization-1.15.5\">Lemmatization</a></span></li><li><span><a href=\"#Removing-stopwords\" data-toc-modified-id=\"Removing-stopwords-1.15.6\">Removing stopwords</a></span></li><li><span><a href=\"#Building-a-Text-Normalizer\" data-toc-modified-id=\"Building-a-Text-Normalizer-1.15.7\">Building a Text Normalizer</a></span></li><li><span><a href=\"#Creating-'clean_text'-column-from--&quot;review_text&quot;-by-using--text-normalizer\" data-toc-modified-id=\"Creating-'clean_text'-column-from--&quot;review_text&quot;-by-using--text-normalizer-1.15.8\">Creating 'clean_text' column from  \"review_text\" by using  text normalizer</a></span><ul class=\"toc-item\"><li><ul class=\"toc-item\"><li><span><a href=\"#Creating-'clues'-column-from-the-clean_text-by-using-tokenizer\" data-toc-modified-id=\"Creating-'clues'-column-from-the-clean_text-by-using-tokenizer-1.15.8.0.1\">Creating 'clues' column from the clean_text by using tokenizer</a></span></li></ul></li></ul></li></ul></li><li><span><a href=\"#Write-dataframe-to-CSV-file\" data-toc-modified-id=\"Write-dataframe-to-CSV-file-1.16\">Write dataframe to CSV file</a></span></li></ul></li></ul></div>"
   ]
  },
  {
   "cell_type": "markdown",
   "metadata": {},
   "source": [
    "## Import Necessary Libraries"
   ]
  },
  {
   "cell_type": "code",
   "execution_count": 1,
   "metadata": {},
   "outputs": [],
   "source": [
    "# Dataframe\n",
    "import pandas as pd\n",
    "\n",
    "# Array\n",
    "import numpy as np\n",
    "\n",
    "# Decompress the file\n",
    "import gzip\n",
    "\n",
    "# Visualizations\n",
    "import matplotlib.pyplot as plt\n",
    "from matplotlib.colors import ListedColormap\n",
    "import seaborn as sns\n",
    "import matplotlib.colors as colors\n",
    "%matplotlib inline\n",
    "import csv\n",
    "import json\n",
    "# Datetime\n",
    "from datetime import datetime\n",
    "\n",
    "## Warnings\n",
    "import warnings\n",
    "from scipy import stats\n",
    "warnings.filterwarnings('ignore')"
   ]
  },
  {
   "cell_type": "markdown",
   "metadata": {},
   "source": [
    "## Load the Amazon Review Dataset\n",
    "\n",
    "i got the dataset from [link](http://snap.stanford.edu/data/amazon/productGraph/categoryFiles/reviews_Health_and_Personal_Care_10.json.gz) and uploaded into Jupyter notebook through the following code."
   ]
  },
  {
   "cell_type": "code",
   "execution_count": 2,
   "metadata": {},
   "outputs": [],
   "source": [
    "def parse(path):\n",
    "    g = gzip.open(path, 'rb')\n",
    "    for l in g:\n",
    "        yield eval(l)\n",
    "def getDF(path):\n",
    "    i = 0\n",
    "    df = {}\n",
    "    for d in parse(path):\n",
    "        df[i] = d\n",
    "        i += 1\n",
    "    return pd.DataFrame.from_dict(df, orient='index')\n",
    "\n",
    "df = getDF('/Users/emineakbulut/Desktop/capstone project 2/data/reviews_Health_and_Personal_Care_10.json.gz')\n"
   ]
  },
  {
   "cell_type": "markdown",
   "metadata": {},
   "source": [
    "## Check Out the Dataset"
   ]
  },
  {
   "cell_type": "code",
   "execution_count": 3,
   "metadata": {
    "scrolled": true
   },
   "outputs": [
    {
     "data": {
      "text/html": [
       "<div>\n",
       "<style scoped>\n",
       "    .dataframe tbody tr th:only-of-type {\n",
       "        vertical-align: middle;\n",
       "    }\n",
       "\n",
       "    .dataframe tbody tr th {\n",
       "        vertical-align: top;\n",
       "    }\n",
       "\n",
       "    .dataframe thead th {\n",
       "        text-align: right;\n",
       "    }\n",
       "</style>\n",
       "<table border=\"1\" class=\"dataframe\">\n",
       "  <thead>\n",
       "    <tr style=\"text-align: right;\">\n",
       "      <th></th>\n",
       "      <th>reviewerID</th>\n",
       "      <th>asin</th>\n",
       "      <th>reviewerName</th>\n",
       "      <th>helpful</th>\n",
       "      <th>reviewText</th>\n",
       "      <th>overall</th>\n",
       "      <th>summary</th>\n",
       "      <th>unixReviewTime</th>\n",
       "      <th>reviewTime</th>\n",
       "    </tr>\n",
       "  </thead>\n",
       "  <tbody>\n",
       "    <tr>\n",
       "      <td>0</td>\n",
       "      <td>A1N655X9X7C6QY</td>\n",
       "      <td>B00000J47L</td>\n",
       "      <td>C. Cook \"LIVE..........LOVE........AND..........</td>\n",
       "      <td>[0, 0]</td>\n",
       "      <td>Right out of the box and ready to go !Everythi...</td>\n",
       "      <td>5.0</td>\n",
       "      <td>Out of the box ready to go................</td>\n",
       "      <td>1357948800</td>\n",
       "      <td>01 12, 2013</td>\n",
       "    </tr>\n",
       "    <tr>\n",
       "      <td>1</td>\n",
       "      <td>AEL6CQNQXONBX</td>\n",
       "      <td>B00000J47L</td>\n",
       "      <td>Cute Chihuahua</td>\n",
       "      <td>[1, 1]</td>\n",
       "      <td>In this day and age it is hard to understand w...</td>\n",
       "      <td>5.0</td>\n",
       "      <td>SAVE LOTS OF MONEY AND THE ENVIRONMENT AT THE ...</td>\n",
       "      <td>1227571200</td>\n",
       "      <td>11 25, 2008</td>\n",
       "    </tr>\n",
       "    <tr>\n",
       "      <td>2</td>\n",
       "      <td>A2032LF6FWWK8E</td>\n",
       "      <td>B00000J47L</td>\n",
       "      <td>Jay Riemenschneider</td>\n",
       "      <td>[6, 10]</td>\n",
       "      <td>At 2500ah, these rechargeable NiMh batteries p...</td>\n",
       "      <td>5.0</td>\n",
       "      <td>Excellent power, quality NiMh batteries to go ...</td>\n",
       "      <td>1141689600</td>\n",
       "      <td>03 7, 2006</td>\n",
       "    </tr>\n",
       "  </tbody>\n",
       "</table>\n",
       "</div>"
      ],
      "text/plain": [
       "       reviewerID        asin  \\\n",
       "0  A1N655X9X7C6QY  B00000J47L   \n",
       "1   AEL6CQNQXONBX  B00000J47L   \n",
       "2  A2032LF6FWWK8E  B00000J47L   \n",
       "\n",
       "                                       reviewerName  helpful  \\\n",
       "0  C. Cook \"LIVE..........LOVE........AND..........   [0, 0]   \n",
       "1                                    Cute Chihuahua   [1, 1]   \n",
       "2                               Jay Riemenschneider  [6, 10]   \n",
       "\n",
       "                                          reviewText  overall  \\\n",
       "0  Right out of the box and ready to go !Everythi...      5.0   \n",
       "1  In this day and age it is hard to understand w...      5.0   \n",
       "2  At 2500ah, these rechargeable NiMh batteries p...      5.0   \n",
       "\n",
       "                                             summary  unixReviewTime  \\\n",
       "0         Out of the box ready to go................      1357948800   \n",
       "1  SAVE LOTS OF MONEY AND THE ENVIRONMENT AT THE ...      1227571200   \n",
       "2  Excellent power, quality NiMh batteries to go ...      1141689600   \n",
       "\n",
       "    reviewTime  \n",
       "0  01 12, 2013  \n",
       "1  11 25, 2008  \n",
       "2   03 7, 2006  "
      ]
     },
     "execution_count": 3,
     "metadata": {},
     "output_type": "execute_result"
    }
   ],
   "source": [
    "# Reading the file\n",
    "df.head(3)"
   ]
  },
  {
   "cell_type": "code",
   "execution_count": 4,
   "metadata": {},
   "outputs": [
    {
     "data": {
      "text/html": [
       "<div>\n",
       "<style scoped>\n",
       "    .dataframe tbody tr th:only-of-type {\n",
       "        vertical-align: middle;\n",
       "    }\n",
       "\n",
       "    .dataframe tbody tr th {\n",
       "        vertical-align: top;\n",
       "    }\n",
       "\n",
       "    .dataframe thead th {\n",
       "        text-align: right;\n",
       "    }\n",
       "</style>\n",
       "<table border=\"1\" class=\"dataframe\">\n",
       "  <thead>\n",
       "    <tr style=\"text-align: right;\">\n",
       "      <th></th>\n",
       "      <th>overall</th>\n",
       "      <th>unixReviewTime</th>\n",
       "    </tr>\n",
       "  </thead>\n",
       "  <tbody>\n",
       "    <tr>\n",
       "      <td>count</td>\n",
       "      <td>55076.000000</td>\n",
       "      <td>5.507600e+04</td>\n",
       "    </tr>\n",
       "    <tr>\n",
       "      <td>mean</td>\n",
       "      <td>4.089858</td>\n",
       "      <td>1.351877e+09</td>\n",
       "    </tr>\n",
       "    <tr>\n",
       "      <td>std</td>\n",
       "      <td>1.025966</td>\n",
       "      <td>4.917115e+07</td>\n",
       "    </tr>\n",
       "    <tr>\n",
       "      <td>min</td>\n",
       "      <td>1.000000</td>\n",
       "      <td>1.073174e+09</td>\n",
       "    </tr>\n",
       "    <tr>\n",
       "      <td>25%</td>\n",
       "      <td>4.000000</td>\n",
       "      <td>1.324080e+09</td>\n",
       "    </tr>\n",
       "    <tr>\n",
       "      <td>50%</td>\n",
       "      <td>4.000000</td>\n",
       "      <td>1.365638e+09</td>\n",
       "    </tr>\n",
       "    <tr>\n",
       "      <td>75%</td>\n",
       "      <td>5.000000</td>\n",
       "      <td>1.388448e+09</td>\n",
       "    </tr>\n",
       "    <tr>\n",
       "      <td>max</td>\n",
       "      <td>5.000000</td>\n",
       "      <td>1.406074e+09</td>\n",
       "    </tr>\n",
       "  </tbody>\n",
       "</table>\n",
       "</div>"
      ],
      "text/plain": [
       "            overall  unixReviewTime\n",
       "count  55076.000000    5.507600e+04\n",
       "mean       4.089858    1.351877e+09\n",
       "std        1.025966    4.917115e+07\n",
       "min        1.000000    1.073174e+09\n",
       "25%        4.000000    1.324080e+09\n",
       "50%        4.000000    1.365638e+09\n",
       "75%        5.000000    1.388448e+09\n",
       "max        5.000000    1.406074e+09"
      ]
     },
     "execution_count": 4,
     "metadata": {},
     "output_type": "execute_result"
    }
   ],
   "source": [
    "# Basic Statistics of the Dataset\n",
    "df.describe()"
   ]
  },
  {
   "cell_type": "code",
   "execution_count": 5,
   "metadata": {
    "scrolled": true
   },
   "outputs": [
    {
     "name": "stdout",
     "output_type": "stream",
     "text": [
      "<class 'pandas.core.frame.DataFrame'>\n",
      "Int64Index: 55076 entries, 0 to 55075\n",
      "Data columns (total 9 columns):\n",
      "reviewerID        55076 non-null object\n",
      "asin              55076 non-null object\n",
      "reviewerName      54787 non-null object\n",
      "helpful           55076 non-null object\n",
      "reviewText        55076 non-null object\n",
      "overall           55076 non-null float64\n",
      "summary           55076 non-null object\n",
      "unixReviewTime    55076 non-null int64\n",
      "reviewTime        55076 non-null object\n",
      "dtypes: float64(1), int64(1), object(7)\n",
      "memory usage: 4.2+ MB\n"
     ]
    }
   ],
   "source": [
    "# Basic Information on dataset\n",
    "df.info()"
   ]
  },
  {
   "cell_type": "code",
   "execution_count": 6,
   "metadata": {},
   "outputs": [
    {
     "data": {
      "text/plain": [
       "(55076, 9)"
      ]
     },
     "execution_count": 6,
     "metadata": {},
     "output_type": "execute_result"
    }
   ],
   "source": [
    "# Shape of the dataset\n",
    "df.shape"
   ]
  },
  {
   "cell_type": "code",
   "execution_count": 7,
   "metadata": {
    "scrolled": true
   },
   "outputs": [
    {
     "data": {
      "text/html": [
       "<div>\n",
       "<style scoped>\n",
       "    .dataframe tbody tr th:only-of-type {\n",
       "        vertical-align: middle;\n",
       "    }\n",
       "\n",
       "    .dataframe tbody tr th {\n",
       "        vertical-align: top;\n",
       "    }\n",
       "\n",
       "    .dataframe thead th {\n",
       "        text-align: right;\n",
       "    }\n",
       "</style>\n",
       "<table border=\"1\" class=\"dataframe\">\n",
       "  <thead>\n",
       "    <tr style=\"text-align: right;\">\n",
       "      <th></th>\n",
       "      <th>25130</th>\n",
       "      <th>51568</th>\n",
       "      <th>31692</th>\n",
       "      <th>14829</th>\n",
       "      <th>48343</th>\n",
       "      <th>33298</th>\n",
       "      <th>29297</th>\n",
       "      <th>48747</th>\n",
       "      <th>19678</th>\n",
       "      <th>16371</th>\n",
       "      <th>...</th>\n",
       "      <th>32912</th>\n",
       "      <th>21440</th>\n",
       "      <th>52047</th>\n",
       "      <th>7813</th>\n",
       "      <th>43723</th>\n",
       "      <th>50057</th>\n",
       "      <th>32511</th>\n",
       "      <th>5192</th>\n",
       "      <th>12172</th>\n",
       "      <th>33003</th>\n",
       "    </tr>\n",
       "  </thead>\n",
       "  <tbody>\n",
       "    <tr>\n",
       "      <td>reviewerID</td>\n",
       "      <td>ABUE0ALHKWKHC</td>\n",
       "      <td>A22CT4ZGGD2FJF</td>\n",
       "      <td>A30TUN35ZE3NEU</td>\n",
       "      <td>A2YW1MG1GKU8XD</td>\n",
       "      <td>ABNMD6670TV53</td>\n",
       "      <td>A3NUUJF2S2ZWAD</td>\n",
       "      <td>A1LHAXBM5GBJS2</td>\n",
       "      <td>A3F9CMU8KNAY1M</td>\n",
       "      <td>A10M94ASQEBL56</td>\n",
       "      <td>A3091RP0SPZLMN</td>\n",
       "      <td>...</td>\n",
       "      <td>A2X2WTEVCZ5L8N</td>\n",
       "      <td>ACSX5AIZE3MJ9</td>\n",
       "      <td>ATS7LYGLUX34L</td>\n",
       "      <td>A1RRMZKOMZ2M7J</td>\n",
       "      <td>A2ALX5U55NTGTL</td>\n",
       "      <td>A2D3MU80ME36SV</td>\n",
       "      <td>A6X1O3A5C5FX1</td>\n",
       "      <td>AGVWTYW0ULXHT</td>\n",
       "      <td>A2Y8IDC1FKGNJC</td>\n",
       "      <td>A14R9XMZVJ6INB</td>\n",
       "    </tr>\n",
       "    <tr>\n",
       "      <td>asin</td>\n",
       "      <td>B004VK5ON8</td>\n",
       "      <td>B00HFQQ0VU</td>\n",
       "      <td>B007DKXR64</td>\n",
       "      <td>B002GU66BY</td>\n",
       "      <td>B00EZ8PR1U</td>\n",
       "      <td>B007VAGXDK</td>\n",
       "      <td>B0061JPJH8</td>\n",
       "      <td>B00FSCB3PG</td>\n",
       "      <td>B003MP16A8</td>\n",
       "      <td>B0030HO4KM</td>\n",
       "      <td>...</td>\n",
       "      <td>B007RWFSII</td>\n",
       "      <td>B003XN4RIC</td>\n",
       "      <td>B00HKH0I12</td>\n",
       "      <td>B0017OAH8I</td>\n",
       "      <td>B00CDKTE48</td>\n",
       "      <td>B00GM029TC</td>\n",
       "      <td>B007LEO4Y6</td>\n",
       "      <td>B0013OQGO6</td>\n",
       "      <td>B001N0LJ8I</td>\n",
       "      <td>B007S50LLI</td>\n",
       "    </tr>\n",
       "    <tr>\n",
       "      <td>reviewerName</td>\n",
       "      <td>Kiwi</td>\n",
       "      <td>S. Chang \"Steven Chang\"</td>\n",
       "      <td>Enamelation !</td>\n",
       "      <td>SweetPea</td>\n",
       "      <td>R. Kolin \"Third Degree member since 1991\"</td>\n",
       "      <td>David Jones \"fly fisher\"</td>\n",
       "      <td>Scooter McGavin</td>\n",
       "      <td>Susan \"minniesm\"</td>\n",
       "      <td>D. Berdanis \"endymion9\"</td>\n",
       "      <td>BB</td>\n",
       "      <td>...</td>\n",
       "      <td>Sandy Kay</td>\n",
       "      <td>Values Privacy</td>\n",
       "      <td>Daniel V. Reilly</td>\n",
       "      <td>Susan Katz</td>\n",
       "      <td>Danny Boy \"Danny Boy\"</td>\n",
       "      <td>david l. poremba \"the past in review\"</td>\n",
       "      <td>SMB</td>\n",
       "      <td>Nathan Andersen \"Gadget lover and author of S...</td>\n",
       "      <td>L. A.</td>\n",
       "      <td>amf0001</td>\n",
       "    </tr>\n",
       "    <tr>\n",
       "      <td>helpful</td>\n",
       "      <td>[0, 0]</td>\n",
       "      <td>[1, 1]</td>\n",
       "      <td>[0, 1]</td>\n",
       "      <td>[0, 0]</td>\n",
       "      <td>[2, 3]</td>\n",
       "      <td>[0, 0]</td>\n",
       "      <td>[0, 0]</td>\n",
       "      <td>[0, 0]</td>\n",
       "      <td>[0, 0]</td>\n",
       "      <td>[0, 0]</td>\n",
       "      <td>...</td>\n",
       "      <td>[0, 0]</td>\n",
       "      <td>[0, 0]</td>\n",
       "      <td>[0, 0]</td>\n",
       "      <td>[1, 1]</td>\n",
       "      <td>[0, 0]</td>\n",
       "      <td>[0, 1]</td>\n",
       "      <td>[0, 0]</td>\n",
       "      <td>[0, 0]</td>\n",
       "      <td>[0, 0]</td>\n",
       "      <td>[0, 0]</td>\n",
       "    </tr>\n",
       "    <tr>\n",
       "      <td>reviewText</td>\n",
       "      <td>I walk my dogs in all sorts of weather so I ne...</td>\n",
       "      <td>My wife and I have been using Waterpiks for ye...</td>\n",
       "      <td>I didn't fall asleep after some black tea and ...</td>\n",
       "      <td>I really wanted to like these bars, I used the...</td>\n",
       "      <td>I've been using Oral-B's for many years simply...</td>\n",
       "      <td>The Air Wick scent system is very effective an...</td>\n",
       "      <td>Deodorant has always had some weird names, but...</td>\n",
       "      <td>For a few years now I have only used foam dish...</td>\n",
       "      <td>This product makes a good work snack when I do...</td>\n",
       "      <td>I compared these to the Tum brand of Assorted ...</td>\n",
       "      <td>...</td>\n",
       "      <td>When I was a child, my mother believed in cod ...</td>\n",
       "      <td>The brightness I use to read before bed is the...</td>\n",
       "      <td>I was a little wary of going back to powdered ...</td>\n",
       "      <td>I have difficulty sleeping through the night. ...</td>\n",
       "      <td>This is probably the most complete kit for cle...</td>\n",
       "      <td>This product hooks on the toilet fairly easily...</td>\n",
       "      <td>Disclaimer: Reviewing supplements is hard, sin...</td>\n",
       "      <td>B-12 is good for your nerve tissue and brain c...</td>\n",
       "      <td>This is a handy little stick that helps preven...</td>\n",
       "      <td>Frankly, these taste like candy.  It's like al...</td>\n",
       "    </tr>\n",
       "    <tr>\n",
       "      <td>overall</td>\n",
       "      <td>4</td>\n",
       "      <td>4</td>\n",
       "      <td>2</td>\n",
       "      <td>2</td>\n",
       "      <td>4</td>\n",
       "      <td>5</td>\n",
       "      <td>4</td>\n",
       "      <td>4</td>\n",
       "      <td>3</td>\n",
       "      <td>4</td>\n",
       "      <td>...</td>\n",
       "      <td>1</td>\n",
       "      <td>3</td>\n",
       "      <td>5</td>\n",
       "      <td>5</td>\n",
       "      <td>5</td>\n",
       "      <td>3</td>\n",
       "      <td>4</td>\n",
       "      <td>4</td>\n",
       "      <td>4</td>\n",
       "      <td>4</td>\n",
       "    </tr>\n",
       "    <tr>\n",
       "      <td>summary</td>\n",
       "      <td>Pretty close but not completely fragrance free...</td>\n",
       "      <td>Compared to the previous model.</td>\n",
       "      <td>not for  me</td>\n",
       "      <td>Not for me</td>\n",
       "      <td>Great toothbrush with gimmick to boot!</td>\n",
       "      <td>Very Pleasant Scent</td>\n",
       "      <td>Works Great, Strong Scent</td>\n",
       "      <td>Grease cutter</td>\n",
       "      <td>Good for work snacks</td>\n",
       "      <td>Very Fruity</td>\n",
       "      <td>...</td>\n",
       "      <td>Horrible fishy taste.  Yuck!</td>\n",
       "      <td>Not ideal</td>\n",
       "      <td>Love it!</td>\n",
       "      <td>It works!</td>\n",
       "      <td>It's a great kit</td>\n",
       "      <td>doesn't clean much</td>\n",
       "      <td>Good supplement</td>\n",
       "      <td>An easy way to get B-12 - tastes good and chew...</td>\n",
       "      <td>Band Aid Friction Block</td>\n",
       "      <td>Very sweet,  and it works</td>\n",
       "    </tr>\n",
       "    <tr>\n",
       "      <td>unixReviewTime</td>\n",
       "      <td>1308614400</td>\n",
       "      <td>1392854400</td>\n",
       "      <td>1368748800</td>\n",
       "      <td>1361923200</td>\n",
       "      <td>1383091200</td>\n",
       "      <td>1359763200</td>\n",
       "      <td>1359849600</td>\n",
       "      <td>1390521600</td>\n",
       "      <td>1371081600</td>\n",
       "      <td>1385078400</td>\n",
       "      <td>...</td>\n",
       "      <td>1397606400</td>\n",
       "      <td>1405123200</td>\n",
       "      <td>1400025600</td>\n",
       "      <td>1385078400</td>\n",
       "      <td>1374105600</td>\n",
       "      <td>1393804800</td>\n",
       "      <td>1363737600</td>\n",
       "      <td>1360454400</td>\n",
       "      <td>1289606400</td>\n",
       "      <td>1381968000</td>\n",
       "    </tr>\n",
       "    <tr>\n",
       "      <td>reviewTime</td>\n",
       "      <td>06 21, 2011</td>\n",
       "      <td>02 20, 2014</td>\n",
       "      <td>05 17, 2013</td>\n",
       "      <td>02 27, 2013</td>\n",
       "      <td>10 30, 2013</td>\n",
       "      <td>02 2, 2013</td>\n",
       "      <td>02 3, 2013</td>\n",
       "      <td>01 24, 2014</td>\n",
       "      <td>06 13, 2013</td>\n",
       "      <td>11 22, 2013</td>\n",
       "      <td>...</td>\n",
       "      <td>04 16, 2014</td>\n",
       "      <td>07 12, 2014</td>\n",
       "      <td>05 14, 2014</td>\n",
       "      <td>11 22, 2013</td>\n",
       "      <td>07 18, 2013</td>\n",
       "      <td>03 3, 2014</td>\n",
       "      <td>03 20, 2013</td>\n",
       "      <td>02 10, 2013</td>\n",
       "      <td>11 13, 2010</td>\n",
       "      <td>10 17, 2013</td>\n",
       "    </tr>\n",
       "  </tbody>\n",
       "</table>\n",
       "<p>9 rows × 55076 columns</p>\n",
       "</div>"
      ],
      "text/plain": [
       "                                                            25130  \\\n",
       "reviewerID                                          ABUE0ALHKWKHC   \n",
       "asin                                                   B004VK5ON8   \n",
       "reviewerName                                                 Kiwi   \n",
       "helpful                                                    [0, 0]   \n",
       "reviewText      I walk my dogs in all sorts of weather so I ne...   \n",
       "overall                                                         4   \n",
       "summary         Pretty close but not completely fragrance free...   \n",
       "unixReviewTime                                         1308614400   \n",
       "reviewTime                                            06 21, 2011   \n",
       "\n",
       "                                                            51568  \\\n",
       "reviewerID                                         A22CT4ZGGD2FJF   \n",
       "asin                                                   B00HFQQ0VU   \n",
       "reviewerName                              S. Chang \"Steven Chang\"   \n",
       "helpful                                                    [1, 1]   \n",
       "reviewText      My wife and I have been using Waterpiks for ye...   \n",
       "overall                                                         4   \n",
       "summary                           Compared to the previous model.   \n",
       "unixReviewTime                                         1392854400   \n",
       "reviewTime                                            02 20, 2014   \n",
       "\n",
       "                                                            31692  \\\n",
       "reviewerID                                         A30TUN35ZE3NEU   \n",
       "asin                                                   B007DKXR64   \n",
       "reviewerName                                        Enamelation !   \n",
       "helpful                                                    [0, 1]   \n",
       "reviewText      I didn't fall asleep after some black tea and ...   \n",
       "overall                                                         2   \n",
       "summary                                               not for  me   \n",
       "unixReviewTime                                         1368748800   \n",
       "reviewTime                                            05 17, 2013   \n",
       "\n",
       "                                                            14829  \\\n",
       "reviewerID                                         A2YW1MG1GKU8XD   \n",
       "asin                                                   B002GU66BY   \n",
       "reviewerName                                             SweetPea   \n",
       "helpful                                                    [0, 0]   \n",
       "reviewText      I really wanted to like these bars, I used the...   \n",
       "overall                                                         2   \n",
       "summary                                                Not for me   \n",
       "unixReviewTime                                         1361923200   \n",
       "reviewTime                                            02 27, 2013   \n",
       "\n",
       "                                                            48343  \\\n",
       "reviewerID                                          ABNMD6670TV53   \n",
       "asin                                                   B00EZ8PR1U   \n",
       "reviewerName            R. Kolin \"Third Degree member since 1991\"   \n",
       "helpful                                                    [2, 3]   \n",
       "reviewText      I've been using Oral-B's for many years simply...   \n",
       "overall                                                         4   \n",
       "summary                    Great toothbrush with gimmick to boot!   \n",
       "unixReviewTime                                         1383091200   \n",
       "reviewTime                                            10 30, 2013   \n",
       "\n",
       "                                                            33298  \\\n",
       "reviewerID                                         A3NUUJF2S2ZWAD   \n",
       "asin                                                   B007VAGXDK   \n",
       "reviewerName                             David Jones \"fly fisher\"   \n",
       "helpful                                                    [0, 0]   \n",
       "reviewText      The Air Wick scent system is very effective an...   \n",
       "overall                                                         5   \n",
       "summary                                       Very Pleasant Scent   \n",
       "unixReviewTime                                         1359763200   \n",
       "reviewTime                                             02 2, 2013   \n",
       "\n",
       "                                                            29297  \\\n",
       "reviewerID                                         A1LHAXBM5GBJS2   \n",
       "asin                                                   B0061JPJH8   \n",
       "reviewerName                                      Scooter McGavin   \n",
       "helpful                                                    [0, 0]   \n",
       "reviewText      Deodorant has always had some weird names, but...   \n",
       "overall                                                         4   \n",
       "summary                                 Works Great, Strong Scent   \n",
       "unixReviewTime                                         1359849600   \n",
       "reviewTime                                             02 3, 2013   \n",
       "\n",
       "                                                            48747  \\\n",
       "reviewerID                                         A3F9CMU8KNAY1M   \n",
       "asin                                                   B00FSCB3PG   \n",
       "reviewerName                                     Susan \"minniesm\"   \n",
       "helpful                                                    [0, 0]   \n",
       "reviewText      For a few years now I have only used foam dish...   \n",
       "overall                                                         4   \n",
       "summary                                             Grease cutter   \n",
       "unixReviewTime                                         1390521600   \n",
       "reviewTime                                            01 24, 2014   \n",
       "\n",
       "                                                            19678  \\\n",
       "reviewerID                                         A10M94ASQEBL56   \n",
       "asin                                                   B003MP16A8   \n",
       "reviewerName                              D. Berdanis \"endymion9\"   \n",
       "helpful                                                    [0, 0]   \n",
       "reviewText      This product makes a good work snack when I do...   \n",
       "overall                                                         3   \n",
       "summary                                      Good for work snacks   \n",
       "unixReviewTime                                         1371081600   \n",
       "reviewTime                                            06 13, 2013   \n",
       "\n",
       "                                                            16371  ...  \\\n",
       "reviewerID                                         A3091RP0SPZLMN  ...   \n",
       "asin                                                   B0030HO4KM  ...   \n",
       "reviewerName                                                   BB  ...   \n",
       "helpful                                                    [0, 0]  ...   \n",
       "reviewText      I compared these to the Tum brand of Assorted ...  ...   \n",
       "overall                                                         4  ...   \n",
       "summary                                               Very Fruity  ...   \n",
       "unixReviewTime                                         1385078400  ...   \n",
       "reviewTime                                            11 22, 2013  ...   \n",
       "\n",
       "                                                            32912  \\\n",
       "reviewerID                                         A2X2WTEVCZ5L8N   \n",
       "asin                                                   B007RWFSII   \n",
       "reviewerName                                            Sandy Kay   \n",
       "helpful                                                    [0, 0]   \n",
       "reviewText      When I was a child, my mother believed in cod ...   \n",
       "overall                                                         1   \n",
       "summary                              Horrible fishy taste.  Yuck!   \n",
       "unixReviewTime                                         1397606400   \n",
       "reviewTime                                            04 16, 2014   \n",
       "\n",
       "                                                            21440  \\\n",
       "reviewerID                                          ACSX5AIZE3MJ9   \n",
       "asin                                                   B003XN4RIC   \n",
       "reviewerName                                       Values Privacy   \n",
       "helpful                                                    [0, 0]   \n",
       "reviewText      The brightness I use to read before bed is the...   \n",
       "overall                                                         3   \n",
       "summary                                                 Not ideal   \n",
       "unixReviewTime                                         1405123200   \n",
       "reviewTime                                            07 12, 2014   \n",
       "\n",
       "                                                            52047  \\\n",
       "reviewerID                                          ATS7LYGLUX34L   \n",
       "asin                                                   B00HKH0I12   \n",
       "reviewerName                                     Daniel V. Reilly   \n",
       "helpful                                                    [0, 0]   \n",
       "reviewText      I was a little wary of going back to powdered ...   \n",
       "overall                                                         5   \n",
       "summary                                                  Love it!   \n",
       "unixReviewTime                                         1400025600   \n",
       "reviewTime                                            05 14, 2014   \n",
       "\n",
       "                                                            7813   \\\n",
       "reviewerID                                         A1RRMZKOMZ2M7J   \n",
       "asin                                                   B0017OAH8I   \n",
       "reviewerName                                           Susan Katz   \n",
       "helpful                                                    [1, 1]   \n",
       "reviewText      I have difficulty sleeping through the night. ...   \n",
       "overall                                                         5   \n",
       "summary                                                 It works!   \n",
       "unixReviewTime                                         1385078400   \n",
       "reviewTime                                            11 22, 2013   \n",
       "\n",
       "                                                            43723  \\\n",
       "reviewerID                                         A2ALX5U55NTGTL   \n",
       "asin                                                   B00CDKTE48   \n",
       "reviewerName                                Danny Boy \"Danny Boy\"   \n",
       "helpful                                                    [0, 0]   \n",
       "reviewText      This is probably the most complete kit for cle...   \n",
       "overall                                                         5   \n",
       "summary                                          It's a great kit   \n",
       "unixReviewTime                                         1374105600   \n",
       "reviewTime                                            07 18, 2013   \n",
       "\n",
       "                                                            50057  \\\n",
       "reviewerID                                         A2D3MU80ME36SV   \n",
       "asin                                                   B00GM029TC   \n",
       "reviewerName                david l. poremba \"the past in review\"   \n",
       "helpful                                                    [0, 1]   \n",
       "reviewText      This product hooks on the toilet fairly easily...   \n",
       "overall                                                         3   \n",
       "summary                                        doesn't clean much   \n",
       "unixReviewTime                                         1393804800   \n",
       "reviewTime                                             03 3, 2014   \n",
       "\n",
       "                                                            32511  \\\n",
       "reviewerID                                          A6X1O3A5C5FX1   \n",
       "asin                                                   B007LEO4Y6   \n",
       "reviewerName                                                  SMB   \n",
       "helpful                                                    [0, 0]   \n",
       "reviewText      Disclaimer: Reviewing supplements is hard, sin...   \n",
       "overall                                                         4   \n",
       "summary                                           Good supplement   \n",
       "unixReviewTime                                         1363737600   \n",
       "reviewTime                                            03 20, 2013   \n",
       "\n",
       "                                                            5192   \\\n",
       "reviewerID                                          AGVWTYW0ULXHT   \n",
       "asin                                                   B0013OQGO6   \n",
       "reviewerName     Nathan Andersen \"Gadget lover and author of S...   \n",
       "helpful                                                    [0, 0]   \n",
       "reviewText      B-12 is good for your nerve tissue and brain c...   \n",
       "overall                                                         4   \n",
       "summary         An easy way to get B-12 - tastes good and chew...   \n",
       "unixReviewTime                                         1360454400   \n",
       "reviewTime                                            02 10, 2013   \n",
       "\n",
       "                                                            12172  \\\n",
       "reviewerID                                         A2Y8IDC1FKGNJC   \n",
       "asin                                                   B001N0LJ8I   \n",
       "reviewerName                                                L. A.   \n",
       "helpful                                                    [0, 0]   \n",
       "reviewText      This is a handy little stick that helps preven...   \n",
       "overall                                                         4   \n",
       "summary                                   Band Aid Friction Block   \n",
       "unixReviewTime                                         1289606400   \n",
       "reviewTime                                            11 13, 2010   \n",
       "\n",
       "                                                            33003  \n",
       "reviewerID                                         A14R9XMZVJ6INB  \n",
       "asin                                                   B007S50LLI  \n",
       "reviewerName                                              amf0001  \n",
       "helpful                                                    [0, 0]  \n",
       "reviewText      Frankly, these taste like candy.  It's like al...  \n",
       "overall                                                         4  \n",
       "summary                                 Very sweet,  and it works  \n",
       "unixReviewTime                                         1381968000  \n",
       "reviewTime                                            10 17, 2013  \n",
       "\n",
       "[9 rows x 55076 columns]"
      ]
     },
     "execution_count": 7,
     "metadata": {},
     "output_type": "execute_result"
    }
   ],
   "source": [
    "# Check out the data structure as DataFrame\n",
    "df.sample(frac=1,random_state=1).T # or df.transpose()"
   ]
  },
  {
   "cell_type": "code",
   "execution_count": 8,
   "metadata": {},
   "outputs": [
    {
     "name": "stdout",
     "output_type": "stream",
     "text": [
      "In this day and age it is hard to understand why everyone isn't using rechargable batteries.  I own about 6 packs of these batteries.  They are wonderful.  I bet I have saved hundreds of dollars so far and keep saving.  Why pay $4.00 to $5.00 for one pack of batteries that get used once and thrown away when you can purchase these and reuse them 1000 times.  I absolutely refuse to by disposable batteries for the most part.  It is true that they don't quite have the power of normal energizer alkaline batteries so they might be an issue for certain things that use a lot of power.  For example Digital Camera's take a lot of power.  But for the most part these work really well and I have used them for 3 - 4 years now.  I highly recommend them to everyone.\n"
     ]
    }
   ],
   "source": [
    "# Check out sample 'reviewText'\n",
    "print(df['reviewText'][1])"
   ]
  },
  {
   "cell_type": "code",
   "execution_count": 9,
   "metadata": {},
   "outputs": [
    {
     "name": "stdout",
     "output_type": "stream",
     "text": [
      "SAVE LOTS OF MONEY AND THE ENVIRONMENT AT THE SAME TIME\n"
     ]
    }
   ],
   "source": [
    "# Check out sample 'summary'\n",
    "print(df['summary'][1])"
   ]
  },
  {
   "cell_type": "markdown",
   "metadata": {},
   "source": [
    "<div class=\"span7 alert alert-success\">\n",
    "    \n",
    "**Each row corresponds to a customers' review information and related variables are explained below:**\n",
    "\n",
    "reviewerID : ID of the reviewer\n",
    "\n",
    "asin : ID of the product \n",
    "\n",
    "reviewerName : name of the reviewer \n",
    "\n",
    "helpful : helpfulness of the review, e.g. 3/4\n",
    "\n",
    "reviewText : text of the review \n",
    "\n",
    "overall : rating \n",
    "\n",
    "summary : summary of the review \n",
    "\n",
    "unixReviewTime : time of the review (unix time) \n",
    "\n",
    "reviewTime : time of the review (raw)\n",
    "</div> "
   ]
  },
  {
   "cell_type": "code",
   "execution_count": 10,
   "metadata": {},
   "outputs": [
    {
     "data": {
      "text/plain": [
       "0.0"
      ]
     },
     "execution_count": 10,
     "metadata": {},
     "output_type": "execute_result"
    }
   ],
   "source": [
    "# Checking abnormality on dataset\n",
    "df.overall[df['overall']<1].sum()"
   ]
  },
  {
   "cell_type": "code",
   "execution_count": 11,
   "metadata": {},
   "outputs": [
    {
     "data": {
      "text/plain": [
       "0.0"
      ]
     },
     "execution_count": 11,
     "metadata": {},
     "output_type": "execute_result"
    }
   ],
   "source": [
    "# Checking abnormality on dataset\n",
    "df.overall[df['overall']>5].sum()"
   ]
  },
  {
   "cell_type": "markdown",
   "metadata": {},
   "source": [
    ">There isn't rating out of defined 1-5 range on 'overall'.  Let's see how many customers give ratings for each category."
   ]
  },
  {
   "cell_type": "code",
   "execution_count": 12,
   "metadata": {},
   "outputs": [
    {
     "data": {
      "text/plain": [
       "5.0    24050\n",
       "4.0    18064\n",
       "3.0     8317\n",
       "2.0     3151\n",
       "1.0     1494\n",
       "Name: overall, dtype: int64"
      ]
     },
     "execution_count": 12,
     "metadata": {},
     "output_type": "execute_result"
    }
   ],
   "source": [
    "# Customer totals for each rating\n",
    "df.overall.value_counts()"
   ]
  },
  {
   "cell_type": "markdown",
   "metadata": {},
   "source": [
    "## Heating maps for missing values"
   ]
  },
  {
   "cell_type": "code",
   "execution_count": 13,
   "metadata": {},
   "outputs": [
    {
     "data": {
      "text/plain": [
       "(array([0.5, 1.5, 2.5, 3.5, 4.5, 5.5, 6.5, 7.5, 8.5]),\n",
       " <a list of 9 Text xticklabel objects>)"
      ]
     },
     "execution_count": 13,
     "metadata": {},
     "output_type": "execute_result"
    },
    {
     "data": {
      "image/png": "[encoded data removed]",
      "text/plain": [
       "<Figure size 864x504 with 1 Axes>"
      ]
     },
     "metadata": {
      "needs_background": "light"
     },
     "output_type": "display_data"
    }
   ],
   "source": [
    "#checking missing value through heatmap\n",
    "plt.figure(figsize=(12,7))\n",
    "sns.set()\n",
    "sns.heatmap(df.isnull(),yticklabels=False,cbar=False,cmap='viridis')\n",
    "plt.xticks(fontsize=13,rotation=20)"
   ]
  },
  {
   "cell_type": "code",
   "execution_count": 14,
   "metadata": {},
   "outputs": [
    {
     "data": {
      "text/plain": [
       "reviewerID          0\n",
       "asin                0\n",
       "reviewerName      289\n",
       "helpful             0\n",
       "reviewText          0\n",
       "overall             0\n",
       "summary             0\n",
       "unixReviewTime      0\n",
       "reviewTime          0\n",
       "dtype: int64"
      ]
     },
     "execution_count": 14,
     "metadata": {},
     "output_type": "execute_result"
    }
   ],
   "source": [
    "# # Check for missing values\n",
    "df.isnull().sum()"
   ]
  },
  {
   "cell_type": "markdown",
   "metadata": {},
   "source": [
    "## **Some information about dataset so far:**\n",
    "\n",
    "This data includes 55076 rows(observations) and 9 columns(feature variables). \n",
    "\n",
    "Memory usage is 4.2+ MB. \n",
    "\n",
    "In the dataset, we have 7 object, 1 float64 and 1 int64 data types. \n",
    "\n",
    "289 'reviewerName' information is missing in the dataset. Since customer don't give their name, we should be suspicious about their reviews and ratings. I would prefer to drop the missing values from dataset  since we have enough observations to conclude a decision for sentiment analysis. \n",
    "\n",
    "We should concatenate 'reviewText' and 'summary' since both of them gives information about product, and also drop both 'reviewText' and 'summary' column at the end. \n",
    "\n",
    "'helpful' variable includes positive (thumbs up)  and negative (thumbs down) feedback for reviews' information, it will be splitted into two columns: positive feedback will be represented as \"pos_feedback\" , and negative feedback will be represented as \"neg_feedback\". Also, 'helpful' variable will be represented as an int64 type in the dataset via that step.\n",
    "\n",
    "We should classify the 'overall' (ratings) as good, neutral and bad in order to make sentiment analysis. \n",
    "\n",
    "In the dataset, 'reviewerID' and 'reviwerName' are both for identification of customer. We should drop one of them from the dataset. Preferably, I will drop 'reviewerName' since customer names are not standardized and there are lots of different sytle to represent them.\n",
    "\n",
    "'unixReviewTime' will be dropped since it has already been represented in 'reviewTime' feature in a more understandable format. Also, 'reviewTime' will be converted to datetime data type. \n",
    "\n",
    "We will rename the columns in order to improve practicality and the readibility of coding as stated below: \n",
    "\n",
    "- reviewerID : \"customer\"\n",
    "\n",
    "- asin : \"product\"\n",
    "\n",
    "- reviewerName : column will be dropped.\n",
    "\n",
    "- helpful : positive feedback will be represented as \"pos_feedback\" , neutral feedback will be represented as \"neut_feedback\" and negative feedback will be represented as \"neg_feedback\".\n",
    "\n",
    "- reviewText : This will be concatenated with \"summary\" and renamed as \"review_text\"\n",
    "\n",
    "- overall : \"rating\" \n",
    "\n",
    "- summary : it will be dropped after it is concatenated with \"reviewerText\".\n",
    "\n",
    "- unixReviewTime : column will be dropped. \n",
    "\n",
    "- reviewTime : \"time\"\n",
    "\n",
    "Now, we will practice all defined action items above. "
   ]
  },
  {
   "cell_type": "markdown",
   "metadata": {},
   "source": [
    "## Dropping Missing Values"
   ]
  },
  {
   "cell_type": "code",
   "execution_count": 15,
   "metadata": {},
   "outputs": [],
   "source": [
    "# Drop missing customers who don't give their names\n",
    "df1=df.dropna(axis=0)"
   ]
  },
  {
   "cell_type": "code",
   "execution_count": 16,
   "metadata": {},
   "outputs": [
    {
     "data": {
      "text/plain": [
       "5.0    23922\n",
       "4.0    17957\n",
       "3.0     8283\n",
       "2.0     3139\n",
       "1.0     1486\n",
       "Name: overall, dtype: int64"
      ]
     },
     "execution_count": 16,
     "metadata": {},
     "output_type": "execute_result"
    }
   ],
   "source": [
    "# Customer totals for each rating (after drop missing values)\n",
    "df1.overall.value_counts()"
   ]
  },
  {
   "cell_type": "markdown",
   "metadata": {},
   "source": [
    "## Concatenating 'reviewText' and 'summary' columns"
   ]
  },
  {
   "cell_type": "code",
   "execution_count": 17,
   "metadata": {
    "scrolled": true
   },
   "outputs": [
    {
     "data": {
      "text/html": [
       "<div>\n",
       "<style scoped>\n",
       "    .dataframe tbody tr th:only-of-type {\n",
       "        vertical-align: middle;\n",
       "    }\n",
       "\n",
       "    .dataframe tbody tr th {\n",
       "        vertical-align: top;\n",
       "    }\n",
       "\n",
       "    .dataframe thead th {\n",
       "        text-align: right;\n",
       "    }\n",
       "</style>\n",
       "<table border=\"1\" class=\"dataframe\">\n",
       "  <thead>\n",
       "    <tr style=\"text-align: right;\">\n",
       "      <th></th>\n",
       "      <th>reviewerID</th>\n",
       "      <th>asin</th>\n",
       "      <th>reviewerName</th>\n",
       "      <th>helpful</th>\n",
       "      <th>overall</th>\n",
       "      <th>unixReviewTime</th>\n",
       "      <th>reviewTime</th>\n",
       "      <th>review_text</th>\n",
       "    </tr>\n",
       "  </thead>\n",
       "  <tbody>\n",
       "    <tr>\n",
       "      <td>0</td>\n",
       "      <td>A1N655X9X7C6QY</td>\n",
       "      <td>B00000J47L</td>\n",
       "      <td>C. Cook \"LIVE..........LOVE........AND..........</td>\n",
       "      <td>[0, 0]</td>\n",
       "      <td>5.0</td>\n",
       "      <td>1357948800</td>\n",
       "      <td>01 12, 2013</td>\n",
       "      <td>Right out of the box and ready to go !Everythi...</td>\n",
       "    </tr>\n",
       "    <tr>\n",
       "      <td>1</td>\n",
       "      <td>AEL6CQNQXONBX</td>\n",
       "      <td>B00000J47L</td>\n",
       "      <td>Cute Chihuahua</td>\n",
       "      <td>[1, 1]</td>\n",
       "      <td>5.0</td>\n",
       "      <td>1227571200</td>\n",
       "      <td>11 25, 2008</td>\n",
       "      <td>In this day and age it is hard to understand w...</td>\n",
       "    </tr>\n",
       "    <tr>\n",
       "      <td>2</td>\n",
       "      <td>A2032LF6FWWK8E</td>\n",
       "      <td>B00000J47L</td>\n",
       "      <td>Jay Riemenschneider</td>\n",
       "      <td>[6, 10]</td>\n",
       "      <td>5.0</td>\n",
       "      <td>1141689600</td>\n",
       "      <td>03 7, 2006</td>\n",
       "      <td>At 2500ah, these rechargeable NiMh batteries p...</td>\n",
       "    </tr>\n",
       "  </tbody>\n",
       "</table>\n",
       "</div>"
      ],
      "text/plain": [
       "       reviewerID        asin  \\\n",
       "0  A1N655X9X7C6QY  B00000J47L   \n",
       "1   AEL6CQNQXONBX  B00000J47L   \n",
       "2  A2032LF6FWWK8E  B00000J47L   \n",
       "\n",
       "                                       reviewerName  helpful  overall  \\\n",
       "0  C. Cook \"LIVE..........LOVE........AND..........   [0, 0]      5.0   \n",
       "1                                    Cute Chihuahua   [1, 1]      5.0   \n",
       "2                               Jay Riemenschneider  [6, 10]      5.0   \n",
       "\n",
       "   unixReviewTime   reviewTime  \\\n",
       "0      1357948800  01 12, 2013   \n",
       "1      1227571200  11 25, 2008   \n",
       "2      1141689600   03 7, 2006   \n",
       "\n",
       "                                         review_text  \n",
       "0  Right out of the box and ready to go !Everythi...  \n",
       "1  In this day and age it is hard to understand w...  \n",
       "2  At 2500ah, these rechargeable NiMh batteries p...  "
      ]
     },
     "execution_count": 17,
     "metadata": {},
     "output_type": "execute_result"
    }
   ],
   "source": [
    "df1['review_text']=df1.reviewText.str.cat(df1.summary,sep=' ')\n",
    "df1=df1.drop(['summary','reviewText'],axis=1)\n",
    "df1.head(3)"
   ]
  },
  {
   "cell_type": "markdown",
   "metadata": {},
   "source": [
    "## Splitting 'helpful' column into two separate columns"
   ]
  },
  {
   "cell_type": "code",
   "execution_count": 18,
   "metadata": {},
   "outputs": [
    {
     "data": {
      "text/html": [
       "<div>\n",
       "<style scoped>\n",
       "    .dataframe tbody tr th:only-of-type {\n",
       "        vertical-align: middle;\n",
       "    }\n",
       "\n",
       "    .dataframe tbody tr th {\n",
       "        vertical-align: top;\n",
       "    }\n",
       "\n",
       "    .dataframe thead th {\n",
       "        text-align: right;\n",
       "    }\n",
       "</style>\n",
       "<table border=\"1\" class=\"dataframe\">\n",
       "  <thead>\n",
       "    <tr style=\"text-align: right;\">\n",
       "      <th></th>\n",
       "      <th>reviewerID</th>\n",
       "      <th>asin</th>\n",
       "      <th>reviewerName</th>\n",
       "      <th>overall</th>\n",
       "      <th>unixReviewTime</th>\n",
       "      <th>reviewTime</th>\n",
       "      <th>review_text</th>\n",
       "      <th>pos_feedback</th>\n",
       "      <th>neg_feedback</th>\n",
       "    </tr>\n",
       "  </thead>\n",
       "  <tbody>\n",
       "    <tr>\n",
       "      <td>0</td>\n",
       "      <td>A1N655X9X7C6QY</td>\n",
       "      <td>B00000J47L</td>\n",
       "      <td>C. Cook \"LIVE..........LOVE........AND..........</td>\n",
       "      <td>5.0</td>\n",
       "      <td>1357948800</td>\n",
       "      <td>01 12, 2013</td>\n",
       "      <td>Right out of the box and ready to go !Everythi...</td>\n",
       "      <td>0</td>\n",
       "      <td>0</td>\n",
       "    </tr>\n",
       "    <tr>\n",
       "      <td>1</td>\n",
       "      <td>AEL6CQNQXONBX</td>\n",
       "      <td>B00000J47L</td>\n",
       "      <td>Cute Chihuahua</td>\n",
       "      <td>5.0</td>\n",
       "      <td>1227571200</td>\n",
       "      <td>11 25, 2008</td>\n",
       "      <td>In this day and age it is hard to understand w...</td>\n",
       "      <td>1</td>\n",
       "      <td>0</td>\n",
       "    </tr>\n",
       "    <tr>\n",
       "      <td>2</td>\n",
       "      <td>A2032LF6FWWK8E</td>\n",
       "      <td>B00000J47L</td>\n",
       "      <td>Jay Riemenschneider</td>\n",
       "      <td>5.0</td>\n",
       "      <td>1141689600</td>\n",
       "      <td>03 7, 2006</td>\n",
       "      <td>At 2500ah, these rechargeable NiMh batteries p...</td>\n",
       "      <td>6</td>\n",
       "      <td>4</td>\n",
       "    </tr>\n",
       "  </tbody>\n",
       "</table>\n",
       "</div>"
      ],
      "text/plain": [
       "       reviewerID        asin  \\\n",
       "0  A1N655X9X7C6QY  B00000J47L   \n",
       "1   AEL6CQNQXONBX  B00000J47L   \n",
       "2  A2032LF6FWWK8E  B00000J47L   \n",
       "\n",
       "                                       reviewerName  overall  unixReviewTime  \\\n",
       "0  C. Cook \"LIVE..........LOVE........AND..........      5.0      1357948800   \n",
       "1                                    Cute Chihuahua      5.0      1227571200   \n",
       "2                               Jay Riemenschneider      5.0      1141689600   \n",
       "\n",
       "    reviewTime                                        review_text  \\\n",
       "0  01 12, 2013  Right out of the box and ready to go !Everythi...   \n",
       "1  11 25, 2008  In this day and age it is hard to understand w...   \n",
       "2   03 7, 2006  At 2500ah, these rechargeable NiMh batteries p...   \n",
       "\n",
       "   pos_feedback  neg_feedback  \n",
       "0             0             0  \n",
       "1             1             0  \n",
       "2             6             4  "
      ]
     },
     "execution_count": 18,
     "metadata": {},
     "output_type": "execute_result"
    }
   ],
   "source": [
    "# Splitting 'helpful column' into 'neg_feedback' and 'pos_feedback' and drop it at the end\n",
    "list_pos = [help[0] for help in df1['helpful']]\n",
    "list_neg = [help[1]-help[0] for help in df1['helpful']]\n",
    "\n",
    "# Positive Feedback (Supporting reviewer's idea and find it useful)\n",
    "df1['pos_feedback']=list_pos\n",
    "\n",
    "# Negative Feedback (Finding reviewer's idea useless and not supporting it)\n",
    "df1['neg_feedback']=list_neg\n",
    "\n",
    "# Drop unnecessary 'helpful' column\n",
    "df1=df1.drop('helpful',axis=1)\n",
    "df1.head(3)\n"
   ]
  },
  {
   "cell_type": "markdown",
   "metadata": {},
   "source": [
    "## Classifying the 'overall' (ratings) as good ,neutral and bad"
   ]
  },
  {
   "cell_type": "code",
   "execution_count": 19,
   "metadata": {},
   "outputs": [
    {
     "name": "stdout",
     "output_type": "stream",
     "text": [
      "Good ratings    : 41879 reviwes for health and personal care products.\n",
      "Neutral ratings :  8283 reviwes for health and personal care products.\n",
      "Bad ratings     :  4625 reviwes for health and personal care products.\n"
     ]
    }
   ],
   "source": [
    "# Classifying ratings as good ,neutral and bad\n",
    "good_rate    = len (df1 [df1['overall'] > 3])\n",
    "neutral_rate = len (df1 [df1['overall'] == 3])\n",
    "bad_rate     = len (df1 [df1['overall'] < 3])\n",
    "\n",
    "# Printing rates and their total numbers\n",
    "\n",
    "print ( 'Good ratings    : {} reviwes for health and personal care products.'.format(good_rate))\n",
    "print ( 'Neutral ratings :  {} reviwes for health and personal care products.'.format(neutral_rate))\n",
    "print ( 'Bad ratings     :  {} reviwes for health and personal care products.'.format(bad_rate))\n"
   ]
  },
  {
   "cell_type": "code",
   "execution_count": 20,
   "metadata": {
    "scrolled": true
   },
   "outputs": [
    {
     "data": {
      "text/html": [
       "<div>\n",
       "<style scoped>\n",
       "    .dataframe tbody tr th:only-of-type {\n",
       "        vertical-align: middle;\n",
       "    }\n",
       "\n",
       "    .dataframe tbody tr th {\n",
       "        vertical-align: top;\n",
       "    }\n",
       "\n",
       "    .dataframe thead th {\n",
       "        text-align: right;\n",
       "    }\n",
       "</style>\n",
       "<table border=\"1\" class=\"dataframe\">\n",
       "  <thead>\n",
       "    <tr style=\"text-align: right;\">\n",
       "      <th></th>\n",
       "      <th>reviewerID</th>\n",
       "      <th>asin</th>\n",
       "      <th>reviewerName</th>\n",
       "      <th>overall</th>\n",
       "      <th>unixReviewTime</th>\n",
       "      <th>reviewTime</th>\n",
       "      <th>review_text</th>\n",
       "      <th>pos_feedback</th>\n",
       "      <th>neg_feedback</th>\n",
       "      <th>rating_class</th>\n",
       "    </tr>\n",
       "  </thead>\n",
       "  <tbody>\n",
       "    <tr>\n",
       "      <td>0</td>\n",
       "      <td>A1N655X9X7C6QY</td>\n",
       "      <td>B00000J47L</td>\n",
       "      <td>C. Cook \"LIVE..........LOVE........AND..........</td>\n",
       "      <td>5.0</td>\n",
       "      <td>1357948800</td>\n",
       "      <td>01 12, 2013</td>\n",
       "      <td>Right out of the box and ready to go !Everythi...</td>\n",
       "      <td>0</td>\n",
       "      <td>0</td>\n",
       "      <td>good</td>\n",
       "    </tr>\n",
       "    <tr>\n",
       "      <td>1</td>\n",
       "      <td>AEL6CQNQXONBX</td>\n",
       "      <td>B00000J47L</td>\n",
       "      <td>Cute Chihuahua</td>\n",
       "      <td>5.0</td>\n",
       "      <td>1227571200</td>\n",
       "      <td>11 25, 2008</td>\n",
       "      <td>In this day and age it is hard to understand w...</td>\n",
       "      <td>1</td>\n",
       "      <td>0</td>\n",
       "      <td>good</td>\n",
       "    </tr>\n",
       "    <tr>\n",
       "      <td>2</td>\n",
       "      <td>A2032LF6FWWK8E</td>\n",
       "      <td>B00000J47L</td>\n",
       "      <td>Jay Riemenschneider</td>\n",
       "      <td>5.0</td>\n",
       "      <td>1141689600</td>\n",
       "      <td>03 7, 2006</td>\n",
       "      <td>At 2500ah, these rechargeable NiMh batteries p...</td>\n",
       "      <td>6</td>\n",
       "      <td>4</td>\n",
       "      <td>good</td>\n",
       "    </tr>\n",
       "  </tbody>\n",
       "</table>\n",
       "</div>"
      ],
      "text/plain": [
       "       reviewerID        asin  \\\n",
       "0  A1N655X9X7C6QY  B00000J47L   \n",
       "1   AEL6CQNQXONBX  B00000J47L   \n",
       "2  A2032LF6FWWK8E  B00000J47L   \n",
       "\n",
       "                                       reviewerName  overall  unixReviewTime  \\\n",
       "0  C. Cook \"LIVE..........LOVE........AND..........      5.0      1357948800   \n",
       "1                                    Cute Chihuahua      5.0      1227571200   \n",
       "2                               Jay Riemenschneider      5.0      1141689600   \n",
       "\n",
       "    reviewTime                                        review_text  \\\n",
       "0  01 12, 2013  Right out of the box and ready to go !Everythi...   \n",
       "1  11 25, 2008  In this day and age it is hard to understand w...   \n",
       "2   03 7, 2006  At 2500ah, these rechargeable NiMh batteries p...   \n",
       "\n",
       "   pos_feedback  neg_feedback rating_class  \n",
       "0             0             0         good  \n",
       "1             1             0         good  \n",
       "2             6             4         good  "
      ]
     },
     "execution_count": 20,
     "metadata": {},
     "output_type": "execute_result"
    }
   ],
   "source": [
    "# Applying the new classification to the ratinga column\n",
    "\n",
    "list_rate_class=[]\n",
    "\n",
    "for x in df1['overall']:\n",
    "    \n",
    "    if x < 3 :\n",
    "        list_rate_class.append('bad')\n",
    "        \n",
    "    elif x==3 :\n",
    "        list_rate_class.append('neutral')\n",
    "        \n",
    "    else :\n",
    "        list_rate_class.append('good')\n",
    "\n",
    "\n",
    "df1['rating_class'] = list_rate_class\n",
    "\n",
    "\n",
    "\n",
    "# Drop unnecessary column overall\n",
    "df1=df1\n",
    "df1.head(3)"
   ]
  },
  {
   "cell_type": "markdown",
   "metadata": {},
   "source": [
    "<font color=green> **After applying the new classification, I have a new column named as 'rating_class' consists of three classes which are 'good, neutral and bad'.** </font>"
   ]
  },
  {
   "cell_type": "markdown",
   "metadata": {},
   "source": [
    "## Dropping multiply columns about customer ('reviwerName') and time ('unixReviewTime)"
   ]
  },
  {
   "cell_type": "code",
   "execution_count": 21,
   "metadata": {},
   "outputs": [
    {
     "data": {
      "text/html": [
       "<div>\n",
       "<style scoped>\n",
       "    .dataframe tbody tr th:only-of-type {\n",
       "        vertical-align: middle;\n",
       "    }\n",
       "\n",
       "    .dataframe tbody tr th {\n",
       "        vertical-align: top;\n",
       "    }\n",
       "\n",
       "    .dataframe thead th {\n",
       "        text-align: right;\n",
       "    }\n",
       "</style>\n",
       "<table border=\"1\" class=\"dataframe\">\n",
       "  <thead>\n",
       "    <tr style=\"text-align: right;\">\n",
       "      <th></th>\n",
       "      <th>reviewerID</th>\n",
       "      <th>asin</th>\n",
       "      <th>overall</th>\n",
       "      <th>reviewTime</th>\n",
       "      <th>review_text</th>\n",
       "      <th>pos_feedback</th>\n",
       "      <th>neg_feedback</th>\n",
       "      <th>rating_class</th>\n",
       "    </tr>\n",
       "  </thead>\n",
       "  <tbody>\n",
       "    <tr>\n",
       "      <td>0</td>\n",
       "      <td>A1N655X9X7C6QY</td>\n",
       "      <td>B00000J47L</td>\n",
       "      <td>5.0</td>\n",
       "      <td>01 12, 2013</td>\n",
       "      <td>Right out of the box and ready to go !Everythi...</td>\n",
       "      <td>0</td>\n",
       "      <td>0</td>\n",
       "      <td>good</td>\n",
       "    </tr>\n",
       "    <tr>\n",
       "      <td>1</td>\n",
       "      <td>AEL6CQNQXONBX</td>\n",
       "      <td>B00000J47L</td>\n",
       "      <td>5.0</td>\n",
       "      <td>11 25, 2008</td>\n",
       "      <td>In this day and age it is hard to understand w...</td>\n",
       "      <td>1</td>\n",
       "      <td>0</td>\n",
       "      <td>good</td>\n",
       "    </tr>\n",
       "    <tr>\n",
       "      <td>2</td>\n",
       "      <td>A2032LF6FWWK8E</td>\n",
       "      <td>B00000J47L</td>\n",
       "      <td>5.0</td>\n",
       "      <td>03 7, 2006</td>\n",
       "      <td>At 2500ah, these rechargeable NiMh batteries p...</td>\n",
       "      <td>6</td>\n",
       "      <td>4</td>\n",
       "      <td>good</td>\n",
       "    </tr>\n",
       "  </tbody>\n",
       "</table>\n",
       "</div>"
      ],
      "text/plain": [
       "       reviewerID        asin  overall   reviewTime  \\\n",
       "0  A1N655X9X7C6QY  B00000J47L      5.0  01 12, 2013   \n",
       "1   AEL6CQNQXONBX  B00000J47L      5.0  11 25, 2008   \n",
       "2  A2032LF6FWWK8E  B00000J47L      5.0   03 7, 2006   \n",
       "\n",
       "                                         review_text  pos_feedback  \\\n",
       "0  Right out of the box and ready to go !Everythi...             0   \n",
       "1  In this day and age it is hard to understand w...             1   \n",
       "2  At 2500ah, these rechargeable NiMh batteries p...             6   \n",
       "\n",
       "   neg_feedback rating_class  \n",
       "0             0         good  \n",
       "1             0         good  \n",
       "2             4         good  "
      ]
     },
     "execution_count": 21,
     "metadata": {},
     "output_type": "execute_result"
    }
   ],
   "source": [
    "# Drop 'reviewName' and ' unixReviewTime' columns\n",
    "df1=df1.drop(['reviewerName','unixReviewTime'],axis=1)\n",
    "df1.head(3)"
   ]
  },
  {
   "cell_type": "markdown",
   "metadata": {},
   "source": [
    "## Organizing 'time' column"
   ]
  },
  {
   "cell_type": "code",
   "execution_count": 22,
   "metadata": {},
   "outputs": [
    {
     "data": {
      "text/html": [
       "<div>\n",
       "<style scoped>\n",
       "    .dataframe tbody tr th:only-of-type {\n",
       "        vertical-align: middle;\n",
       "    }\n",
       "\n",
       "    .dataframe tbody tr th {\n",
       "        vertical-align: top;\n",
       "    }\n",
       "\n",
       "    .dataframe thead th {\n",
       "        text-align: right;\n",
       "    }\n",
       "</style>\n",
       "<table border=\"1\" class=\"dataframe\">\n",
       "  <thead>\n",
       "    <tr style=\"text-align: right;\">\n",
       "      <th></th>\n",
       "      <th>reviewerID</th>\n",
       "      <th>asin</th>\n",
       "      <th>overall</th>\n",
       "      <th>review_text</th>\n",
       "      <th>pos_feedback</th>\n",
       "      <th>neg_feedback</th>\n",
       "      <th>rating_class</th>\n",
       "      <th>time</th>\n",
       "    </tr>\n",
       "  </thead>\n",
       "  <tbody>\n",
       "    <tr>\n",
       "      <td>0</td>\n",
       "      <td>A1N655X9X7C6QY</td>\n",
       "      <td>B00000J47L</td>\n",
       "      <td>5.0</td>\n",
       "      <td>Right out of the box and ready to go !Everythi...</td>\n",
       "      <td>0</td>\n",
       "      <td>0</td>\n",
       "      <td>good</td>\n",
       "      <td>2013-01-12</td>\n",
       "    </tr>\n",
       "    <tr>\n",
       "      <td>1</td>\n",
       "      <td>AEL6CQNQXONBX</td>\n",
       "      <td>B00000J47L</td>\n",
       "      <td>5.0</td>\n",
       "      <td>In this day and age it is hard to understand w...</td>\n",
       "      <td>1</td>\n",
       "      <td>0</td>\n",
       "      <td>good</td>\n",
       "      <td>2008-11-25</td>\n",
       "    </tr>\n",
       "    <tr>\n",
       "      <td>2</td>\n",
       "      <td>A2032LF6FWWK8E</td>\n",
       "      <td>B00000J47L</td>\n",
       "      <td>5.0</td>\n",
       "      <td>At 2500ah, these rechargeable NiMh batteries p...</td>\n",
       "      <td>6</td>\n",
       "      <td>4</td>\n",
       "      <td>good</td>\n",
       "      <td>2006-03-07</td>\n",
       "    </tr>\n",
       "  </tbody>\n",
       "</table>\n",
       "</div>"
      ],
      "text/plain": [
       "       reviewerID        asin  overall  \\\n",
       "0  A1N655X9X7C6QY  B00000J47L      5.0   \n",
       "1   AEL6CQNQXONBX  B00000J47L      5.0   \n",
       "2  A2032LF6FWWK8E  B00000J47L      5.0   \n",
       "\n",
       "                                         review_text  pos_feedback  \\\n",
       "0  Right out of the box and ready to go !Everythi...             0   \n",
       "1  In this day and age it is hard to understand w...             1   \n",
       "2  At 2500ah, these rechargeable NiMh batteries p...             6   \n",
       "\n",
       "   neg_feedback rating_class       time  \n",
       "0             0         good 2013-01-12  \n",
       "1             0         good 2008-11-25  \n",
       "2             4         good 2006-03-07  "
      ]
     },
     "execution_count": 22,
     "metadata": {},
     "output_type": "execute_result"
    }
   ],
   "source": [
    "# Convert time object to datetime and create a new column named 'time'\n",
    "df1['time'] = df1['reviewTime'].str.replace(',',\"\")\n",
    "df1['time'] = pd.to_datetime(df1['time'],format = '%m %d %Y')\n",
    "\n",
    "# Drop unnecessary 'reviewTime' column\n",
    "df1 = df1.drop('reviewTime',axis=1)\n",
    "df1.head(3)\n",
    "\n"
   ]
  },
  {
   "cell_type": "code",
   "execution_count": 23,
   "metadata": {},
   "outputs": [
    {
     "data": {
      "text/plain": [
       "pandas._libs.tslibs.timestamps.Timestamp"
      ]
     },
     "execution_count": 23,
     "metadata": {},
     "output_type": "execute_result"
    }
   ],
   "source": [
    "# Check the 'time' data type with a sample observation\n",
    "type(df1['time'][110])"
   ]
  },
  {
   "cell_type": "markdown",
   "metadata": {},
   "source": [
    "## Creating 'year' column from  'reviewTime' column"
   ]
  },
  {
   "cell_type": "code",
   "execution_count": 24,
   "metadata": {
    "scrolled": false
   },
   "outputs": [
    {
     "data": {
      "text/html": [
       "<div>\n",
       "<style scoped>\n",
       "    .dataframe tbody tr th:only-of-type {\n",
       "        vertical-align: middle;\n",
       "    }\n",
       "\n",
       "    .dataframe tbody tr th {\n",
       "        vertical-align: top;\n",
       "    }\n",
       "\n",
       "    .dataframe thead th {\n",
       "        text-align: right;\n",
       "    }\n",
       "</style>\n",
       "<table border=\"1\" class=\"dataframe\">\n",
       "  <thead>\n",
       "    <tr style=\"text-align: right;\">\n",
       "      <th></th>\n",
       "      <th>reviewerID</th>\n",
       "      <th>asin</th>\n",
       "      <th>overall</th>\n",
       "      <th>review_text</th>\n",
       "      <th>pos_feedback</th>\n",
       "      <th>neg_feedback</th>\n",
       "      <th>rating_class</th>\n",
       "      <th>time</th>\n",
       "      <th>year</th>\n",
       "    </tr>\n",
       "  </thead>\n",
       "  <tbody>\n",
       "    <tr>\n",
       "      <td>0</td>\n",
       "      <td>A1N655X9X7C6QY</td>\n",
       "      <td>B00000J47L</td>\n",
       "      <td>5.0</td>\n",
       "      <td>Right out of the box and ready to go !Everythi...</td>\n",
       "      <td>0</td>\n",
       "      <td>0</td>\n",
       "      <td>good</td>\n",
       "      <td>2013-01-12</td>\n",
       "      <td>2013</td>\n",
       "    </tr>\n",
       "    <tr>\n",
       "      <td>1</td>\n",
       "      <td>AEL6CQNQXONBX</td>\n",
       "      <td>B00000J47L</td>\n",
       "      <td>5.0</td>\n",
       "      <td>In this day and age it is hard to understand w...</td>\n",
       "      <td>1</td>\n",
       "      <td>0</td>\n",
       "      <td>good</td>\n",
       "      <td>2008-11-25</td>\n",
       "      <td>2008</td>\n",
       "    </tr>\n",
       "    <tr>\n",
       "      <td>2</td>\n",
       "      <td>A2032LF6FWWK8E</td>\n",
       "      <td>B00000J47L</td>\n",
       "      <td>5.0</td>\n",
       "      <td>At 2500ah, these rechargeable NiMh batteries p...</td>\n",
       "      <td>6</td>\n",
       "      <td>4</td>\n",
       "      <td>good</td>\n",
       "      <td>2006-03-07</td>\n",
       "      <td>2006</td>\n",
       "    </tr>\n",
       "  </tbody>\n",
       "</table>\n",
       "</div>"
      ],
      "text/plain": [
       "       reviewerID        asin  overall  \\\n",
       "0  A1N655X9X7C6QY  B00000J47L      5.0   \n",
       "1   AEL6CQNQXONBX  B00000J47L      5.0   \n",
       "2  A2032LF6FWWK8E  B00000J47L      5.0   \n",
       "\n",
       "                                         review_text  pos_feedback  \\\n",
       "0  Right out of the box and ready to go !Everythi...             0   \n",
       "1  In this day and age it is hard to understand w...             1   \n",
       "2  At 2500ah, these rechargeable NiMh batteries p...             6   \n",
       "\n",
       "   neg_feedback rating_class       time  year  \n",
       "0             0         good 2013-01-12  2013  \n",
       "1             0         good 2008-11-25  2008  \n",
       "2             4         good 2006-03-07  2006  "
      ]
     },
     "execution_count": 24,
     "metadata": {},
     "output_type": "execute_result"
    }
   ],
   "source": [
    "# Arrange 'year' column from 'time 'column\n",
    "\n",
    "#df1['year']=pd.to_datetime(df1['time']).dt.year\n",
    "\n",
    "df1['year']=df1['time'].dt.year\n",
    "df1.head(3)"
   ]
  },
  {
   "cell_type": "code",
   "execution_count": 25,
   "metadata": {},
   "outputs": [
    {
     "data": {
      "text/plain": [
       "array([2013, 2008, 2006, 2009, 2010, 2012, 2011, 2007, 2014, 2004, 2005])"
      ]
     },
     "execution_count": 25,
     "metadata": {},
     "output_type": "execute_result"
    }
   ],
   "source": [
    "df1['year'].unique()\n"
   ]
  },
  {
   "cell_type": "markdown",
   "metadata": {},
   "source": [
    "## Rename column names"
   ]
  },
  {
   "cell_type": "code",
   "execution_count": 26,
   "metadata": {},
   "outputs": [
    {
     "data": {
      "text/html": [
       "<div>\n",
       "<style scoped>\n",
       "    .dataframe tbody tr th:only-of-type {\n",
       "        vertical-align: middle;\n",
       "    }\n",
       "\n",
       "    .dataframe tbody tr th {\n",
       "        vertical-align: top;\n",
       "    }\n",
       "\n",
       "    .dataframe thead th {\n",
       "        text-align: right;\n",
       "    }\n",
       "</style>\n",
       "<table border=\"1\" class=\"dataframe\">\n",
       "  <thead>\n",
       "    <tr style=\"text-align: right;\">\n",
       "      <th></th>\n",
       "      <th>customer</th>\n",
       "      <th>product</th>\n",
       "      <th>rating</th>\n",
       "      <th>review_text</th>\n",
       "      <th>pos_feedback</th>\n",
       "      <th>neg_feedback</th>\n",
       "      <th>rating_class</th>\n",
       "      <th>time</th>\n",
       "      <th>year</th>\n",
       "    </tr>\n",
       "  </thead>\n",
       "  <tbody>\n",
       "    <tr>\n",
       "      <td>55075</td>\n",
       "      <td>A2I8KUDXTC9WYI</td>\n",
       "      <td>B00LJBMCKK</td>\n",
       "      <td>5.0</td>\n",
       "      <td>I started using this product because it was re...</td>\n",
       "      <td>1</td>\n",
       "      <td>0</td>\n",
       "      <td>good</td>\n",
       "      <td>2014-07-17</td>\n",
       "      <td>2014</td>\n",
       "    </tr>\n",
       "  </tbody>\n",
       "</table>\n",
       "</div>"
      ],
      "text/plain": [
       "             customer     product  rating  \\\n",
       "55075  A2I8KUDXTC9WYI  B00LJBMCKK     5.0   \n",
       "\n",
       "                                             review_text  pos_feedback  \\\n",
       "55075  I started using this product because it was re...             1   \n",
       "\n",
       "       neg_feedback rating_class       time  year  \n",
       "55075             0         good 2014-07-17  2014  "
      ]
     },
     "execution_count": 26,
     "metadata": {},
     "output_type": "execute_result"
    }
   ],
   "source": [
    "# Rename the columns\n",
    "df1.columns = ['customer', 'product', 'rating', 'review_text', 'pos_feedback', 'neg_feedback', 'rating_class', 'time','year']\n",
    "\n",
    "# Sample observation\n",
    "df1.tail(1)"
   ]
  },
  {
   "cell_type": "markdown",
   "metadata": {},
   "source": [
    "## Descriptive Statistics "
   ]
  },
  {
   "cell_type": "code",
   "execution_count": 27,
   "metadata": {},
   "outputs": [
    {
     "data": {
      "text/html": [
       "<div>\n",
       "<style scoped>\n",
       "    .dataframe tbody tr th:only-of-type {\n",
       "        vertical-align: middle;\n",
       "    }\n",
       "\n",
       "    .dataframe tbody tr th {\n",
       "        vertical-align: top;\n",
       "    }\n",
       "\n",
       "    .dataframe thead th {\n",
       "        text-align: right;\n",
       "    }\n",
       "</style>\n",
       "<table border=\"1\" class=\"dataframe\">\n",
       "  <thead>\n",
       "    <tr style=\"text-align: right;\">\n",
       "      <th></th>\n",
       "      <th>rating</th>\n",
       "      <th>pos_feedback</th>\n",
       "      <th>neg_feedback</th>\n",
       "      <th>year</th>\n",
       "    </tr>\n",
       "  </thead>\n",
       "  <tbody>\n",
       "    <tr>\n",
       "      <td>count</td>\n",
       "      <td>54787.000000</td>\n",
       "      <td>54787.000000</td>\n",
       "      <td>54787.000000</td>\n",
       "      <td>54787.000000</td>\n",
       "    </tr>\n",
       "    <tr>\n",
       "      <td>mean</td>\n",
       "      <td>4.089492</td>\n",
       "      <td>2.147754</td>\n",
       "      <td>0.524705</td>\n",
       "      <td>2012.370635</td>\n",
       "    </tr>\n",
       "    <tr>\n",
       "      <td>std</td>\n",
       "      <td>1.026216</td>\n",
       "      <td>25.584276</td>\n",
       "      <td>2.131750</td>\n",
       "      <td>1.620425</td>\n",
       "    </tr>\n",
       "    <tr>\n",
       "      <td>min</td>\n",
       "      <td>1.000000</td>\n",
       "      <td>0.000000</td>\n",
       "      <td>0.000000</td>\n",
       "      <td>2004.000000</td>\n",
       "    </tr>\n",
       "    <tr>\n",
       "      <td>25%</td>\n",
       "      <td>4.000000</td>\n",
       "      <td>0.000000</td>\n",
       "      <td>0.000000</td>\n",
       "      <td>2011.000000</td>\n",
       "    </tr>\n",
       "    <tr>\n",
       "      <td>50%</td>\n",
       "      <td>4.000000</td>\n",
       "      <td>0.000000</td>\n",
       "      <td>0.000000</td>\n",
       "      <td>2013.000000</td>\n",
       "    </tr>\n",
       "    <tr>\n",
       "      <td>75%</td>\n",
       "      <td>5.000000</td>\n",
       "      <td>1.000000</td>\n",
       "      <td>1.000000</td>\n",
       "      <td>2014.000000</td>\n",
       "    </tr>\n",
       "    <tr>\n",
       "      <td>max</td>\n",
       "      <td>5.000000</td>\n",
       "      <td>1950.000000</td>\n",
       "      <td>181.000000</td>\n",
       "      <td>2014.000000</td>\n",
       "    </tr>\n",
       "  </tbody>\n",
       "</table>\n",
       "</div>"
      ],
      "text/plain": [
       "             rating  pos_feedback  neg_feedback          year\n",
       "count  54787.000000  54787.000000  54787.000000  54787.000000\n",
       "mean       4.089492      2.147754      0.524705   2012.370635\n",
       "std        1.026216     25.584276      2.131750      1.620425\n",
       "min        1.000000      0.000000      0.000000   2004.000000\n",
       "25%        4.000000      0.000000      0.000000   2011.000000\n",
       "50%        4.000000      0.000000      0.000000   2013.000000\n",
       "75%        5.000000      1.000000      1.000000   2014.000000\n",
       "max        5.000000   1950.000000    181.000000   2014.000000"
      ]
     },
     "execution_count": 27,
     "metadata": {},
     "output_type": "execute_result"
    }
   ],
   "source": [
    "# Read statistic summary of numeric variables\n",
    "df1.describe()"
   ]
  },
  {
   "cell_type": "code",
   "execution_count": 28,
   "metadata": {},
   "outputs": [
    {
     "data": {
      "text/plain": [
       "5.0    23922\n",
       "4.0    17957\n",
       "3.0     8283\n",
       "2.0     3139\n",
       "1.0     1486\n",
       "Name: rating, dtype: int64"
      ]
     },
     "execution_count": 28,
     "metadata": {},
     "output_type": "execute_result"
    }
   ],
   "source": [
    "# Costumer totals for each rating\n",
    "df1.rating.value_counts()"
   ]
  },
  {
   "cell_type": "code",
   "execution_count": 29,
   "metadata": {},
   "outputs": [
    {
     "data": {
      "text/plain": [
       "good       41879\n",
       "neutral     8283\n",
       "bad         4625\n",
       "Name: rating_class, dtype: int64"
      ]
     },
     "execution_count": 29,
     "metadata": {},
     "output_type": "execute_result"
    }
   ],
   "source": [
    "# Costumer totals for each rating class\n",
    "df1.rating_class.value_counts()"
   ]
  },
  {
   "cell_type": "code",
   "execution_count": 30,
   "metadata": {},
   "outputs": [
    {
     "name": "stdout",
     "output_type": "stream",
     "text": [
      "Number of positive feedbacks  : 19891\n",
      "\n",
      "Number of negative feedback   : 14807\n",
      "\n",
      "Number of no helpful feedbacks: 20089\n"
     ]
    }
   ],
   "source": [
    "# Print the number of positive feedback\n",
    "pos = len (df1[df1['pos_feedback']>0])\n",
    "print('Number of positive feedbacks  : {}'.format(pos))\n",
    "print('')\n",
    "\n",
    "# Print the number of negative feedback\n",
    "neg = len (df1[df1['neg_feedback']>0])\n",
    "print('Number of negative feedback   : {}'.format(neg))\n",
    "\n",
    "# Print the number of no 'helpful' feedback\n",
    "no_helpful = len(df1) - (pos+neg)\n",
    "print('\\nNumber of no helpful feedbacks: {}'.format(no_helpful))\n",
    "\n",
    "\n",
    "\n",
    "\n",
    "\n",
    "\n"
   ]
  },
  {
   "cell_type": "code",
   "execution_count": 31,
   "metadata": {},
   "outputs": [
    {
     "name": "stdout",
     "output_type": "stream",
     "text": [
      "Number of unique customers : 2184\n",
      "\n",
      "Number of unique products  : 1260\n",
      "\n",
      "Review number per unique customer : 25.08562271062271\n",
      "\n",
      "Review number per unique product  : 43.481746031746034\n",
      "\n"
     ]
    }
   ],
   "source": [
    "# Statistic of non-numeric variables\n",
    "\n",
    "# Number of unique costumers\n",
    "print('Number of unique customers : {}'.format( len(df1['customer'].unique())))\n",
    "print('')\n",
    "\n",
    "# Number of unique products\n",
    "print('Number of unique products  : {}'.format( len(df1['product'].unique())))\n",
    "print('')\n",
    "\n",
    "# Review number per unique customer\n",
    "print('Review number per unique customer : {}'.format( len(df1)/len(df1['customer'].unique())))\n",
    "print('')\n",
    "\n",
    "# Review number per unique product\n",
    "print('Review number per unique product  : {}'.format( len(df1)/len(df1['product'].unique())))\n",
    "print('')\n"
   ]
  },
  {
   "cell_type": "markdown",
   "metadata": {},
   "source": [
    "### **Descriptive Statistic Summary:**\n",
    "\n",
    "**- Rating Status:**\n",
    "\n",
    "54787 customer gives ratings and mean of the ratings is 4.08, which means that customers prefer to give high ratings for products. Standard deviation and percentiles also show that 1 and 2 ratings for products are rare. To be able to predict the ratings reasonably, we classified them as 'good', 'neutral', and 'bad' above. \n",
    "\n",
    "According to the statistics on rating stars:\n",
    "\n",
    "1486 customers give 1 star \n",
    "\n",
    "3139 customers give 2 stars\n",
    "\n",
    "8283 customers give 3 stars\n",
    "\n",
    "17957  customers give 4 stars\n",
    "\n",
    "23922 customers give 5 stars\n",
    "\n",
    "\n",
    "On the other hand, if we look for the rating class, the picture is look like below.\n",
    "\n",
    "4625 customers give bad ratings\n",
    "\n",
    "8283 customers give neutral ratings\n",
    "\n",
    "41879 customers give good ratings\n",
    "\n",
    "**- Feedback Status**\n",
    "\n",
    "19891 customers find the given reviews logical and totally agree with them. They give positive feedbacks. The mean 2.14 and standard deviation is 25.5 whereas the highest positive feedback number for reviews is 1950.. That shows we may have some outliers in the dataset. \n",
    "\n",
    "14807 customers find the given reviews useless and don't aggree with the them. They give negative feedbacks. The mean 0.52 and standard deviation is 2.13 whereas the highest negative feedback number for reviews is 181.\n",
    "\n",
    "On the other hand 20089 customers don't give either positive or negative feedbacks for reviews. \n",
    "\n",
    "**- Non-numeric variables statistics:**\n",
    "\n",
    "We have 2184 unique customers and 1260 products in this dataset. Each customers averagely give 25 reviews for products and on the other hand, there is averagely 43 reviews for each product in the website. \n",
    "\n",
    "On exploratory data analysis, we will check if there is a case for outliers by visualizing data. "
   ]
  },
  {
   "cell_type": "markdown",
   "metadata": {},
   "source": [
    "## Preprocessing the new_text"
   ]
  },
  {
   "cell_type": "code",
   "execution_count": 32,
   "metadata": {},
   "outputs": [],
   "source": [
    "import spacy\n",
    "import nltk\n",
    "from nltk.corpus import stopwords\n",
    "from nltk.stem import PorterStemmer, WordNetLemmatizer\n",
    "from nltk.tokenize import word_tokenize, sent_tokenize, regexp_tokenize\n",
    "from nltk.tokenize import RegexpTokenizer\n",
    "from nltk.tokenize.toktok import ToktokTokenizer\n",
    "import re\n",
    "from bs4 import BeautifulSoup\n",
    "from contractions import CONTRACTION_MAP\n",
    "import unicodedata\n",
    "tokenizer = ToktokTokenizer()\n",
    "nlp = spacy.load('en', parse=True, tag=True, entity=True)"
   ]
  },
  {
   "cell_type": "markdown",
   "metadata": {},
   "source": [
    "### Removing HTML tags\n",
    "\n",
    "I will write a function to remove the HTML tags which typically does not add much value towards understanding and analyzing text."
   ]
  },
  {
   "cell_type": "code",
   "execution_count": 33,
   "metadata": {},
   "outputs": [],
   "source": [
    "def strip_html_tags(text) :\n",
    "    \n",
    "    'Removes html tags in the text'\n",
    "    \n",
    "    soup = BeautifulSoup(text, 'html.parser')\n",
    "    stripped_text = soup.get_text()\n",
    "    return stripped_text\n",
    "    "
   ]
  },
  {
   "cell_type": "markdown",
   "metadata": {},
   "source": [
    "### Removing accented characters\n",
    "\n",
    "I will write a function to remove and standardize accented characters/letters into ASCII characters."
   ]
  },
  {
   "cell_type": "code",
   "execution_count": 34,
   "metadata": {},
   "outputs": [],
   "source": [
    "def remove_accented_chars(text):\n",
    "    \n",
    "    'Removes and standardize accented characters/letters'\n",
    "    \n",
    "    text = unicodedata.normalize('NFKD',text).encode('ascii','ignore').decode('utf-8','ignore')\n",
    "    \n",
    "    return text\n"
   ]
  },
  {
   "cell_type": "markdown",
   "metadata": {},
   "source": [
    "### Expanding Contractions\n",
    "I will write a function to convert each contraction to its expanded, orginal form in order to help with text standardization."
   ]
  },
  {
   "cell_type": "code",
   "execution_count": 35,
   "metadata": {},
   "outputs": [],
   "source": [
    "def expand_contractions(text, contraction_mapping=CONTRACTION_MAP):\n",
    "    \n",
    "    contractions_pattern = re.compile('({})'.format('|'.join(contraction_mapping.keys())), \n",
    "                                      flags=re.IGNORECASE|re.DOTALL)\n",
    "    def expand_match(contraction):\n",
    "        match = contraction.group(0)\n",
    "        first_char = match[0]\n",
    "        expanded_contraction = contraction_mapping.get(match)\\\n",
    "                                if contraction_mapping.get(match)\\\n",
    "                                else contraction_mapping.get(match.lower())                       \n",
    "        expanded_contraction = first_char+expanded_contraction[1:]\n",
    "        return expanded_contraction\n",
    "        \n",
    "    expanded_text = contractions_pattern.sub(expand_match, text)\n",
    "    expanded_text = re.sub(\"'\", \"\", expanded_text)\n",
    "    return expanded_text"
   ]
  },
  {
   "cell_type": "markdown",
   "metadata": {},
   "source": [
    "### Removing Special Characters\n",
    "I will use simple regular expressions(regexes) to remove special characters and symbols which are usually non-alphanumeric characters or even occasional numeric characters."
   ]
  },
  {
   "cell_type": "code",
   "execution_count": 36,
   "metadata": {},
   "outputs": [],
   "source": [
    "def remove_special_characters(text, remove_digits=False):\n",
    "    \n",
    "    \"Remove special characters/symbols\"\n",
    "    \n",
    "    pattern = r'[^a-zA-z0-9\\s]' if not remove_digits else r'[^a-zA-z\\s]'\n",
    "    text = re.sub(pattern, '', text)\n",
    "    return text"
   ]
  },
  {
   "cell_type": "markdown",
   "metadata": {},
   "source": [
    "### Lemmatization\n",
    "I will remove word affixes to get to the base form of a word, known as root word."
   ]
  },
  {
   "cell_type": "code",
   "execution_count": 37,
   "metadata": {},
   "outputs": [],
   "source": [
    "def lemmatize_text(text):\n",
    "    text = nlp(text)\n",
    "    text = ' '.join([word.lemma_ if word.lemma_ != '-PRON-' else word.text for word in text])\n",
    "    return text\n"
   ]
  },
  {
   "cell_type": "markdown",
   "metadata": {},
   "source": [
    "### Removing stopwords\n",
    "I will write a function to remove stopwords which have little or no significance in the text."
   ]
  },
  {
   "cell_type": "code",
   "execution_count": 38,
   "metadata": {},
   "outputs": [],
   "source": [
    "# Instantiate Tokenizer\n",
    "tokenizer = ToktokTokenizer()\n",
    "\n",
    "# Create stopword list\n",
    "stopword_list = nltk.corpus.stopwords.words('english')\n",
    "\n",
    "# 'no' and 'not' may give us information so those are removed from stop list\n",
    "stopword_list.remove('no')\n",
    "stopword_list.remove('not')"
   ]
  },
  {
   "cell_type": "code",
   "execution_count": 39,
   "metadata": {},
   "outputs": [],
   "source": [
    "def remove_stopwords(text, is_lower_case=False):\n",
    "    \n",
    "    \"Remove stopwords in the text except 'no' and 'not'\"\n",
    "    \n",
    "    tokens = tokenizer.tokenize(text)\n",
    "    tokens = [token.strip() for token in tokens]\n",
    "    if is_lower_case:\n",
    "        filtered_tokens = [token for token in tokens if token not in stopword_list]\n",
    "    else:\n",
    "        filtered_tokens = [token for token in tokens if token.lower() not in stopword_list]\n",
    "    filtered_text = ' '.join(filtered_tokens)    \n",
    "    return filtered_text"
   ]
  },
  {
   "cell_type": "markdown",
   "metadata": {},
   "source": [
    "### Building a Text Normalizer\n",
    "Based on the functions which we have written above and also with additional text correction techniques, we will build a text normalizer in order to help us to preproces the new_text document."
   ]
  },
  {
   "cell_type": "code",
   "execution_count": 40,
   "metadata": {},
   "outputs": [],
   "source": [
    "def normalize_corpus(doc, html_stripping=True, contraction_expansion=True,\n",
    "                     accented_char_removal=True, text_lower_case=True, \n",
    "                     text_lemmatization=True, special_char_removal=True, \n",
    "                     stopword_removal=True, remove_digits=True):\n",
    "     \n",
    "    # strip HTML\n",
    "    if html_stripping:\n",
    "        doc = strip_html_tags(doc)\n",
    "            \n",
    "    # remove accented characters\n",
    "    if accented_char_removal:\n",
    "        doc = remove_accented_chars(doc)\n",
    "            \n",
    "    # expand contractions    \n",
    "    if contraction_expansion:\n",
    "        doc = expand_contractions(doc)\n",
    "            \n",
    "    # lowercase the text    \n",
    "    if text_lower_case:\n",
    "        doc = doc.lower()\n",
    "            \n",
    "    # remove extra newlines\n",
    "    doc = re.sub(r'[\\r|\\n|\\r\\n]+', ' ',doc)\n",
    "        \n",
    "    # lemmatize text\n",
    "    if text_lemmatization:\n",
    "        doc = lemmatize_text(doc)\n",
    "            \n",
    "    # remove special characters and\\or digits    \n",
    "    if special_char_removal:\n",
    "        # insert spaces between special characters to isolate them    \n",
    "        special_char_pattern = re.compile(r'([{.(-)!}])')\n",
    "        doc = special_char_pattern.sub(\" \\\\1 \", doc)\n",
    "        doc = remove_special_characters(doc, remove_digits=remove_digits)  \n",
    "            \n",
    "    # remove extra whitespace\n",
    "    doc = re.sub(' +', ' ', doc)\n",
    "        \n",
    "    # remove ' (apostrophe) sign\n",
    "    doc = re.sub(r\"'\", r'', doc)\n",
    "        \n",
    "    # remove stopwords\n",
    "    if stopword_removal:\n",
    "        doc = remove_stopwords(doc, is_lower_case=text_lower_case)\n",
    "        \n",
    "    return doc"
   ]
  },
  {
   "cell_type": "markdown",
   "metadata": {},
   "source": [
    "### Creating 'clean_text' column from  \"review_text\" by using  text normalizer "
   ]
  },
  {
   "cell_type": "code",
   "execution_count": 41,
   "metadata": {
    "scrolled": true
   },
   "outputs": [],
   "source": [
    "# Create a new column for cleaned text \n",
    "df1['clean_text'] = list(map(lambda doc: normalize_corpus(doc),df1['review_text']))\n"
   ]
  },
  {
   "cell_type": "markdown",
   "metadata": {},
   "source": [
    "##### Creating 'clues' column from the clean_text by using tokenizer "
   ]
  },
  {
   "cell_type": "code",
   "execution_count": 42,
   "metadata": {},
   "outputs": [
    {
     "data": {
      "text/html": [
       "<div>\n",
       "<style scoped>\n",
       "    .dataframe tbody tr th:only-of-type {\n",
       "        vertical-align: middle;\n",
       "    }\n",
       "\n",
       "    .dataframe tbody tr th {\n",
       "        vertical-align: top;\n",
       "    }\n",
       "\n",
       "    .dataframe thead th {\n",
       "        text-align: right;\n",
       "    }\n",
       "</style>\n",
       "<table border=\"1\" class=\"dataframe\">\n",
       "  <thead>\n",
       "    <tr style=\"text-align: right;\">\n",
       "      <th></th>\n",
       "      <th>customer</th>\n",
       "      <th>product</th>\n",
       "      <th>rating</th>\n",
       "      <th>review_text</th>\n",
       "      <th>pos_feedback</th>\n",
       "      <th>neg_feedback</th>\n",
       "      <th>rating_class</th>\n",
       "      <th>time</th>\n",
       "      <th>year</th>\n",
       "      <th>clean_text</th>\n",
       "      <th>clues</th>\n",
       "    </tr>\n",
       "  </thead>\n",
       "  <tbody>\n",
       "    <tr>\n",
       "      <td>0</td>\n",
       "      <td>A1N655X9X7C6QY</td>\n",
       "      <td>B00000J47L</td>\n",
       "      <td>5.0</td>\n",
       "      <td>Right out of the box and ready to go !Everythi...</td>\n",
       "      <td>0</td>\n",
       "      <td>0</td>\n",
       "      <td>good</td>\n",
       "      <td>2013-01-12</td>\n",
       "      <td>2013</td>\n",
       "      <td>right box ready go everything star packaging p...</td>\n",
       "      <td>[right, box, ready, go, everything, star, pack...</td>\n",
       "    </tr>\n",
       "  </tbody>\n",
       "</table>\n",
       "</div>"
      ],
      "text/plain": [
       "         customer     product  rating  \\\n",
       "0  A1N655X9X7C6QY  B00000J47L     5.0   \n",
       "\n",
       "                                         review_text  pos_feedback  \\\n",
       "0  Right out of the box and ready to go !Everythi...             0   \n",
       "\n",
       "   neg_feedback rating_class       time  year  \\\n",
       "0             0         good 2013-01-12  2013   \n",
       "\n",
       "                                          clean_text  \\\n",
       "0  right box ready go everything star packaging p...   \n",
       "\n",
       "                                               clues  \n",
       "0  [right, box, ready, go, everything, star, pack...  "
      ]
     },
     "execution_count": 42,
     "metadata": {},
     "output_type": "execute_result"
    }
   ],
   "source": [
    "# create a new column named as clues  from 'clean_text' by applying tokenizer\n",
    "tokenizer = RegexpTokenizer(r'\\w+')\n",
    "df1[\"clues\"] = df1[\"clean_text\"].apply(tokenizer.tokenize)\n",
    "df1.head(1)"
   ]
  },
  {
   "cell_type": "code",
   "execution_count": 43,
   "metadata": {},
   "outputs": [
    {
     "name": "stdout",
     "output_type": "stream",
     "text": [
      "4572979 words total, with a vocabulary size of 53506\n",
      "Max review length is (word based) 2760\n",
      "Max review length is (word based) 2\n"
     ]
    }
   ],
   "source": [
    "# Tokens status\n",
    "all_words = [word for tokens in df1[\"clues\"] for word in tokens]\n",
    "sentence_lengths = [len(tokens) for tokens in df1[\"clues\"]]\n",
    "vocabulary = sorted(list(set(all_words)))\n",
    "print(\"%s words total, with a vocabulary size of %s\" % (len(all_words), len(vocabulary)))\n",
    "print(\"Max review length is (word based) %s\" % max(sentence_lengths))\n",
    "print(\"Min review length is (word based) %s\" % min(sentence_lengths))"
   ]
  },
  {
   "cell_type": "markdown",
   "metadata": {},
   "source": [
    "## Write dataframe to CSV file"
   ]
  },
  {
   "cell_type": "code",
   "execution_count": 44,
   "metadata": {},
   "outputs": [],
   "source": [
    "df1.to_csv('/Users/emineakbulut/Desktop/capstone project 2/data/cleaned_review_health_and_personal_care.csv', sep = ',', encoding = 'utf-8', index = False)"
   ]
  },
  {
   "cell_type": "code",
   "execution_count": null,
   "metadata": {},
   "outputs": [],
   "source": []
  }
 ],
 "metadata": {
  "kernelspec": {
   "display_name": "Python 3",
   "language": "python",
   "name": "python3"
  },
  "language_info": {
   "codemirror_mode": {
    "name": "ipython",
    "version": 3
   },
   "file_extension": ".py",
   "mimetype": "text/x-python",
   "name": "python",
   "nbconvert_exporter": "python",
   "pygments_lexer": "ipython3",
   "version": "3.7.4"
  },
  "toc": {
   "base_numbering": 1,
   "nav_menu": {},
   "number_sections": false,
   "sideBar": true,
   "skip_h1_title": false,
   "title_cell": "Table of Contents",
   "title_sidebar": "Contents",
   "toc_cell": true,
   "toc_position": {},
   "toc_section_display": true,
   "toc_window_display": true
  }
 },
 "nbformat": 4,
 "nbformat_minor": 2
}
