{
 "cells": [
  {
   "cell_type": "markdown",
   "metadata": {},
   "source": [
    "# Natural Language Processing"
   ]
  },
  {
   "cell_type": "markdown",
   "metadata": {
    "toc": true
   },
   "source": [
    "<h1>Table of Contents<span class=\"tocSkip\"></span></h1>\n",
    "<div class=\"toc\"><ul class=\"toc-item\"><li><span><a href=\"#Natural-Language-Processing\" data-toc-modified-id=\"Natural-Language-Processing-1\">Natural Language Processing</a></span><ul class=\"toc-item\"><li><ul class=\"toc-item\"><li><ul class=\"toc-item\"><li><ul class=\"toc-item\"><li><ul class=\"toc-item\"><li><span><a href=\"#import-necessary-libraries\" data-toc-modified-id=\"import-necessary-libraries-1.0.0.0.0.1\">import necessary libraries</a></span></li><li><span><a href=\"#Reading-the-clean-dataset\" data-toc-modified-id=\"Reading-the-clean-dataset-1.0.0.0.0.2\">Reading the clean dataset</a></span></li></ul></li></ul></li></ul></li></ul></li><li><span><a href=\"#1.-Feature-Engineering-and-Selection\" data-toc-modified-id=\"1.-Feature-Engineering-and-Selection-1.1\">1. Feature Engineering and Selection</a></span></li><li><span><a href=\"#2.-Adding-Most-Common-and-Least-Common-Words-to-Stopwords-List\" data-toc-modified-id=\"2.-Adding-Most-Common-and-Least-Common-Words-to-Stopwords-List-1.2\">2. Adding Most Common and Least Common Words to Stopwords List</a></span><ul class=\"toc-item\"><li><ul class=\"toc-item\"><li><ul class=\"toc-item\"><li><span><a href=\"#Words-and-Frequencies\" data-toc-modified-id=\"Words-and-Frequencies-1.2.0.0.1\">Words and Frequencies</a></span></li><li><span><a href=\"#Adding-the-Least-Common-and-the-Most-Common-70-Words-to-the-Stopwords-List\" data-toc-modified-id=\"Adding-the-Least-Common-and-the-Most-Common-70-Words-to-the-Stopwords-List-1.2.0.0.2\">Adding the Least Common and the Most Common 70 Words to the Stopwords List</a></span></li></ul></li></ul></li></ul></li><li><span><a href=\"#3.-Data-Preparation\" data-toc-modified-id=\"3.-Data-Preparation-1.3\">3. Data Preparation</a></span><ul class=\"toc-item\"><li><ul class=\"toc-item\"><li><ul class=\"toc-item\"><li><ul class=\"toc-item\"><li><span><a href=\"#Separating-Response-Variable-and-Feature\" data-toc-modified-id=\"Separating-Response-Variable-and-Feature-1.3.0.0.0.1\">Separating Response Variable and Feature</a></span></li><li><span><a href=\"#Splitting-Dataset-into-Train-Test-Set\" data-toc-modified-id=\"Splitting-Dataset-into-Train-Test-Set-1.3.0.0.0.2\">Splitting Dataset into Train Test Set</a></span></li></ul></li></ul></li></ul></li></ul></li><li><span><a href=\"#4.-Choosing-the-Right-Evaluation-Metric\" data-toc-modified-id=\"4.-Choosing-the-Right-Evaluation-Metric-1.4\">4. Choosing the Right Evaluation Metric</a></span><ul class=\"toc-item\"><li><ul class=\"toc-item\"><li><ul class=\"toc-item\"><li><ul class=\"toc-item\"><li><span><a href=\"#Confusion-Matrix-Plot-Function\" data-toc-modified-id=\"Confusion-Matrix-Plot-Function-1.4.0.0.0.1\">Confusion Matrix Plot Function</a></span></li></ul></li></ul></li></ul></li></ul></li><li><span><a href=\"#5.-Model-Building\" data-toc-modified-id=\"5.-Model-Building-1.5\">5. Model Building</a></span><ul class=\"toc-item\"><li><ul class=\"toc-item\"><li><span><a href=\"#5.1-CountVectorizer-Bag-of-Words\" data-toc-modified-id=\"5.1-CountVectorizer-Bag-of-Words-1.5.0.1\">5.1 CountVectorizer Bag of Words</a></span><ul class=\"toc-item\"><li><ul class=\"toc-item\"><li><span><a href=\"#Creating-a-function-for-applying-different-algorithms\" data-toc-modified-id=\"Creating-a-function-for-applying-different-algorithms-1.5.0.1.0.1\">Creating a function for applying different algorithms</a></span></li></ul></li><li><span><a href=\"#5.1.1-Logistic-Regression-with-CountVectorizer\" data-toc-modified-id=\"5.1.1-Logistic-Regression-with-CountVectorizer-1.5.0.1.1\">5.1.1 Logistic Regression with CountVectorizer</a></span><ul class=\"toc-item\"><li><span><a href=\"#Classification-Report\" data-toc-modified-id=\"Classification-Report-1.5.0.1.1.1\">Classification Report</a></span></li><li><span><a href=\"#Confusion-Matrix\" data-toc-modified-id=\"Confusion-Matrix-1.5.0.1.1.2\">Confusion Matrix</a></span></li></ul></li><li><span><a href=\"#5.1.2-Random-Forest-with-CountVectorizer\" data-toc-modified-id=\"5.1.2-Random-Forest-with-CountVectorizer-1.5.0.1.2\">5.1.2 Random Forest with CountVectorizer</a></span><ul class=\"toc-item\"><li><span><a href=\"#Classification-Report\" data-toc-modified-id=\"Classification-Report-1.5.0.1.2.1\">Classification Report</a></span></li><li><span><a href=\"#Confusion-Matrix\" data-toc-modified-id=\"Confusion-Matrix-1.5.0.1.2.2\">Confusion Matrix</a></span></li></ul></li><li><span><a href=\"#5.1.3-Naive-Bayes-with-CountVectorizer\" data-toc-modified-id=\"5.1.3-Naive-Bayes-with-CountVectorizer-1.5.0.1.3\">5.1.3 Naive Bayes with CountVectorizer</a></span><ul class=\"toc-item\"><li><span><a href=\"#Classification-Report\" data-toc-modified-id=\"Classification-Report-1.5.0.1.3.1\">Classification Report</a></span></li><li><span><a href=\"#Confusion-Matrix\" data-toc-modified-id=\"Confusion-Matrix-1.5.0.1.3.2\">Confusion Matrix</a></span></li></ul></li><li><span><a href=\"#5.1.5-Comparison-of-Models-with-CountVectorizer\" data-toc-modified-id=\"5.1.5-Comparison-of-Models-with-CountVectorizer-1.5.0.1.4\">5.1.5 Comparison of Models with CountVectorizer</a></span><ul class=\"toc-item\"><li><span><a href=\"#Functions-for-Algorithms-Comparison\" data-toc-modified-id=\"Functions-for-Algorithms-Comparison-1.5.0.1.4.1\">Functions for Algorithms Comparison</a></span></li><li><span><a href=\"#Function-for-f1-Score-Plotting\" data-toc-modified-id=\"Function-for-f1-Score-Plotting-1.5.0.1.4.2\">Function for f1 Score Plotting</a></span></li><li><span><a href=\"#Algorithms-Comparison-with-CountVectorizer\" data-toc-modified-id=\"Algorithms-Comparison-with-CountVectorizer-1.5.0.1.4.3\">Algorithms Comparison with CountVectorizer</a></span></li></ul></li></ul></li></ul></li><li><span><a href=\"#5.2.-Synthetic-Minority-Oversampling-Technique-(SMOTE)\" data-toc-modified-id=\"5.2.-Synthetic-Minority-Oversampling-Technique-(SMOTE)-1.5.1\">5.2. Synthetic Minority Oversampling Technique (SMOTE)</a></span><ul class=\"toc-item\"><li><span><a href=\"#5.2.1.-Logistic-Regression\" data-toc-modified-id=\"5.2.1.-Logistic-Regression-1.5.1.1\">5.2.1. Logistic Regression</a></span><ul class=\"toc-item\"><li><ul class=\"toc-item\"><li><span><a href=\"#Classification-Report\" data-toc-modified-id=\"Classification-Report-1.5.1.1.0.1\">Classification Report</a></span></li></ul></li><li><span><a href=\"#Confusion-Matrix\" data-toc-modified-id=\"Confusion-Matrix-1.5.1.1.1\">Confusion Matrix</a></span></li></ul></li><li><span><a href=\"#5.2.2-Random-Forest\" data-toc-modified-id=\"5.2.2-Random-Forest-1.5.1.2\">5.2.2 Random Forest</a></span><ul class=\"toc-item\"><li><ul class=\"toc-item\"><li><span><a href=\"#Classification-Report\" data-toc-modified-id=\"Classification-Report-1.5.1.2.0.1\">Classification Report</a></span></li><li><span><a href=\"#Confusion-Matrix\" data-toc-modified-id=\"Confusion-Matrix-1.5.1.2.0.2\">Confusion Matrix</a></span></li></ul></li></ul></li><li><span><a href=\"#5.2.3-Naive-Bayes\" data-toc-modified-id=\"5.2.3-Naive-Bayes-1.5.1.3\">5.2.3 Naive Bayes</a></span><ul class=\"toc-item\"><li><ul class=\"toc-item\"><li><span><a href=\"#Classification-Report\" data-toc-modified-id=\"Classification-Report-1.5.1.3.0.1\">Classification Report</a></span></li><li><span><a href=\"#Confusion-Matrix\" data-toc-modified-id=\"Confusion-Matrix-1.5.1.3.0.2\">Confusion Matrix</a></span></li></ul></li></ul></li></ul></li><li><span><a href=\"#5.2.6-Comparison-of-SMOTE-Models\" data-toc-modified-id=\"5.2.6-Comparison-of-SMOTE-Models-1.5.2\">5.2.6 Comparison of SMOTE Models</a></span></li></ul></li></ul></li><li><span><a href=\"#6.-CONCLUSION\" data-toc-modified-id=\"6.-CONCLUSION-2\">6. CONCLUSION</a></span><ul class=\"toc-item\"><li><ul class=\"toc-item\"><li><span><a href=\"#5.1-Recommendations\" data-toc-modified-id=\"5.1-Recommendations-2.0.1\">5.1 Recommendations</a></span></li><li><span><a href=\"#5.1-Recommendations\" data-toc-modified-id=\"5.1-Recommendations-2.0.2\">5.1 Recommendations</a></span></li><li><span><a href=\"#5.2-Future-Study\" data-toc-modified-id=\"5.2-Future-Study-2.0.3\">5.2 Future Study</a></span></li></ul></li></ul></li></ul></div>"
   ]
  },
  {
   "cell_type": "markdown",
   "metadata": {},
   "source": [
    "###### import necessary libraries"
   ]
  },
  {
   "cell_type": "code",
   "execution_count": 1,
   "metadata": {},
   "outputs": [],
   "source": [
    "# Dataframe\n",
    "import pandas as pd\n",
    "\n",
    "# Array\n",
    "import numpy as np\n",
    "import itertools\n",
    "\n",
    "# Decompress the file\n",
    "import gzip\n",
    "\n",
    "# Visualizations\n",
    "import matplotlib.pyplot as plt\n",
    "from matplotlib.colors import ListedColormap\n",
    "import seaborn as sns\n",
    "import matplotlib.colors as colors\n",
    "%matplotlib inline\n",
    "from wordcloud import WordCloud, STOPWORDS\n",
    "\n",
    "# Datetime\n",
    "from datetime import datetime\n",
    "\n",
    "# text preprocessing\n",
    "#import spacy\n",
    "import nltk\n",
    "from nltk.corpus import stopwords\n",
    "from nltk.stem import PorterStemmer, WordNetLemmatizer\n",
    "from nltk.tokenize import word_tokenize, sent_tokenize, regexp_tokenize\n",
    "from nltk.tokenize import RegexpTokenizer\n",
    "from nltk.tokenize.toktok import ToktokTokenizer\n",
    "#import gensim\n",
    "import re\n",
    "\n",
    "\n",
    "import unicodedata\n",
    "tokenizer = ToktokTokenizer()\n",
    "#nlp = spacy.load('en', parse=True, tag=True, entity=True)\n",
    "\n",
    "## Modeling\n",
    "from sklearn.model_selection import cross_validate\n",
    "from sklearn.model_selection import train_test_split\n",
    "from sklearn.model_selection import StratifiedKFold\n",
    "from sklearn.model_selection import GridSearchCV\n",
    "from sklearn.model_selection import cross_val_predict\n",
    "from sklearn.model_selection import cross_val_score\n",
    "from sklearn.linear_model import LogisticRegression\n",
    "from sklearn.model_selection import learning_curve\n",
    "from sklearn.ensemble import ExtraTreesClassifier\n",
    "from sklearn.decomposition import TruncatedSVD\n",
    "from sklearn.feature_extraction.text import TfidfVectorizer, CountVectorizer, HashingVectorizer\n",
    "from sklearn.pipeline import Pipeline\n",
    "from sklearn.naive_bayes import MultinomialNB\n",
    "from sklearn.naive_bayes import GaussianNB \n",
    "from sklearn.svm import SVC\n",
    "from sklearn import metrics\n",
    "from sklearn.metrics import classification_report\n",
    "from sklearn.metrics import confusion_matrix\n",
    "from sklearn.metrics import precision_recall_fscore_support\n",
    "from sklearn.ensemble import RandomForestClassifier\n",
    "from sklearn.tree import DecisionTreeClassifier\n",
    "from sklearn.metrics import f1_score\n",
    "from sklearn.metrics import recall_score\n",
    "from gensim.models import Word2Vec\n",
    "from tqdm import tqdm\n",
    "from sklearn.dummy import DummyClassifier\n",
    "\n",
    "## Warnings\n",
    "import warnings\n",
    "from scipy import stats\n",
    "warnings.filterwarnings('ignore')\n",
    "from joblib import Parallel, delayed"
   ]
  },
  {
   "cell_type": "markdown",
   "metadata": {},
   "source": [
    "###### Reading the clean dataset"
   ]
  },
  {
   "cell_type": "code",
   "execution_count": 2,
   "metadata": {
    "scrolled": true
   },
   "outputs": [],
   "source": [
    "# Read dataset\n",
    "df=pd.read_csv('/Users/emineakbulut/Desktop/capstone project 2/data/cleaned_review_health_and_personal_care.csv')"
   ]
  },
  {
   "cell_type": "code",
   "execution_count": 3,
   "metadata": {
    "scrolled": false
   },
   "outputs": [
    {
     "data": {
      "text/html": [
       "<div>\n",
       "<style scoped>\n",
       "    .dataframe tbody tr th:only-of-type {\n",
       "        vertical-align: middle;\n",
       "    }\n",
       "\n",
       "    .dataframe tbody tr th {\n",
       "        vertical-align: top;\n",
       "    }\n",
       "\n",
       "    .dataframe thead th {\n",
       "        text-align: right;\n",
       "    }\n",
       "</style>\n",
       "<table border=\"1\" class=\"dataframe\">\n",
       "  <thead>\n",
       "    <tr style=\"text-align: right;\">\n",
       "      <th></th>\n",
       "      <th>customer</th>\n",
       "      <th>product</th>\n",
       "      <th>review_text</th>\n",
       "      <th>rating_class</th>\n",
       "      <th>year</th>\n",
       "      <th>clean_text</th>\n",
       "      <th>clues</th>\n",
       "    </tr>\n",
       "  </thead>\n",
       "  <tbody>\n",
       "    <tr>\n",
       "      <td>0</td>\n",
       "      <td>A1N655X9X7C6QY</td>\n",
       "      <td>B00000J47L</td>\n",
       "      <td>Right out of the box and ready to go !Everythi...</td>\n",
       "      <td>good</td>\n",
       "      <td>2013</td>\n",
       "      <td>right box ready go everything star packaging p...</td>\n",
       "      <td>['right', 'box', 'ready', 'go', 'everything', ...</td>\n",
       "    </tr>\n",
       "    <tr>\n",
       "      <td>1</td>\n",
       "      <td>AEL6CQNQXONBX</td>\n",
       "      <td>B00000J47L</td>\n",
       "      <td>In this day and age it is hard to understand w...</td>\n",
       "      <td>good</td>\n",
       "      <td>2008</td>\n",
       "      <td>day age hard understand everyone not use recha...</td>\n",
       "      <td>['day', 'age', 'hard', 'understand', 'everyone...</td>\n",
       "    </tr>\n",
       "    <tr>\n",
       "      <td>2</td>\n",
       "      <td>A2032LF6FWWK8E</td>\n",
       "      <td>B00000J47L</td>\n",
       "      <td>At 2500ah, these rechargeable NiMh batteries p...</td>\n",
       "      <td>good</td>\n",
       "      <td>2006</td>\n",
       "      <td>ah rechargeable nimh battery provide power ful...</td>\n",
       "      <td>['ah', 'rechargeable', 'nimh', 'battery', 'pro...</td>\n",
       "    </tr>\n",
       "  </tbody>\n",
       "</table>\n",
       "</div>"
      ],
      "text/plain": [
       "         customer     product  \\\n",
       "0  A1N655X9X7C6QY  B00000J47L   \n",
       "1   AEL6CQNQXONBX  B00000J47L   \n",
       "2  A2032LF6FWWK8E  B00000J47L   \n",
       "\n",
       "                                         review_text rating_class  year  \\\n",
       "0  Right out of the box and ready to go !Everythi...         good  2013   \n",
       "1  In this day and age it is hard to understand w...         good  2008   \n",
       "2  At 2500ah, these rechargeable NiMh batteries p...         good  2006   \n",
       "\n",
       "                                          clean_text  \\\n",
       "0  right box ready go everything star packaging p...   \n",
       "1  day age hard understand everyone not use recha...   \n",
       "2  ah rechargeable nimh battery provide power ful...   \n",
       "\n",
       "                                               clues  \n",
       "0  ['right', 'box', 'ready', 'go', 'everything', ...  \n",
       "1  ['day', 'age', 'hard', 'understand', 'everyone...  \n",
       "2  ['ah', 'rechargeable', 'nimh', 'battery', 'pro...  "
      ]
     },
     "execution_count": 3,
     "metadata": {},
     "output_type": "execute_result"
    }
   ],
   "source": [
    "# Export first 3 observation\n",
    "df.head(3)"
   ]
  },
  {
   "cell_type": "code",
   "execution_count": 4,
   "metadata": {
    "scrolled": true
   },
   "outputs": [
    {
     "name": "stdout",
     "output_type": "stream",
     "text": [
      "<class 'pandas.core.frame.DataFrame'>\n",
      "RangeIndex: 46504 entries, 0 to 46503\n",
      "Data columns (total 7 columns):\n",
      "customer        46504 non-null object\n",
      "product         46504 non-null object\n",
      "review_text     46504 non-null object\n",
      "rating_class    46504 non-null object\n",
      "year            46504 non-null int64\n",
      "clean_text      46504 non-null object\n",
      "clues           46504 non-null object\n",
      "dtypes: int64(1), object(6)\n",
      "memory usage: 2.5+ MB\n"
     ]
    }
   ],
   "source": [
    "df.info()"
   ]
  },
  {
   "cell_type": "markdown",
   "metadata": {},
   "source": [
    "## 1. Feature Engineering and Selection"
   ]
  },
  {
   "cell_type": "markdown",
   "metadata": {},
   "source": [
    "Numerical values are included in machine learning models. My dataset, however, include a list of sentences. Therefore, I need to represent the data in a way I can make the data understand these sentences as a list of numbers. It is also important for my algorithm to extract patterns from the data. \n",
    "For this purpose, I have used CounterVectorizer, TF-IDF, Hashing Vectorizer and included the words that are most commonly used in the text into the stop word list and used SMOTE techniques into our classification models. "
   ]
  },
  {
   "cell_type": "markdown",
   "metadata": {},
   "source": [
    "## 2. Adding Most Common and Least Common Words to Stopwords List\n",
    "\n",
    "Because there were not too many distinguisher words in different categories, the most and least common 70 words added to the list of stopwords and models were performed to see any changes in evaluation metrics. \n",
    "\n"
   ]
  },
  {
   "cell_type": "markdown",
   "metadata": {},
   "source": [
    "##### Words and Frequencies"
   ]
  },
  {
   "cell_type": "code",
   "execution_count": 5,
   "metadata": {},
   "outputs": [],
   "source": [
    "cleaned_text = [str(txt) for text in df['clean_text'] for txt in text.split(' ') \n",
    "                if len(txt)>2 and txt not in 'not, nan']\n",
    "\n",
    "word_dist = nltk.FreqDist(cleaned_text)"
   ]
  },
  {
   "cell_type": "markdown",
   "metadata": {},
   "source": [
    "##### Adding the Least Common and the Most Common 70 Words to the Stopwords List\n",
    "\n",
    "Because there were not too many distinguisher words in different categories, the most and least common 70 words added to the list of stopwords and models were performed to see any changes in evaluation metrics. \n"
   ]
  },
  {
   "cell_type": "code",
   "execution_count": 6,
   "metadata": {},
   "outputs": [
    {
     "name": "stderr",
     "output_type": "stream",
     "text": [
      "[nltk_data] Downloading package stopwords to\n",
      "[nltk_data]     /Users/emineakbulut/nltk_data...\n",
      "[nltk_data]   Package stopwords is already up-to-date!\n",
      "[nltk_data] Downloading package wordnet to\n",
      "[nltk_data]     /Users/emineakbulut/nltk_data...\n",
      "[nltk_data]   Package wordnet is already up-to-date!\n"
     ]
    },
    {
     "data": {
      "text/plain": [
       "True"
      ]
     },
     "execution_count": 6,
     "metadata": {},
     "output_type": "execute_result"
    }
   ],
   "source": [
    "nltk.download('stopwords')\n",
    "nltk.download('wordnet')"
   ]
  },
  {
   "cell_type": "code",
   "execution_count": 7,
   "metadata": {},
   "outputs": [],
   "source": [
    "\n",
    "stopword_list= stopwords.words('english')\n",
    "\n",
    "for i in word_dist.most_common()[:100]:\n",
    "    stopword_list.append(i[0])\n",
    "    \n",
    "for ii in word_dist.most_common()[-100:]:\n",
    "    stopword_list.append(ii[0])"
   ]
  },
  {
   "cell_type": "code",
   "execution_count": 8,
   "metadata": {},
   "outputs": [
    {
     "name": "stdout",
     "output_type": "stream",
     "text": [
      "379\n"
     ]
    }
   ],
   "source": [
    "print(len(stopword_list))\n"
   ]
  },
  {
   "cell_type": "code",
   "execution_count": 9,
   "metadata": {},
   "outputs": [],
   "source": [
    "# Applying the new stopwords List to the Clean Text Column\n",
    "lemmatizer = WordNetLemmatizer()\n",
    "\n",
    "df['clean_text'] = df['clean_text'].map(lambda text: \" \".join([lemmatizer.lemmatize(w) \n",
    "                                                               for w in text.split(' ') if w not in stopword_list]))"
   ]
  },
  {
   "cell_type": "markdown",
   "metadata": {},
   "source": [
    "## 3. Data Preparation"
   ]
  },
  {
   "cell_type": "markdown",
   "metadata": {},
   "source": [
    "###### Separating Response Variable and Feature\n",
    "\n",
    " I have separated features(clean text) and response variable(rating class). Features are named as X, and response variable is named as y. \n"
   ]
  },
  {
   "cell_type": "code",
   "execution_count": 10,
   "metadata": {},
   "outputs": [],
   "source": [
    "rating_class_list=[]\n",
    "\n",
    "for i in df['rating_class']:\n",
    "    if i=='bad':\n",
    "        rating_class_list.append(0)\n",
    "    \n",
    "    else:\n",
    "        rating_class_list.append(1)\n",
    "        \n"
   ]
  },
  {
   "cell_type": "code",
   "execution_count": 11,
   "metadata": {},
   "outputs": [],
   "source": [
    "df['rating_class']=rating_class_list"
   ]
  },
  {
   "cell_type": "code",
   "execution_count": 12,
   "metadata": {},
   "outputs": [
    {
     "data": {
      "text/html": [
       "<div>\n",
       "<style scoped>\n",
       "    .dataframe tbody tr th:only-of-type {\n",
       "        vertical-align: middle;\n",
       "    }\n",
       "\n",
       "    .dataframe tbody tr th {\n",
       "        vertical-align: top;\n",
       "    }\n",
       "\n",
       "    .dataframe thead th {\n",
       "        text-align: right;\n",
       "    }\n",
       "</style>\n",
       "<table border=\"1\" class=\"dataframe\">\n",
       "  <thead>\n",
       "    <tr style=\"text-align: right;\">\n",
       "      <th></th>\n",
       "      <th>customer</th>\n",
       "      <th>product</th>\n",
       "      <th>review_text</th>\n",
       "      <th>rating_class</th>\n",
       "      <th>year</th>\n",
       "      <th>clean_text</th>\n",
       "      <th>clues</th>\n",
       "    </tr>\n",
       "  </thead>\n",
       "  <tbody>\n",
       "    <tr>\n",
       "      <td>0</td>\n",
       "      <td>A1N655X9X7C6QY</td>\n",
       "      <td>B00000J47L</td>\n",
       "      <td>Right out of the box and ready to go !Everythi...</td>\n",
       "      <td>1</td>\n",
       "      <td>2013</td>\n",
       "      <td>right box ready go everything star packaging c...</td>\n",
       "      <td>['right', 'box', 'ready', 'go', 'everything', ...</td>\n",
       "    </tr>\n",
       "    <tr>\n",
       "      <td>1</td>\n",
       "      <td>AEL6CQNQXONBX</td>\n",
       "      <td>B00000J47L</td>\n",
       "      <td>In this day and age it is hard to understand w...</td>\n",
       "      <td>1</td>\n",
       "      <td>2008</td>\n",
       "      <td>age hard understand everyone rechargable pack ...</td>\n",
       "      <td>['day', 'age', 'hard', 'understand', 'everyone...</td>\n",
       "    </tr>\n",
       "    <tr>\n",
       "      <td>2</td>\n",
       "      <td>A2032LF6FWWK8E</td>\n",
       "      <td>B00000J47L</td>\n",
       "      <td>At 2500ah, these rechargeable NiMh batteries p...</td>\n",
       "      <td>1</td>\n",
       "      <td>2006</td>\n",
       "      <td>ah rechargeable nimh provide power fully charg...</td>\n",
       "      <td>['ah', 'rechargeable', 'nimh', 'battery', 'pro...</td>\n",
       "    </tr>\n",
       "  </tbody>\n",
       "</table>\n",
       "</div>"
      ],
      "text/plain": [
       "         customer     product  \\\n",
       "0  A1N655X9X7C6QY  B00000J47L   \n",
       "1   AEL6CQNQXONBX  B00000J47L   \n",
       "2  A2032LF6FWWK8E  B00000J47L   \n",
       "\n",
       "                                         review_text  rating_class  year  \\\n",
       "0  Right out of the box and ready to go !Everythi...             1  2013   \n",
       "1  In this day and age it is hard to understand w...             1  2008   \n",
       "2  At 2500ah, these rechargeable NiMh batteries p...             1  2006   \n",
       "\n",
       "                                          clean_text  \\\n",
       "0  right box ready go everything star packaging c...   \n",
       "1  age hard understand everyone rechargable pack ...   \n",
       "2  ah rechargeable nimh provide power fully charg...   \n",
       "\n",
       "                                               clues  \n",
       "0  ['right', 'box', 'ready', 'go', 'everything', ...  \n",
       "1  ['day', 'age', 'hard', 'understand', 'everyone...  \n",
       "2  ['ah', 'rechargeable', 'nimh', 'battery', 'pro...  "
      ]
     },
     "execution_count": 12,
     "metadata": {},
     "output_type": "execute_result"
    }
   ],
   "source": [
    "df.head(3)"
   ]
  },
  {
   "cell_type": "markdown",
   "metadata": {},
   "source": [
    "###### Splitting Dataset into Train Test Set\n",
    "\n",
    "After that, I have divided the data into the training and test sets. 20% of dataset will be my testing set and 80% of the dataset will be the training set. To make sure to have consistent results, I also set the random state of the split.\n",
    "\n"
   ]
  },
  {
   "cell_type": "code",
   "execution_count": 13,
   "metadata": {},
   "outputs": [
    {
     "data": {
      "text/plain": [
       "(46504,)"
      ]
     },
     "execution_count": 13,
     "metadata": {},
     "output_type": "execute_result"
    }
   ],
   "source": [
    "# Splitting the Data Set into Train and Test Sets\n",
    "X = df['clean_text']\n",
    "y = df['rating_class']\n",
    "\n",
    "X.shape"
   ]
  },
  {
   "cell_type": "code",
   "execution_count": 14,
   "metadata": {},
   "outputs": [],
   "source": [
    "# Split Dataset into train and test set\n",
    "\n",
    "X_train,X_test,y_train,y_test=train_test_split(X,y,\n",
    "                                               test_size=0.20,random_state=42,stratify=y)"
   ]
  },
  {
   "cell_type": "code",
   "execution_count": 15,
   "metadata": {},
   "outputs": [
    {
     "name": "stdout",
     "output_type": "stream",
     "text": [
      "Train Set Shape\t\t:(37203,)\n",
      "Test Set Shape\t\t:(9301,)\n"
     ]
    }
   ],
   "source": [
    "# Print train and test set shape\n",
    "print ('Train Set Shape\\t\\t:{}\\nTest Set Shape\\t\\t:{}'.format(X_train.shape, X_test.shape))"
   ]
  },
  {
   "cell_type": "markdown",
   "metadata": {},
   "source": [
    "## 4. Choosing the Right Evaluation Metric \n",
    "\n",
    "Because I have a data imbalance in my case, I need to perform the evaluation of the classifier performance by using sufficient metrics to take the class distribution into account and to give a closer look to the minority class. Given that, I have used f1 score that is harmonic average of precision and recall it as evaluation metric. \n",
    "It is important to understand what types of errors in our model. In order to visualize the types of potential errors in the model, I use Confusion Matrix. It compares the predictions of my model with the true label. So, l use this matrix along with evaluation matrix, f1 score. \n",
    "\n"
   ]
  },
  {
   "cell_type": "markdown",
   "metadata": {},
   "source": [
    "###### Confusion Matrix Plot Function\n",
    "\n",
    "Understanding the types of errors our model makes, and least desirable are important . A good way to visualize that information is using a Confusion Matrix, which compares the predictions our model makes with the true label. With that in mind, we used confusion matrix besides our evaluation metric (f1 score)."
   ]
  },
  {
   "cell_type": "code",
   "execution_count": 16,
   "metadata": {},
   "outputs": [],
   "source": [
    "def plot_confusion_matrix(cm, classes,\n",
    "                          normalize=False,\n",
    "                          title = 'Confusion matrix',\n",
    "                          cmap = plt.cm.summer):\n",
    "    \"\"\"\n",
    "    Create a confusion matrix plot for 'good' and 'bad' rating values \n",
    "    \"\"\"\n",
    "    if normalize:\n",
    "        cm = cm.astype('float') / cm.sum(axis = 1)[:, np.newaxis]\n",
    "    plt.imshow(cm, interpolation = 'nearest', cmap = cmap)\n",
    "    plt.title(title, fontsize = 20)\n",
    "    plt.colorbar()\n",
    "    tick_marks = np.arange(len(classes))\n",
    "    plt.xticks(tick_marks, classes, fontsize = 20)\n",
    "    plt.yticks(tick_marks, classes, fontsize = 20)\n",
    "    \n",
    "    fmt = '.2f' if normalize else 'd'\n",
    "    thresh = cm.max() / 2.\n",
    "\n",
    "    for i, j in itertools.product(range(cm.shape[0]), range(cm.shape[1])):\n",
    "        plt.text(j, i, format(cm[i, j], fmt), horizontalalignment = \"center\", \n",
    "                 color = \"white\" if cm[i, j] < thresh else \"black\", fontsize = 40)\n",
    "    \n",
    "    sns.set_style({'xtick.bottom': True}, {'ytick.left': True})\n",
    "    \n",
    "    plt.tight_layout()\n",
    "    plt.ylabel('True Label', fontsize = 30)\n",
    "    plt.xlabel('Predicted Label', fontsize = 30)\n",
    "\n",
    "    return plt"
   ]
  },
  {
   "cell_type": "code",
   "execution_count": 17,
   "metadata": {},
   "outputs": [],
   "source": [
    "def disp_confusion_matrix(y_pred, model_name, vector = 'CounterVectorizing'):\n",
    "    \"\"\"\n",
    "    Display confusion matrix for selected model with countVectorizer\n",
    "    \"\"\"\n",
    "    cm = confusion_matrix(y_test, y_pred)\n",
    "    fig = plt.figure(figsize=(10, 10))\n",
    "    \n",
    "    plot = plot_confusion_matrix(cm, classes=['Bad','Good'], normalize=False, \n",
    "                                 title = model_name + \" \" + 'with' + \" \" + vector + \" \"+ '\\nConfusion Matrix')\n",
    "    \n",
    "    \n",
    "    \n",
    "    plt.show()"
   ]
  },
  {
   "cell_type": "markdown",
   "metadata": {},
   "source": [
    "## 5. Model Building \n",
    "\n",
    "\n",
    "This problem is a supervised binary classification problem. My analysis aims to predict the sentiment toward the product based on the reviews written by females who bought beauty products in Amazon. I used Python’s Scikit Learn libraries to solve the problem. In this case, I performed Logistic Regression, Random Forest and Naive Bayes algorithms . \n",
    "\n",
    "\n",
    "Because the ratings on the reviews were not normally distributed, I decreased rating categories from 5 to 2 by merging Rating 1 and 2 and rename as ‘Bad’ and merging Rating 4 and 5 and rename as 'Good'. I dropped Rating 3 from the dataset due to the reason l mentioned above. \n",
    "\n",
    "\n",
    "For feature selection purposes, I applied threshold for word occurrence by using min_df/max_df. For feature engineering purposes, I applied CountVectorizer, TF-IDF and Hashing Vectorizer  to the text data so l can convert a collection of text documents into numerical feature vectors.  \n"
   ]
  },
  {
   "cell_type": "markdown",
   "metadata": {},
   "source": [
    "#### 5.1 CountVectorizer Bag of Words\n",
    "\n",
    "\n",
    "Vectorization is a general process of converting a collection of text documents into numerical feature vectors. This particular strategy (tokenization, counting and normalization) is called the Bag of Words or “Bag of n-grams” representation. Word occurrences describe documents while disregarding the relative position information of the words in the document. \"CountVectorizer\" performs both tokenization and occurrence counting in a single class."
   ]
  },
  {
   "cell_type": "code",
   "execution_count": 18,
   "metadata": {},
   "outputs": [],
   "source": [
    "# Create the word vector with CountVectorizer\n",
    "count_vect = CountVectorizer(ngram_range=(1,1),min_df=0.0005)\n",
    "count_vect_train = count_vect.fit_transform(X_train)\n",
    "count_vect_train = count_vect_train.toarray()\n",
    "count_vect_test = count_vect.transform(X_test)\n",
    "count_vect_test = count_vect_test.toarray()"
   ]
  },
  {
   "cell_type": "code",
   "execution_count": 19,
   "metadata": {},
   "outputs": [
    {
     "name": "stdout",
     "output_type": "stream",
     "text": [
      "Vocabulary length : 6280\n"
     ]
    }
   ],
   "source": [
    "# Print vocabulary length\n",
    "print('Vocabulary length :', len(count_vect.get_feature_names()))"
   ]
  },
  {
   "cell_type": "markdown",
   "metadata": {},
   "source": [
    "###### Creating a function for applying different algorithms"
   ]
  },
  {
   "cell_type": "code",
   "execution_count": 20,
   "metadata": {},
   "outputs": [],
   "source": [
    "# Assign feature names of vector into a variable\n",
    "vocab = count_vect.get_feature_names()\n"
   ]
  },
  {
   "cell_type": "code",
   "execution_count": 21,
   "metadata": {},
   "outputs": [],
   "source": [
    "def modeling(Model, Xtrain = count_vect_train, Xtest = count_vect_test,ytrain=y_train):\n",
    "    \"\"\"\n",
    "    This function apply countVectorizer with machine learning algorithms. \n",
    "    \"\"\"\n",
    "    \n",
    "    # Instantiate the classifier: model\n",
    "    model = Model\n",
    "    \n",
    "    # Fitting classifier to the Training set (all features)\n",
    "    model.fit(Xtrain, y_train)\n",
    "    \n",
    "    global y_pred\n",
    "    # Predicting the Test set results\n",
    "    y_pred = model.predict(Xtest)\n",
    "    \n",
    "    # Assign f1 score to a variable\n",
    "    score = f1_score(y_test, y_pred, average = 'weighted')\n",
    "    \n",
    "    # Printing evaluation metric (f1-score) \n",
    "    print(\"f1 score: {}\".format(score))"
   ]
  },
  {
   "cell_type": "markdown",
   "metadata": {},
   "source": [
    "##### 5.1.1 Logistic Regression with CountVectorizer"
   ]
  },
  {
   "cell_type": "code",
   "execution_count": 22,
   "metadata": {},
   "outputs": [
    {
     "name": "stdout",
     "output_type": "stream",
     "text": [
      "f1 score: 0.8851140614222363\n"
     ]
    }
   ],
   "source": [
    "# Call the modeling function for logistic regression with countvectorizer and print f1 score\n",
    "modeling(LogisticRegression(multi_class = 'multinomial', \n",
    "                            solver = 'newton-cg',\n",
    "                            n_jobs=-1, \n",
    "                            class_weight = 'balanced',\n",
    "                            random_state = 42))\n",
    "\n",
    "# Assign y_pred to a variable for further process\n",
    "y_pred_cv_logreg = y_pred\n"
   ]
  },
  {
   "cell_type": "markdown",
   "metadata": {},
   "source": [
    "###### Classification Report"
   ]
  },
  {
   "cell_type": "code",
   "execution_count": 23,
   "metadata": {},
   "outputs": [
    {
     "name": "stdout",
     "output_type": "stream",
     "text": [
      "              precision    recall  f1-score   support\n",
      "\n",
      "           0       0.41      0.63      0.50       925\n",
      "           1       0.96      0.90      0.93      8376\n",
      "\n",
      "    accuracy                           0.87      9301\n",
      "   macro avg       0.68      0.77      0.71      9301\n",
      "weighted avg       0.90      0.87      0.89      9301\n",
      "\n"
     ]
    }
   ],
   "source": [
    "# Compute and print the classification report\n",
    "print(classification_report(y_test, y_pred_cv_logreg))\n"
   ]
  },
  {
   "cell_type": "markdown",
   "metadata": {},
   "source": [
    "###### Confusion Matrix"
   ]
  },
  {
   "cell_type": "code",
   "execution_count": 24,
   "metadata": {},
   "outputs": [
    {
     "data": {
      "image/png": "[encoded data removed]",
      "text/plain": [
       "<Figure size 720x720 with 2 Axes>"
      ]
     },
     "metadata": {
      "needs_background": "light"
     },
     "output_type": "display_data"
    }
   ],
   "source": [
    "# Print confusion matrix for logistic regression with countvectorizer\n",
    "disp_confusion_matrix(y_pred_cv_logreg, \"Logistic Regression\")"
   ]
  },
  {
   "cell_type": "markdown",
   "metadata": {},
   "source": [
    "##### 5.1.2 Random Forest with CountVectorizer"
   ]
  },
  {
   "cell_type": "code",
   "execution_count": 25,
   "metadata": {},
   "outputs": [
    {
     "name": "stdout",
     "output_type": "stream",
     "text": [
      "f1 score: 0.8632215019156334\n"
     ]
    }
   ],
   "source": [
    "# Call the modeling function for random forest classifier with countvectorizer and print f1 score\n",
    "modeling(RandomForestClassifier(n_estimators = 200, random_state = 42))\n",
    "\n",
    "# Assign y_pred to a variable for further process\n",
    "y_pred_cv_rf = y_pred"
   ]
  },
  {
   "cell_type": "markdown",
   "metadata": {},
   "source": [
    "###### Classification Report"
   ]
  },
  {
   "cell_type": "code",
   "execution_count": 26,
   "metadata": {},
   "outputs": [
    {
     "name": "stdout",
     "output_type": "stream",
     "text": [
      "              precision    recall  f1-score   support\n",
      "\n",
      "           0       0.75      0.05      0.09       925\n",
      "           1       0.90      1.00      0.95      8376\n",
      "\n",
      "    accuracy                           0.90      9301\n",
      "   macro avg       0.83      0.52      0.52      9301\n",
      "weighted avg       0.89      0.90      0.86      9301\n",
      "\n"
     ]
    }
   ],
   "source": [
    "# Compute and print the classification report\n",
    "print(classification_report(y_test, y_pred_cv_rf))"
   ]
  },
  {
   "cell_type": "markdown",
   "metadata": {},
   "source": [
    "###### Confusion Matrix"
   ]
  },
  {
   "cell_type": "code",
   "execution_count": 27,
   "metadata": {},
   "outputs": [
    {
     "data": {
      "image/png": "[encoded data removed]",
      "text/plain": [
       "<Figure size 720x720 with 2 Axes>"
      ]
     },
     "metadata": {
      "needs_background": "light"
     },
     "output_type": "display_data"
    }
   ],
   "source": [
    "# Print confusion matrix for random forest classifier with countVectorizer\n",
    "disp_confusion_matrix(y_pred_cv_rf, \"Random Forest\")\n"
   ]
  },
  {
   "cell_type": "markdown",
   "metadata": {},
   "source": [
    "##### 5.1.3 Naive Bayes with CountVectorizer"
   ]
  },
  {
   "cell_type": "code",
   "execution_count": 28,
   "metadata": {},
   "outputs": [
    {
     "name": "stdout",
     "output_type": "stream",
     "text": [
      "f1 score: 0.8762771687390939\n"
     ]
    }
   ],
   "source": [
    "# Call the modeling function for naive bayes with countvectorizer and print f1 score\n",
    "modeling(MultinomialNB())\n",
    "\n",
    "# Assign y_pred to a variable for further process\n",
    "y_pred_cv_nb = y_pred\n"
   ]
  },
  {
   "cell_type": "markdown",
   "metadata": {},
   "source": [
    "###### Classification Report\n"
   ]
  },
  {
   "cell_type": "code",
   "execution_count": 29,
   "metadata": {},
   "outputs": [
    {
     "name": "stdout",
     "output_type": "stream",
     "text": [
      "              precision    recall  f1-score   support\n",
      "\n",
      "           0       0.38      0.60      0.47       925\n",
      "           1       0.95      0.89      0.92      8376\n",
      "\n",
      "    accuracy                           0.86      9301\n",
      "   macro avg       0.67      0.75      0.69      9301\n",
      "weighted avg       0.90      0.86      0.88      9301\n",
      "\n"
     ]
    }
   ],
   "source": [
    "# Compute and print the classification report\n",
    "print(classification_report(y_test, y_pred_cv_nb))"
   ]
  },
  {
   "cell_type": "markdown",
   "metadata": {},
   "source": [
    "###### Confusion Matrix"
   ]
  },
  {
   "cell_type": "code",
   "execution_count": 30,
   "metadata": {},
   "outputs": [
    {
     "data": {
      "image/png": "[encoded data removed]",
      "text/plain": [
       "<Figure size 720x720 with 2 Axes>"
      ]
     },
     "metadata": {
      "needs_background": "light"
     },
     "output_type": "display_data"
    }
   ],
   "source": [
    "# Print confusion matrix for naive bayes with countVectorizer\n",
    "disp_confusion_matrix(y_pred_cv_nb, \"Naive Bayes\")"
   ]
  },
  {
   "cell_type": "markdown",
   "metadata": {},
   "source": [
    "##### 5.1.5 Comparison of Models with CountVectorizer"
   ]
  },
  {
   "cell_type": "markdown",
   "metadata": {},
   "source": [
    "###### Functions for Algorithms Comparison"
   ]
  },
  {
   "cell_type": "code",
   "execution_count": 34,
   "metadata": {},
   "outputs": [],
   "source": [
    "# Function for converting the \"classification report\" results to a dataframe\n",
    "def pandas_classification_report(y_true, y_pred):\n",
    "    metrics_summary = precision_recall_fscore_support(\n",
    "            y_true=y_true, \n",
    "            y_pred=y_pred)\n",
    "\n",
    "    avg = list(precision_recall_fscore_support(\n",
    "            y_true=y_true, \n",
    "            y_pred=y_pred,\n",
    "            average='weighted'))\n",
    "\n",
    "    metrics_sum_index = ['precision', 'recall', 'f1-score', 'support']\n",
    "    class_report_df = pd.DataFrame(\n",
    "        list(metrics_summary),\n",
    "        index=metrics_sum_index)\n",
    "\n",
    "    support = class_report_df.loc['support']\n",
    "    total = support.sum() \n",
    "    avg[-1] = total\n",
    "\n",
    "    class_report_df['weighted avg'] = avg\n",
    "\n",
    "    return class_report_df.T\n",
    "\n",
    "# Function for adding explanatory columns and organizing all dataframe\n",
    "def comparison_matrix(y_test, y_pred, label, vector):\n",
    "    df = pandas_classification_report(y_test, y_pred)\n",
    "    df['class']=['bad', 'good', 'average']\n",
    "    df['accuracy']= metrics.accuracy_score(y_test, y_pred)\n",
    "    df['model'] = label\n",
    "    df['vectorizer'] = vector\n",
    "    df = df[['vectorizer', 'model', 'accuracy', 'class', 'precision', 'recall', 'f1-score', 'support']]\n",
    "    return df"
   ]
  },
  {
   "cell_type": "code",
   "execution_count": 35,
   "metadata": {},
   "outputs": [],
   "source": [
    "#For loop for using \"comparison functions\" \n",
    "\n",
    "def comparison_table(y_preds, labels):\n",
    "    \n",
    "    # empty list for collecting dataframes\n",
    "    frames_tv = [] \n",
    "    \n",
    "    # list for y_preds\n",
    "    y_preds_tv = y_preds\n",
    "    \n",
    "    # list for labels\n",
    "    labels_tv = labels  \n",
    "    \n",
    "    vector_tv = 'CountVect'\n",
    "    \n",
    "    for y_pred, label in zip(y_preds_tv, labels_tv):\n",
    "        df = comparison_matrix(y_test, y_pred, label, vector_tv)\n",
    "        frames_tv.append(df)\n",
    "\n",
    "    # concatenating all dataframes\n",
    "    global df_tv\n",
    "    df_tv = pd.concat(frames_tv)\n",
    "    \n",
    "    global df_tv2\n",
    "    df_tv2 = df_tv.set_index(['vectorizer', 'model', 'accuracy', 'class'])"
   ]
  },
  {
   "cell_type": "markdown",
   "metadata": {},
   "source": [
    "###### Function for f1 Score Plotting"
   ]
  },
  {
   "cell_type": "code",
   "execution_count": 36,
   "metadata": {},
   "outputs": [],
   "source": [
    "def f1_score_bar_plot(df, category, title):\n",
    "    df = df[df['class']==category]\n",
    "    x = list(df['model'])\n",
    "    y = list(df['f1-score'])\n",
    "    y_round = list(round(df['f1-score'],2))\n",
    "    a = (list(df['f1-score'])).index(max(list(df['f1-score'])))\n",
    "    z = (list(df['f1-score'])).index(min(list(df['f1-score'])))\n",
    "    y_mean = round(df['f1-score'].mean(),2)\n",
    "    \n",
    "    plt.rcParams['figure.figsize']=[15,5]\n",
    "    b_plot = plt.bar(x=x,height=y)\n",
    "    b_plot[a].set_color('g')\n",
    "    b_plot[z].set_color('r')\n",
    "    \n",
    "    for i,v in enumerate(y_round):\n",
    "        plt.text(i-.15,0.018,str(v), color='black', fontsize=15, fontweight='bold')\n",
    "    \n",
    "    plt.axhline(y_mean,ls='--',color='k',label=y_mean)\n",
    "    plt.title(title)\n",
    "    plt.legend()\n",
    "    \n",
    "    return plt.show()"
   ]
  },
  {
   "cell_type": "markdown",
   "metadata": {},
   "source": [
    "###### Algorithms Comparison with CountVectorizer"
   ]
  },
  {
   "cell_type": "code",
   "execution_count": 34,
   "metadata": {},
   "outputs": [],
   "source": [
    "comparison_table(y_preds = [y_pred_cv_logreg, y_pred_cv_rf, y_pred_cv_nb], \n",
    "                labels = ['LogReg', 'Random Forest', 'Naive Bayes'])"
   ]
  },
  {
   "cell_type": "code",
   "execution_count": 35,
   "metadata": {},
   "outputs": [
    {
     "data": {
      "text/html": [
       "<div>\n",
       "<style scoped>\n",
       "    .dataframe tbody tr th:only-of-type {\n",
       "        vertical-align: middle;\n",
       "    }\n",
       "\n",
       "    .dataframe tbody tr th {\n",
       "        vertical-align: top;\n",
       "    }\n",
       "\n",
       "    .dataframe thead th {\n",
       "        text-align: right;\n",
       "    }\n",
       "</style>\n",
       "<table border=\"1\" class=\"dataframe\">\n",
       "  <thead>\n",
       "    <tr style=\"text-align: right;\">\n",
       "      <th></th>\n",
       "      <th></th>\n",
       "      <th></th>\n",
       "      <th></th>\n",
       "      <th>precision</th>\n",
       "      <th>recall</th>\n",
       "      <th>f1-score</th>\n",
       "      <th>support</th>\n",
       "    </tr>\n",
       "    <tr>\n",
       "      <th>vectorizer</th>\n",
       "      <th>model</th>\n",
       "      <th>accuracy</th>\n",
       "      <th>class</th>\n",
       "      <th></th>\n",
       "      <th></th>\n",
       "      <th></th>\n",
       "      <th></th>\n",
       "    </tr>\n",
       "  </thead>\n",
       "  <tbody>\n",
       "    <tr>\n",
       "      <td rowspan=\"9\" valign=\"top\">CountVect</td>\n",
       "      <td rowspan=\"3\" valign=\"top\">LogReg</td>\n",
       "      <td rowspan=\"3\" valign=\"top\">0.873669</td>\n",
       "      <td>bad</td>\n",
       "      <td>0.412096</td>\n",
       "      <td>0.633514</td>\n",
       "      <td>0.499361</td>\n",
       "      <td>925.0</td>\n",
       "    </tr>\n",
       "    <tr>\n",
       "      <td>good</td>\n",
       "      <td>0.956974</td>\n",
       "      <td>0.900191</td>\n",
       "      <td>0.927715</td>\n",
       "      <td>8376.0</td>\n",
       "    </tr>\n",
       "    <tr>\n",
       "      <td>average</td>\n",
       "      <td>0.902785</td>\n",
       "      <td>0.873669</td>\n",
       "      <td>0.885114</td>\n",
       "      <td>9301.0</td>\n",
       "    </tr>\n",
       "    <tr>\n",
       "      <td rowspan=\"3\" valign=\"top\">Random Forest</td>\n",
       "      <td rowspan=\"3\" valign=\"top\">0.903559</td>\n",
       "      <td>bad</td>\n",
       "      <td>0.750000</td>\n",
       "      <td>0.045405</td>\n",
       "      <td>0.085627</td>\n",
       "      <td>925.0</td>\n",
       "    </tr>\n",
       "    <tr>\n",
       "      <td>good</td>\n",
       "      <td>0.904489</td>\n",
       "      <td>0.998329</td>\n",
       "      <td>0.949095</td>\n",
       "      <td>8376.0</td>\n",
       "    </tr>\n",
       "    <tr>\n",
       "      <td>average</td>\n",
       "      <td>0.889125</td>\n",
       "      <td>0.903559</td>\n",
       "      <td>0.863222</td>\n",
       "      <td>9301.0</td>\n",
       "    </tr>\n",
       "    <tr>\n",
       "      <td rowspan=\"3\" valign=\"top\">Naive Bayes</td>\n",
       "      <td rowspan=\"3\" valign=\"top\">0.863348</td>\n",
       "      <td>bad</td>\n",
       "      <td>0.380854</td>\n",
       "      <td>0.597838</td>\n",
       "      <td>0.465292</td>\n",
       "      <td>925.0</td>\n",
       "    </tr>\n",
       "    <tr>\n",
       "      <td>good</td>\n",
       "      <td>0.952605</td>\n",
       "      <td>0.892670</td>\n",
       "      <td>0.921664</td>\n",
       "      <td>8376.0</td>\n",
       "    </tr>\n",
       "    <tr>\n",
       "      <td>average</td>\n",
       "      <td>0.895744</td>\n",
       "      <td>0.863348</td>\n",
       "      <td>0.876277</td>\n",
       "      <td>9301.0</td>\n",
       "    </tr>\n",
       "  </tbody>\n",
       "</table>\n",
       "</div>"
      ],
      "text/plain": [
       "                                           precision    recall  f1-score  \\\n",
       "vectorizer model         accuracy class                                    \n",
       "CountVect  LogReg        0.873669 bad       0.412096  0.633514  0.499361   \n",
       "                                  good      0.956974  0.900191  0.927715   \n",
       "                                  average   0.902785  0.873669  0.885114   \n",
       "           Random Forest 0.903559 bad       0.750000  0.045405  0.085627   \n",
       "                                  good      0.904489  0.998329  0.949095   \n",
       "                                  average   0.889125  0.903559  0.863222   \n",
       "           Naive Bayes   0.863348 bad       0.380854  0.597838  0.465292   \n",
       "                                  good      0.952605  0.892670  0.921664   \n",
       "                                  average   0.895744  0.863348  0.876277   \n",
       "\n",
       "                                           support  \n",
       "vectorizer model         accuracy class             \n",
       "CountVect  LogReg        0.873669 bad        925.0  \n",
       "                                  good      8376.0  \n",
       "                                  average   9301.0  \n",
       "           Random Forest 0.903559 bad        925.0  \n",
       "                                  good      8376.0  \n",
       "                                  average   9301.0  \n",
       "           Naive Bayes   0.863348 bad        925.0  \n",
       "                                  good      8376.0  \n",
       "                                  average   9301.0  "
      ]
     },
     "execution_count": 35,
     "metadata": {},
     "output_type": "execute_result"
    }
   ],
   "source": [
    "df_tv2"
   ]
  },
  {
   "cell_type": "code",
   "execution_count": 36,
   "metadata": {
    "scrolled": true
   },
   "outputs": [
    {
     "data": {
      "image/png": "[encoded data removed]",
      "text/plain": [
       "<Figure size 1080x360 with 1 Axes>"
      ]
     },
     "metadata": {
      "needs_background": "light"
     },
     "output_type": "display_data"
    }
   ],
   "source": [
    "# Plotting f1 score with \"f1_score_bar_plot\" function\n",
    "f1_score_bar_plot(df=df_tv, category='average', title= \"Average f1 Score\")"
   ]
  },
  {
   "cell_type": "markdown",
   "metadata": {},
   "source": [
    "Logistic Regression is the winner with 0.885114 score. \n",
    "\n",
    "\n",
    "\n",
    "The performance of the models have not been impacted by adding most and least common words.  "
   ]
  },
  {
   "cell_type": "markdown",
   "metadata": {},
   "source": [
    "### 5.2. Synthetic Minority Oversampling Technique (SMOTE)\n",
    "\n",
    "Because there is an imbalance in the values within the target variable, I will perform the SMOTE method in the dealing with this skewed value issue so l can see whether I may be able to improve our accuracy score. \n",
    "\n",
    "\n",
    "After SMOTE mechanism to mitigate target class imbalance and identifying best hyper-parameters, f1 score of my model did not show an enhancement and decreased to 0.866074. \n"
   ]
  },
  {
   "cell_type": "code",
   "execution_count": 22,
   "metadata": {},
   "outputs": [
    {
     "name": "stderr",
     "output_type": "stream",
     "text": [
      "Using TensorFlow backend.\n"
     ]
    },
    {
     "name": "stdout",
     "output_type": "stream",
     "text": [
      "(67006, 6280)\n",
      "(67006,)\n"
     ]
    }
   ],
   "source": [
    "#import neccessary packages\n",
    "from collections import Counter\n",
    "from imblearn.over_sampling import SMOTE\n",
    "\n",
    "# oversampling using SMOTE\n",
    "sm = SMOTE(random_state=42)\n",
    "\n",
    "X_train, y_train = sm.fit_sample(count_vect_train,y_train)\n",
    "\n",
    "df_text=X_train\n",
    "df_target=y_train\n",
    "\n",
    "# Print shape of X_train andy_train\n",
    "print(df_text.shape)\n",
    "print(df_target.shape)"
   ]
  },
  {
   "cell_type": "code",
   "execution_count": 23,
   "metadata": {},
   "outputs": [
    {
     "data": {
      "text/plain": [
       "Counter({1: 33503, 0: 33503})"
      ]
     },
     "execution_count": 23,
     "metadata": {},
     "output_type": "execute_result"
    }
   ],
   "source": [
    "from collections import Counter\n",
    "Counter(y_train) # Alternative way we can use `df_target.value_counts()`"
   ]
  },
  {
   "cell_type": "markdown",
   "metadata": {},
   "source": [
    "#### 5.2.1. Logistic Regression\n"
   ]
  },
  {
   "cell_type": "code",
   "execution_count": 24,
   "metadata": {},
   "outputs": [
    {
     "name": "stdout",
     "output_type": "stream",
     "text": [
      "f1 score: 0.8660743487737028\n"
     ]
    }
   ],
   "source": [
    "# Call the modeling function for logistic regression \n",
    "modeling(LogisticRegression(multi_class = 'multinomial', solver = 'newton-cg', \n",
    "                            class_weight = 'balanced', C = 0.1, n_jobs = -1, \n",
    "                            random_state = 42), Xtrain = df_text, ytrain = df_target)\n",
    "# Print f1 score\n",
    "\n",
    "y_pred_sm_logreg=y_pred"
   ]
  },
  {
   "cell_type": "markdown",
   "metadata": {},
   "source": [
    "###### Classification Report"
   ]
  },
  {
   "cell_type": "code",
   "execution_count": 25,
   "metadata": {},
   "outputs": [
    {
     "name": "stdout",
     "output_type": "stream",
     "text": [
      "              precision    recall  f1-score   support\n",
      "\n",
      "           0       0.35      0.55      0.42       925\n",
      "           1       0.95      0.89      0.91      8376\n",
      "\n",
      "    accuracy                           0.85      9301\n",
      "   macro avg       0.65      0.72      0.67      9301\n",
      "weighted avg       0.89      0.85      0.87      9301\n",
      "\n"
     ]
    }
   ],
   "source": [
    "# Compute and print the classification report\n",
    "print(classification_report(y_test, y_pred_sm_logreg))"
   ]
  },
  {
   "cell_type": "markdown",
   "metadata": {},
   "source": [
    "##### Confusion Matrix"
   ]
  },
  {
   "cell_type": "code",
   "execution_count": 26,
   "metadata": {},
   "outputs": [
    {
     "data": {
      "image/png": "[encoded data removed]",
      "text/plain": [
       "<Figure size 720x720 with 2 Axes>"
      ]
     },
     "metadata": {
      "needs_background": "light"
     },
     "output_type": "display_data"
    }
   ],
   "source": [
    "# Print confusion matrix for logistic regression \n",
    "disp_confusion_matrix(y_pred_sm_logreg, \"Logistic Regression\", \"SMOTE\")"
   ]
  },
  {
   "cell_type": "markdown",
   "metadata": {},
   "source": [
    "#### 5.2.2 Random Forest"
   ]
  },
  {
   "cell_type": "code",
   "execution_count": 27,
   "metadata": {},
   "outputs": [
    {
     "name": "stdout",
     "output_type": "stream",
     "text": [
      "f1 score: 0.8526777273671006\n"
     ]
    }
   ],
   "source": [
    "# Call the modeling function for random forest classifier \n",
    "modeling(RandomForestClassifier(n_estimators = 200, random_state = 42), \n",
    "         Xtrain = df_text, ytrain = df_target)\n",
    "\n",
    "# Print f1 score\n",
    "y_pred_sm_rf = y_pred"
   ]
  },
  {
   "cell_type": "markdown",
   "metadata": {},
   "source": [
    "###### Classification Report"
   ]
  },
  {
   "cell_type": "code",
   "execution_count": 28,
   "metadata": {},
   "outputs": [
    {
     "name": "stdout",
     "output_type": "stream",
     "text": [
      "              precision    recall  f1-score   support\n",
      "\n",
      "           0       0.23      0.16      0.19       925\n",
      "           1       0.91      0.94      0.93      8376\n",
      "\n",
      "    accuracy                           0.86      9301\n",
      "   macro avg       0.57      0.55      0.56      9301\n",
      "weighted avg       0.84      0.86      0.85      9301\n",
      "\n"
     ]
    }
   ],
   "source": [
    "# Compute and print the classification report\n",
    "print(classification_report(y_test, y_pred_sm_rf))"
   ]
  },
  {
   "cell_type": "markdown",
   "metadata": {},
   "source": [
    "###### Confusion Matrix"
   ]
  },
  {
   "cell_type": "code",
   "execution_count": 29,
   "metadata": {},
   "outputs": [
    {
     "data": {
      "image/png": "[encoded data removed]",
      "text/plain": [
       "<Figure size 720x720 with 2 Axes>"
      ]
     },
     "metadata": {
      "needs_background": "light"
     },
     "output_type": "display_data"
    }
   ],
   "source": [
    "# Print confusion matrix for random forest classifier\n",
    "disp_confusion_matrix(y_pred_sm_rf, \"Random Forest\", \"SMOTE\")"
   ]
  },
  {
   "cell_type": "markdown",
   "metadata": {},
   "source": [
    "#### 5.2.3 Naive Bayes\n"
   ]
  },
  {
   "cell_type": "code",
   "execution_count": 30,
   "metadata": {},
   "outputs": [
    {
     "name": "stdout",
     "output_type": "stream",
     "text": [
      "f1 score: 0.8617960112542741\n"
     ]
    }
   ],
   "source": [
    "# Call the modeling function for naive bayes \n",
    "modeling(MultinomialNB(), Xtrain = df_text, ytrain = df_target)\n",
    "\n",
    "# Print f1 score\n",
    "y_pred_sm_nb = y_pred"
   ]
  },
  {
   "cell_type": "markdown",
   "metadata": {},
   "source": [
    "###### Classification Report"
   ]
  },
  {
   "cell_type": "code",
   "execution_count": 31,
   "metadata": {},
   "outputs": [
    {
     "name": "stdout",
     "output_type": "stream",
     "text": [
      "              precision    recall  f1-score   support\n",
      "\n",
      "           0       0.33      0.50      0.40       925\n",
      "           1       0.94      0.89      0.91      8376\n",
      "\n",
      "    accuracy                           0.85      9301\n",
      "   macro avg       0.63      0.69      0.65      9301\n",
      "weighted avg       0.88      0.85      0.86      9301\n",
      "\n"
     ]
    }
   ],
   "source": [
    "# Compute and print the classification report\n",
    "print(classification_report(y_test, y_pred_sm_nb))\n"
   ]
  },
  {
   "cell_type": "markdown",
   "metadata": {},
   "source": [
    "###### Confusion Matrix"
   ]
  },
  {
   "cell_type": "code",
   "execution_count": 32,
   "metadata": {},
   "outputs": [
    {
     "data": {
      "image/png": "[encoded data removed]",
      "text/plain": [
       "<Figure size 720x720 with 2 Axes>"
      ]
     },
     "metadata": {
      "needs_background": "light"
     },
     "output_type": "display_data"
    }
   ],
   "source": [
    "# Print confusion matrix for naive bayes\n",
    "disp_confusion_matrix(y_pred_sm_nb, \"Naive Bayes\", \"SMOTE\")"
   ]
  },
  {
   "cell_type": "markdown",
   "metadata": {},
   "source": [
    "### 5.2.6 Comparison of SMOTE Models"
   ]
  },
  {
   "cell_type": "code",
   "execution_count": 37,
   "metadata": {},
   "outputs": [],
   "source": [
    "comparison_table(y_preds = [y_pred_sm_logreg, y_pred_sm_rf, y_pred_sm_nb], \n",
    "                 labels = ['LogReg', 'Random Forest', 'Naive Bayes'] )"
   ]
  },
  {
   "cell_type": "code",
   "execution_count": 38,
   "metadata": {},
   "outputs": [
    {
     "name": "stdout",
     "output_type": "stream",
     "text": [
      "\n",
      "Comparision Matrix of Modeling with SMOTE\n",
      "\n"
     ]
    },
    {
     "data": {
      "text/html": [
       "<div>\n",
       "<style scoped>\n",
       "    .dataframe tbody tr th:only-of-type {\n",
       "        vertical-align: middle;\n",
       "    }\n",
       "\n",
       "    .dataframe tbody tr th {\n",
       "        vertical-align: top;\n",
       "    }\n",
       "\n",
       "    .dataframe thead th {\n",
       "        text-align: right;\n",
       "    }\n",
       "</style>\n",
       "<table border=\"1\" class=\"dataframe\">\n",
       "  <thead>\n",
       "    <tr style=\"text-align: right;\">\n",
       "      <th></th>\n",
       "      <th></th>\n",
       "      <th></th>\n",
       "      <th></th>\n",
       "      <th>precision</th>\n",
       "      <th>recall</th>\n",
       "      <th>f1-score</th>\n",
       "      <th>support</th>\n",
       "    </tr>\n",
       "    <tr>\n",
       "      <th>vectorizer</th>\n",
       "      <th>model</th>\n",
       "      <th>accuracy</th>\n",
       "      <th>class</th>\n",
       "      <th></th>\n",
       "      <th></th>\n",
       "      <th></th>\n",
       "      <th></th>\n",
       "    </tr>\n",
       "  </thead>\n",
       "  <tbody>\n",
       "    <tr>\n",
       "      <td rowspan=\"9\" valign=\"top\">CountVect</td>\n",
       "      <td rowspan=\"3\" valign=\"top\">LogReg</td>\n",
       "      <td rowspan=\"3\" valign=\"top\">0.851736</td>\n",
       "      <td>bad</td>\n",
       "      <td>0.345368</td>\n",
       "      <td>0.548108</td>\n",
       "      <td>0.423736</td>\n",
       "      <td>925.0</td>\n",
       "    </tr>\n",
       "    <tr>\n",
       "      <td>good</td>\n",
       "      <td>0.946636</td>\n",
       "      <td>0.885267</td>\n",
       "      <td>0.914924</td>\n",
       "      <td>8376.0</td>\n",
       "    </tr>\n",
       "    <tr>\n",
       "      <td>average</td>\n",
       "      <td>0.886839</td>\n",
       "      <td>0.851736</td>\n",
       "      <td>0.866074</td>\n",
       "      <td>9301.0</td>\n",
       "    </tr>\n",
       "    <tr>\n",
       "      <td rowspan=\"3\" valign=\"top\">Random Forest</td>\n",
       "      <td rowspan=\"3\" valign=\"top\">0.863886</td>\n",
       "      <td>bad</td>\n",
       "      <td>0.234009</td>\n",
       "      <td>0.162162</td>\n",
       "      <td>0.191571</td>\n",
       "      <td>925.0</td>\n",
       "    </tr>\n",
       "    <tr>\n",
       "      <td>good</td>\n",
       "      <td>0.910508</td>\n",
       "      <td>0.941380</td>\n",
       "      <td>0.925687</td>\n",
       "      <td>8376.0</td>\n",
       "    </tr>\n",
       "    <tr>\n",
       "      <td>average</td>\n",
       "      <td>0.843229</td>\n",
       "      <td>0.863886</td>\n",
       "      <td>0.852678</td>\n",
       "      <td>9301.0</td>\n",
       "    </tr>\n",
       "    <tr>\n",
       "      <td rowspan=\"3\" valign=\"top\">Naive Bayes</td>\n",
       "      <td rowspan=\"3\" valign=\"top\">0.848188</td>\n",
       "      <td>bad</td>\n",
       "      <td>0.327915</td>\n",
       "      <td>0.501622</td>\n",
       "      <td>0.396581</td>\n",
       "      <td>925.0</td>\n",
       "    </tr>\n",
       "    <tr>\n",
       "      <td>good</td>\n",
       "      <td>0.941542</td>\n",
       "      <td>0.886461</td>\n",
       "      <td>0.913172</td>\n",
       "      <td>8376.0</td>\n",
       "    </tr>\n",
       "    <tr>\n",
       "      <td>average</td>\n",
       "      <td>0.880516</td>\n",
       "      <td>0.848188</td>\n",
       "      <td>0.861796</td>\n",
       "      <td>9301.0</td>\n",
       "    </tr>\n",
       "  </tbody>\n",
       "</table>\n",
       "</div>"
      ],
      "text/plain": [
       "                                           precision    recall  f1-score  \\\n",
       "vectorizer model         accuracy class                                    \n",
       "CountVect  LogReg        0.851736 bad       0.345368  0.548108  0.423736   \n",
       "                                  good      0.946636  0.885267  0.914924   \n",
       "                                  average   0.886839  0.851736  0.866074   \n",
       "           Random Forest 0.863886 bad       0.234009  0.162162  0.191571   \n",
       "                                  good      0.910508  0.941380  0.925687   \n",
       "                                  average   0.843229  0.863886  0.852678   \n",
       "           Naive Bayes   0.848188 bad       0.327915  0.501622  0.396581   \n",
       "                                  good      0.941542  0.886461  0.913172   \n",
       "                                  average   0.880516  0.848188  0.861796   \n",
       "\n",
       "                                           support  \n",
       "vectorizer model         accuracy class             \n",
       "CountVect  LogReg        0.851736 bad        925.0  \n",
       "                                  good      8376.0  \n",
       "                                  average   9301.0  \n",
       "           Random Forest 0.863886 bad        925.0  \n",
       "                                  good      8376.0  \n",
       "                                  average   9301.0  \n",
       "           Naive Bayes   0.848188 bad        925.0  \n",
       "                                  good      8376.0  \n",
       "                                  average   9301.0  "
      ]
     },
     "execution_count": 38,
     "metadata": {},
     "output_type": "execute_result"
    }
   ],
   "source": [
    "# Print the comparision matrix\n",
    "print('\\nComparision Matrix of Modeling with SMOTE\\n')\n",
    "df_tv2"
   ]
  },
  {
   "cell_type": "code",
   "execution_count": 39,
   "metadata": {},
   "outputs": [
    {
     "data": {
      "image/png": "[encoded data removed]",
      "text/plain": [
       "<Figure size 1080x360 with 1 Axes>"
      ]
     },
     "metadata": {
      "needs_background": "light"
     },
     "output_type": "display_data"
    }
   ],
   "source": [
    "# Plotting f1 score with \"f1_score_bar_plot\" function\n",
    "f1_score_bar_plot(df=df_tv, category='average', title= \"Average F1 Score\")"
   ]
  },
  {
   "cell_type": "markdown",
   "metadata": {},
   "source": [
    "Logistic Regression is the winner with 0.866074 score. "
   ]
  },
  {
   "cell_type": "markdown",
   "metadata": {},
   "source": [
    "# 6. CONCLUSION \n",
    "In this project, I aimed to predict the rating scores given the reviews written by the female customers. It is clearly demonstrated that data set preparation and feature engineering are as equally important as the model creation. I performed; \n",
    "- Count Vector, TF-IDF, Hashing Vector \n",
    "- Classification Models  \n",
    "- Adding most and least common words to CountVect, \n",
    "- SMOTE, \n",
    "I will use Logistic regression with Count Vectorizing in deploying section (f1 score is 0.898189). Including most and least common words in the stopword list didn’t have a significant effect on the performance of the models’ performance. Resampling technique and linear dimensionality reduction did not positively improve the model accuracy. However, it decreased the model performance. \n"
   ]
  },
  {
   "cell_type": "markdown",
   "metadata": {},
   "source": [
    "\n",
    "***\n",
    "### 5.1 Recommendations \n",
    "In this project, I aimed to predict the rating scores given the reviews written by the customers. It is clearly demonstrated that data set preparation and feature engineering are as equally important as the model creation. I performed;\n",
    "\n",
    "- Count Vector, TF-IDF, Hashing Vector\n",
    "- Classification Models\n",
    "- Adding most and least common words to CountVect, - SMOTE,\n",
    "\n",
    "\n",
    "I will use Logistic Regression with Count Vectorizing in deploying section (f1 score is 0.896189). Including most and least common words in the stopword list didn’t have a significant effect on the performance of the models’ performance. Resampling technique and linear dimensionality reduction did not positively improve the model accuracy. However, it decreased the model performance.\n",
    "\n",
    "***\n",
    "### 5.1 Recommendations\n",
    "I would recommend the client to use the model as it is and provide me to get better scores to implement Logistic Regression with with count vectorizer. By the way, the size of the data and prediction time are also important to be considered. For example, neural network \n",
    "\n",
    "algorithms may not be able to outperform with the low size data sets.\n",
    "I would recommend the client to provide a system where a user can write their reviews without mistakes. For example, that type of system should not accept the review if it does not meet the word/ grammar correctness criterion.\n",
    "\n",
    "\n",
    "I would recommend the client to encourage users to share their experience with products by providing incentives to them.\n",
    "\n",
    "\n",
    "I would recommend the client to use the reviews as a feedback mechanism, take actions towards them, and let the customers know about whether the problems reported in the reviews have been fixed.\n",
    "\n",
    "\n",
    "***\n",
    "**Controversial Cases**\n",
    "The controversial case such as \"I was expecting better - negative meaning\" or \"it was better than my expectation - positive meaning \" can be handled in the modelling section by using deep learning technique (Keras with Word2Vec).\n",
    "\n",
    "\n",
    "***\n",
    "\n",
    "### 5.2 Future Study\n",
    "As a future study, I might focus on the following topics:\n",
    "* Implementation of Dask library for parallel processing to reduce run time.\n",
    "* After reducing run time, focusing on hyperparameter tuning more.\n",
    "* Implementation of Deep Learning with different neural network types and different layer combinations to get better results.\n",
    "* Implementation of Principal Component Analysis maybe to improve result.\n"
   ]
  }
 ],
 "metadata": {
  "kernelspec": {
   "display_name": "Python 3",
   "language": "python",
   "name": "python3"
  },
  "language_info": {
   "codemirror_mode": {
    "name": "ipython",
    "version": 3
   },
   "file_extension": ".py",
   "mimetype": "text/x-python",
   "name": "python",
   "nbconvert_exporter": "python",
   "pygments_lexer": "ipython3",
   "version": "3.7.4"
  },
  "toc": {
   "base_numbering": 1,
   "nav_menu": {},
   "number_sections": false,
   "sideBar": true,
   "skip_h1_title": false,
   "title_cell": "Table of Contents",
   "title_sidebar": "Contents",
   "toc_cell": true,
   "toc_position": {},
   "toc_section_display": true,
   "toc_window_display": false
  }
 },
 "nbformat": 4,
 "nbformat_minor": 2
}
