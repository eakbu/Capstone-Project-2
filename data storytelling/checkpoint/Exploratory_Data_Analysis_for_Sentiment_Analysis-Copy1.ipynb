{
 "cells": [
  {
   "cell_type": "markdown",
   "metadata": {
    "toc": true
   },
   "source": [
    "<h1>Table of Contents<span class=\"tocSkip\"></span></h1>\n",
    "<div class=\"toc\"><ul class=\"toc-item\"><li><span><a href=\"#Data-Storytelling-of-Sentiment-Analysis\" data-toc-modified-id=\"Data-Storytelling-of-Sentiment-Analysis-1\">Data Storytelling of Sentiment Analysis</a></span><ul class=\"toc-item\"><li><ul class=\"toc-item\"><li><span><a href=\"#Import-necessary-packages\" data-toc-modified-id=\"Import-necessary-packages-1.0.1\">Import necessary packages</a></span></li><li><span><a href=\"#Reading-the-Dataset\" data-toc-modified-id=\"Reading-the-Dataset-1.0.2\">Reading the Dataset</a></span></li><li><span><a href=\"#Examine-the-Dataset\" data-toc-modified-id=\"Examine-the-Dataset-1.0.3\">Examine the Dataset</a></span></li><li><span><a href=\"##-Basic-information-about-Dataset\" data-toc-modified-id=\"#-Basic-information-about-Dataset-1.0.4\"># Basic information about Dataset</a></span></li></ul></li><li><span><a href=\"#Exploratory-Data-Analysis-(EDA)\" data-toc-modified-id=\"Exploratory-Data-Analysis-(EDA)-1.1\">Exploratory Data Analysis (EDA)</a></span><ul class=\"toc-item\"><li><span><a href=\"#Target-Variable\" data-toc-modified-id=\"Target-Variable-1.1.1\">Target Variable</a></span></li><li><span><a href=\"#Fatures\" data-toc-modified-id=\"Fatures-1.1.2\">Fatures</a></span><ul class=\"toc-item\"><li><span><a href=\"#1.-Customer-Feature\" data-toc-modified-id=\"1.-Customer-Feature-1.1.2.1\">1. Customer Feature</a></span><ul class=\"toc-item\"><li><span><a href=\"#How-many-distinct-customers-exist-in-the-dataset?\" data-toc-modified-id=\"How-many-distinct-customers-exist-in-the-dataset?-1.1.2.1.1\">How many distinct customers exist in the dataset?</a></span></li><li><span><a href=\"#How-many-unique-customers-exist-in-each-year?\" data-toc-modified-id=\"How-many-unique-customers-exist-in-each-year?-1.1.2.1.2\">How many unique customers exist in each year?</a></span></li><li><span><a href=\"#How-many-unique-customers-exist-in-each-rating-class?\" data-toc-modified-id=\"How-many-unique-customers-exist-in-each-rating-class?-1.1.2.1.3\">How many unique customers exist in each rating class?</a></span></li><li><span><a href=\"#Who-are-the-first-10-customers-with-most-reviews-and--buying-product?\" data-toc-modified-id=\"Who-are-the-first-10-customers-with-most-reviews-and--buying-product?-1.1.2.1.4\">Who are the first 10 customers with most reviews and  buying product?</a></span></li><li><span><a href=\"#How-many---ratings-are---rated-in-each-rating-class--by-the-first-10-customers-which-bought-most-product-?\" data-toc-modified-id=\"How-many---ratings-are---rated-in-each-rating-class--by-the-first-10-customers-which-bought-most-product-?-1.1.2.1.5\">How many   ratings are   rated in each rating class  by the first 10 customers which bought most product ?</a></span></li></ul></li><li><span><a href=\"#2.-Product-Feature\" data-toc-modified-id=\"2.-Product-Feature-1.1.2.2\">2. Product Feature</a></span><ul class=\"toc-item\"><li><span><a href=\"#How-many-unique-products-exist-in-the-dataset?\" data-toc-modified-id=\"How-many-unique-products-exist-in-the-dataset?-1.1.2.2.1\">How many unique products exist in the dataset?</a></span></li><li><span><a href=\"#How-many-unique-products-exist-in-each-year?\" data-toc-modified-id=\"How-many-unique-products-exist-in-each-year?-1.1.2.2.2\">How many unique products exist in each year?</a></span></li><li><span><a href=\"#What-are-the-first-10-products-with-most-reviews\" data-toc-modified-id=\"What-are-the-first-10-products-with-most-reviews-1.1.2.2.3\">What are the first 10 products with most reviews</a></span></li><li><span><a href=\"#How-many---ratings-are---rated-in-each-rating-class--by-the-first-10-customers-which-bought\" data-toc-modified-id=\"How-many---ratings-are---rated-in-each-rating-class--by-the-first-10-customers-which-bought-1.1.2.2.4\">How many   ratings are   rated in each rating class  by the first 10 customers which bought</a></span></li><li><span><a href=\"#3.-Review-Length-Feature\" data-toc-modified-id=\"3.-Review-Length-Feature-1.1.2.2.5\">3. Review Length Feature</a></span></li></ul></li></ul></li></ul></li></ul></li></ul></div>"
   ]
  },
  {
   "cell_type": "markdown",
   "metadata": {},
   "source": [
    "# Data Storytelling of Sentiment Analysis "
   ]
  },
  {
   "cell_type": "markdown",
   "metadata": {},
   "source": [
    "### Import necessary packages"
   ]
  },
  {
   "cell_type": "code",
   "execution_count": 1,
   "metadata": {
    "scrolled": true
   },
   "outputs": [
    {
     "name": "stderr",
     "output_type": "stream",
     "text": [
      "[nltk_data] Downloading package punkt to\n",
      "[nltk_data]     /Users/emineakbulut/nltk_data...\n",
      "[nltk_data]   Package punkt is already up-to-date!\n"
     ]
    }
   ],
   "source": [
    "# Dataframe\n",
    "import pandas as pd\n",
    "\n",
    "# Array\n",
    "import numpy as np\n",
    "\n",
    "# Decompress the file\n",
    "import gzip\n",
    "\n",
    "# Visualizations\n",
    "import matplotlib.pyplot as plt\n",
    "from matplotlib.colors import ListedColormap\n",
    "import seaborn as sns\n",
    "import matplotlib.colors as colors\n",
    "%matplotlib inline\n",
    "from wordcloud import WordCloud, STOPWORDS\n",
    "\n",
    "# Datetime\n",
    "from datetime import datetime\n",
    "\n",
    "# text preprocessing\n",
    "import spacy\n",
    "import nltk\n",
    "nltk.download('punkt')\n",
    "from nltk.corpus import stopwords\n",
    "from nltk.stem import PorterStemmer, WordNetLemmatizer\n",
    "from nltk.tokenize import word_tokenize, sent_tokenize, regexp_tokenize\n",
    "from nltk.tokenize import RegexpTokenizer\n",
    "from nltk.tokenize.toktok import ToktokTokenizer\n",
    "import re\n",
    "from bs4 import BeautifulSoup\n",
    "from contractions import CONTRACTION_MAP\n",
    "import unicodedata\n",
    "tokenizer = ToktokTokenizer()\n",
    "nlp = spacy.load('en', parse=True, tag=True, entity=True)\n",
    "from sklearn.feature_extraction.text import CountVectorizer\n",
    "\n",
    "## Warnings\n",
    "import warnings\n",
    "from scipy import stats\n",
    "warnings.filterwarnings('ignore')"
   ]
  },
  {
   "cell_type": "markdown",
   "metadata": {},
   "source": [
    "### Reading the Dataset"
   ]
  },
  {
   "cell_type": "code",
   "execution_count": 2,
   "metadata": {},
   "outputs": [],
   "source": [
    "# Read the file\n",
    "df=pd.read_csv('/Users/emineakbulut/Desktop/capstone project 2/data/cleaned_review_health_and_personal_care.csv')"
   ]
  },
  {
   "cell_type": "markdown",
   "metadata": {},
   "source": [
    "### Examine the Dataset"
   ]
  },
  {
   "cell_type": "code",
   "execution_count": 3,
   "metadata": {},
   "outputs": [
    {
     "data": {
      "text/html": [
       "<div>\n",
       "<style scoped>\n",
       "    .dataframe tbody tr th:only-of-type {\n",
       "        vertical-align: middle;\n",
       "    }\n",
       "\n",
       "    .dataframe tbody tr th {\n",
       "        vertical-align: top;\n",
       "    }\n",
       "\n",
       "    .dataframe thead th {\n",
       "        text-align: right;\n",
       "    }\n",
       "</style>\n",
       "<table border=\"1\" class=\"dataframe\">\n",
       "  <thead>\n",
       "    <tr style=\"text-align: right;\">\n",
       "      <th></th>\n",
       "      <th>customer</th>\n",
       "      <th>product</th>\n",
       "      <th>rating</th>\n",
       "      <th>review_text</th>\n",
       "      <th>pos_feedback</th>\n",
       "      <th>neg_feedback</th>\n",
       "      <th>rating_class</th>\n",
       "      <th>time</th>\n",
       "      <th>year</th>\n",
       "      <th>clean_text</th>\n",
       "      <th>clues</th>\n",
       "    </tr>\n",
       "  </thead>\n",
       "  <tbody>\n",
       "    <tr>\n",
       "      <td>54784</td>\n",
       "      <td>A1Y3FEUELH3FTI</td>\n",
       "      <td>B00LJBMCKK</td>\n",
       "      <td>5.0</td>\n",
       "      <td>Great Product, Gave extra energy without the j...</td>\n",
       "      <td>0</td>\n",
       "      <td>0</td>\n",
       "      <td>good</td>\n",
       "      <td>2014-07-12</td>\n",
       "      <td>2014</td>\n",
       "      <td>great product give extra energy without jitter...</td>\n",
       "      <td>['great', 'product', 'give', 'extra', 'energy'...</td>\n",
       "    </tr>\n",
       "    <tr>\n",
       "      <td>54785</td>\n",
       "      <td>A11LC938XF35XN</td>\n",
       "      <td>B00LJBMCKK</td>\n",
       "      <td>5.0</td>\n",
       "      <td>I get lots of energy from this product. I felt...</td>\n",
       "      <td>0</td>\n",
       "      <td>0</td>\n",
       "      <td>good</td>\n",
       "      <td>2014-07-18</td>\n",
       "      <td>2014</td>\n",
       "      <td>get lot energy product feel sluggish slow morn...</td>\n",
       "      <td>['get', 'lot', 'energy', 'product', 'feel', 's...</td>\n",
       "    </tr>\n",
       "    <tr>\n",
       "      <td>54786</td>\n",
       "      <td>A2I8KUDXTC9WYI</td>\n",
       "      <td>B00LJBMCKK</td>\n",
       "      <td>5.0</td>\n",
       "      <td>I started using this product because it was re...</td>\n",
       "      <td>1</td>\n",
       "      <td>0</td>\n",
       "      <td>good</td>\n",
       "      <td>2014-07-17</td>\n",
       "      <td>2014</td>\n",
       "      <td>start use product recommend dr oz program dr o...</td>\n",
       "      <td>['start', 'use', 'product', 'recommend', 'dr',...</td>\n",
       "    </tr>\n",
       "  </tbody>\n",
       "</table>\n",
       "</div>"
      ],
      "text/plain": [
       "             customer     product  rating  \\\n",
       "54784  A1Y3FEUELH3FTI  B00LJBMCKK     5.0   \n",
       "54785  A11LC938XF35XN  B00LJBMCKK     5.0   \n",
       "54786  A2I8KUDXTC9WYI  B00LJBMCKK     5.0   \n",
       "\n",
       "                                             review_text  pos_feedback  \\\n",
       "54784  Great Product, Gave extra energy without the j...             0   \n",
       "54785  I get lots of energy from this product. I felt...             0   \n",
       "54786  I started using this product because it was re...             1   \n",
       "\n",
       "       neg_feedback rating_class        time  year  \\\n",
       "54784             0         good  2014-07-12  2014   \n",
       "54785             0         good  2014-07-18  2014   \n",
       "54786             0         good  2014-07-17  2014   \n",
       "\n",
       "                                              clean_text  \\\n",
       "54784  great product give extra energy without jitter...   \n",
       "54785  get lot energy product feel sluggish slow morn...   \n",
       "54786  start use product recommend dr oz program dr o...   \n",
       "\n",
       "                                                   clues  \n",
       "54784  ['great', 'product', 'give', 'extra', 'energy'...  \n",
       "54785  ['get', 'lot', 'energy', 'product', 'feel', 's...  \n",
       "54786  ['start', 'use', 'product', 'recommend', 'dr',...  "
      ]
     },
     "execution_count": 3,
     "metadata": {},
     "output_type": "execute_result"
    }
   ],
   "source": [
    "# Tail observations of the dataset\n",
    "df.tail(3)"
   ]
  },
  {
   "cell_type": "code",
   "execution_count": 4,
   "metadata": {
    "scrolled": true
   },
   "outputs": [
    {
     "data": {
      "image/png": "[encoded data removed]",
      "text/plain": [
       "<Figure size 648x648 with 1 Axes>"
      ]
     },
     "metadata": {
      "needs_background": "light"
     },
     "output_type": "display_data"
    }
   ],
   "source": [
    "# Check missing value in the dataset\n",
    "plt.figure(figsize=(9,9))\n",
    "#sns.set()\n",
    "ax=sns.heatmap(df.isnull(),cbar=False,cmap='Pastel1')"
   ]
  },
  {
   "cell_type": "markdown",
   "metadata": {},
   "source": [
    "<font color='green'> \n",
    "    \n",
    "> **There is no missing values.**\n",
    " \n",
    "</font>"
   ]
  },
  {
   "cell_type": "markdown",
   "metadata": {},
   "source": [
    "### # Basic information about Dataset"
   ]
  },
  {
   "cell_type": "code",
   "execution_count": 5,
   "metadata": {},
   "outputs": [
    {
     "name": "stdout",
     "output_type": "stream",
     "text": [
      "<class 'pandas.core.frame.DataFrame'>\n",
      "RangeIndex: 54787 entries, 0 to 54786\n",
      "Data columns (total 11 columns):\n",
      "customer        54787 non-null object\n",
      "product         54787 non-null object\n",
      "rating          54787 non-null float64\n",
      "review_text     54787 non-null object\n",
      "pos_feedback    54787 non-null int64\n",
      "neg_feedback    54787 non-null int64\n",
      "rating_class    54787 non-null object\n",
      "time            54787 non-null object\n",
      "year            54787 non-null int64\n",
      "clean_text      54787 non-null object\n",
      "clues           54787 non-null object\n",
      "dtypes: float64(1), int64(3), object(7)\n",
      "memory usage: 4.6+ MB\n"
     ]
    }
   ],
   "source": [
    "# Print the info of the dataset\n",
    "\n",
    "df.info()"
   ]
  },
  {
   "cell_type": "code",
   "execution_count": 6,
   "metadata": {},
   "outputs": [
    {
     "data": {
      "text/html": [
       "<div>\n",
       "<style scoped>\n",
       "    .dataframe tbody tr th:only-of-type {\n",
       "        vertical-align: middle;\n",
       "    }\n",
       "\n",
       "    .dataframe tbody tr th {\n",
       "        vertical-align: top;\n",
       "    }\n",
       "\n",
       "    .dataframe thead th {\n",
       "        text-align: right;\n",
       "    }\n",
       "</style>\n",
       "<table border=\"1\" class=\"dataframe\">\n",
       "  <thead>\n",
       "    <tr style=\"text-align: right;\">\n",
       "      <th></th>\n",
       "      <th>rating</th>\n",
       "      <th>pos_feedback</th>\n",
       "      <th>neg_feedback</th>\n",
       "      <th>year</th>\n",
       "    </tr>\n",
       "  </thead>\n",
       "  <tbody>\n",
       "    <tr>\n",
       "      <td>count</td>\n",
       "      <td>54787.000000</td>\n",
       "      <td>54787.000000</td>\n",
       "      <td>54787.000000</td>\n",
       "      <td>54787.000000</td>\n",
       "    </tr>\n",
       "    <tr>\n",
       "      <td>mean</td>\n",
       "      <td>4.089492</td>\n",
       "      <td>2.147754</td>\n",
       "      <td>0.524705</td>\n",
       "      <td>2012.370635</td>\n",
       "    </tr>\n",
       "    <tr>\n",
       "      <td>std</td>\n",
       "      <td>1.026216</td>\n",
       "      <td>25.584276</td>\n",
       "      <td>2.131750</td>\n",
       "      <td>1.620425</td>\n",
       "    </tr>\n",
       "    <tr>\n",
       "      <td>min</td>\n",
       "      <td>1.000000</td>\n",
       "      <td>0.000000</td>\n",
       "      <td>0.000000</td>\n",
       "      <td>2004.000000</td>\n",
       "    </tr>\n",
       "    <tr>\n",
       "      <td>25%</td>\n",
       "      <td>4.000000</td>\n",
       "      <td>0.000000</td>\n",
       "      <td>0.000000</td>\n",
       "      <td>2011.000000</td>\n",
       "    </tr>\n",
       "    <tr>\n",
       "      <td>50%</td>\n",
       "      <td>4.000000</td>\n",
       "      <td>0.000000</td>\n",
       "      <td>0.000000</td>\n",
       "      <td>2013.000000</td>\n",
       "    </tr>\n",
       "    <tr>\n",
       "      <td>75%</td>\n",
       "      <td>5.000000</td>\n",
       "      <td>1.000000</td>\n",
       "      <td>1.000000</td>\n",
       "      <td>2014.000000</td>\n",
       "    </tr>\n",
       "    <tr>\n",
       "      <td>max</td>\n",
       "      <td>5.000000</td>\n",
       "      <td>1950.000000</td>\n",
       "      <td>181.000000</td>\n",
       "      <td>2014.000000</td>\n",
       "    </tr>\n",
       "  </tbody>\n",
       "</table>\n",
       "</div>"
      ],
      "text/plain": [
       "             rating  pos_feedback  neg_feedback          year\n",
       "count  54787.000000  54787.000000  54787.000000  54787.000000\n",
       "mean       4.089492      2.147754      0.524705   2012.370635\n",
       "std        1.026216     25.584276      2.131750      1.620425\n",
       "min        1.000000      0.000000      0.000000   2004.000000\n",
       "25%        4.000000      0.000000      0.000000   2011.000000\n",
       "50%        4.000000      0.000000      0.000000   2013.000000\n",
       "75%        5.000000      1.000000      1.000000   2014.000000\n",
       "max        5.000000   1950.000000    181.000000   2014.000000"
      ]
     },
     "execution_count": 6,
     "metadata": {},
     "output_type": "execute_result"
    }
   ],
   "source": [
    "# Print the describe of the dataset\n",
    "\n",
    "df.describe()"
   ]
  },
  {
   "cell_type": "markdown",
   "metadata": {},
   "source": [
    "## Exploratory Data Analysis (EDA)"
   ]
  },
  {
   "cell_type": "markdown",
   "metadata": {},
   "source": [
    "### Target Variable"
   ]
  },
  {
   "cell_type": "code",
   "execution_count": 7,
   "metadata": {},
   "outputs": [
    {
     "data": {
      "image/png": "[encoded data removed]",
      "text/plain": [
       "<Figure size 648x648 with 1 Axes>"
      ]
     },
     "metadata": {
      "needs_background": "light"
     },
     "output_type": "display_data"
    },
    {
     "name": "stdout",
     "output_type": "stream",
     "text": [
      "Total Reviews : 54787\n",
      "\n",
      "Total Rate of Rating Class\n",
      "\n",
      "good       41879\n",
      "neutral     8283\n",
      "bad         4625\n",
      "Name: rating_class, dtype: int64\n"
     ]
    }
   ],
   "source": [
    "#Total rate of Rating Class in the health and personal care reviews from amazon\n",
    "\n",
    "# Plot the total rate of rating class column\n",
    "plt.figure(figsize=(9,9))\n",
    "ax = sns.countplot(x='rating_class',data=df,order=df.rating_class.value_counts().index,palette='tab20')\n",
    "_  = plt.title('Total Rate of Rating Class', fontsize=17, fontweight='bold')\n",
    "_  = plt.xticks(fontsize=16)\n",
    "_  = plt.ylabel('Number of reviews',fontsize=15,fontweight='bold')\n",
    "_  = plt.xlabel('Rating Class',fontsize=15,fontweight='bold')\n",
    "\n",
    "# Calculate the percentages of the category\n",
    "size=[]\n",
    "total_data = len(df)\n",
    "for i in ax.patches:\n",
    "    height = i.get_height()\n",
    "    ax.text(i.get_x()+i.get_width()/2.,height+0.2,\n",
    "           '{:1.2f}%'.format(height/total_data*100),ha='center',fontsize=13)\n",
    "    \n",
    "# Display the plot\n",
    "_  = plt.show()\n",
    "\n",
    "\n",
    "\n",
    "# Total Reviews for each rating class \n",
    "\n",
    "print('Total Reviews : {}'.format(len(df.rating_class)))\n",
    "print('')\n",
    "print('Total Rate of Rating Class')\n",
    "print('')\n",
    "print(df.rating_class.value_counts())\n"
   ]
  },
  {
   "cell_type": "markdown",
   "metadata": {},
   "source": [
    "<font color='green'> \n",
    "\n",
    ">**There are 54787 reviews and ratings that are wroted for each health and personal care product which they are bought in the Amazon between 2004-2014. This above graph demonstrates most of costumer satisfy with product.**\n",
    "\n",
    ">**I categorized those 5 rating categories into 3 categories such as good, bad ,and neutral for doing a better sentiment analysis on their reviews. As the graph shows, %76.44 of reviews (41879) are classified as good, %15.12 of reviews(8283) are classified as neutral. %8.44 of reviews(4625) are classified as bad.**\n",
    "</font>"
   ]
  },
  {
   "cell_type": "code",
   "execution_count": 8,
   "metadata": {
    "scrolled": true
   },
   "outputs": [
    {
     "data": {
      "text/html": [
       "<div>\n",
       "<style scoped>\n",
       "    .dataframe tbody tr th:only-of-type {\n",
       "        vertical-align: middle;\n",
       "    }\n",
       "\n",
       "    .dataframe tbody tr th {\n",
       "        vertical-align: top;\n",
       "    }\n",
       "\n",
       "    .dataframe thead th {\n",
       "        text-align: right;\n",
       "    }\n",
       "</style>\n",
       "<table border=\"1\" class=\"dataframe\">\n",
       "  <thead>\n",
       "    <tr style=\"text-align: right;\">\n",
       "      <th></th>\n",
       "      <th>Year</th>\n",
       "      <th>Bad Ratings</th>\n",
       "      <th>Good Ratings</th>\n",
       "      <th>Neutral Ratings</th>\n",
       "      <th>Total Reviews</th>\n",
       "    </tr>\n",
       "  </thead>\n",
       "  <tbody>\n",
       "    <tr>\n",
       "      <td>0</td>\n",
       "      <td>2004</td>\n",
       "      <td>0.0</td>\n",
       "      <td>2.0</td>\n",
       "      <td>2.0</td>\n",
       "      <td>4</td>\n",
       "    </tr>\n",
       "    <tr>\n",
       "      <td>1</td>\n",
       "      <td>2005</td>\n",
       "      <td>2.0</td>\n",
       "      <td>9.0</td>\n",
       "      <td>1.0</td>\n",
       "      <td>12</td>\n",
       "    </tr>\n",
       "    <tr>\n",
       "      <td>2</td>\n",
       "      <td>2006</td>\n",
       "      <td>1.0</td>\n",
       "      <td>22.0</td>\n",
       "      <td>3.0</td>\n",
       "      <td>26</td>\n",
       "    </tr>\n",
       "    <tr>\n",
       "      <td>3</td>\n",
       "      <td>2007</td>\n",
       "      <td>28.0</td>\n",
       "      <td>351.0</td>\n",
       "      <td>50.0</td>\n",
       "      <td>429</td>\n",
       "    </tr>\n",
       "    <tr>\n",
       "      <td>4</td>\n",
       "      <td>2008</td>\n",
       "      <td>125.0</td>\n",
       "      <td>1057.0</td>\n",
       "      <td>233.0</td>\n",
       "      <td>1415</td>\n",
       "    </tr>\n",
       "    <tr>\n",
       "      <td>5</td>\n",
       "      <td>2009</td>\n",
       "      <td>270.0</td>\n",
       "      <td>1397.0</td>\n",
       "      <td>382.0</td>\n",
       "      <td>2049</td>\n",
       "    </tr>\n",
       "    <tr>\n",
       "      <td>6</td>\n",
       "      <td>2010</td>\n",
       "      <td>430.0</td>\n",
       "      <td>2922.0</td>\n",
       "      <td>664.0</td>\n",
       "      <td>4016</td>\n",
       "    </tr>\n",
       "    <tr>\n",
       "      <td>7</td>\n",
       "      <td>2011</td>\n",
       "      <td>508.0</td>\n",
       "      <td>4471.0</td>\n",
       "      <td>891.0</td>\n",
       "      <td>5870</td>\n",
       "    </tr>\n",
       "    <tr>\n",
       "      <td>8</td>\n",
       "      <td>2012</td>\n",
       "      <td>696.0</td>\n",
       "      <td>4543.0</td>\n",
       "      <td>1010.0</td>\n",
       "      <td>6249</td>\n",
       "    </tr>\n",
       "    <tr>\n",
       "      <td>9</td>\n",
       "      <td>2013</td>\n",
       "      <td>1744.0</td>\n",
       "      <td>15883.0</td>\n",
       "      <td>3375.0</td>\n",
       "      <td>21002</td>\n",
       "    </tr>\n",
       "    <tr>\n",
       "      <td>10</td>\n",
       "      <td>2014</td>\n",
       "      <td>821.0</td>\n",
       "      <td>11222.0</td>\n",
       "      <td>1672.0</td>\n",
       "      <td>13715</td>\n",
       "    </tr>\n",
       "  </tbody>\n",
       "</table>\n",
       "</div>"
      ],
      "text/plain": [
       "    Year  Bad Ratings  Good Ratings  Neutral Ratings  Total Reviews\n",
       "0   2004          0.0           2.0              2.0              4\n",
       "1   2005          2.0           9.0              1.0             12\n",
       "2   2006          1.0          22.0              3.0             26\n",
       "3   2007         28.0         351.0             50.0            429\n",
       "4   2008        125.0        1057.0            233.0           1415\n",
       "5   2009        270.0        1397.0            382.0           2049\n",
       "6   2010        430.0        2922.0            664.0           4016\n",
       "7   2011        508.0        4471.0            891.0           5870\n",
       "8   2012        696.0        4543.0           1010.0           6249\n",
       "9   2013       1744.0       15883.0           3375.0          21002\n",
       "10  2014        821.0       11222.0           1672.0          13715"
      ]
     },
     "execution_count": 8,
     "metadata": {},
     "output_type": "execute_result"
    }
   ],
   "source": [
    "df_group=df[['year','rating_class']]\n",
    "df_group=pd.get_dummies(df_group)\n",
    "df_group['review_text']=df['review_text']\n",
    "df_group=df_group.groupby('year').agg({'rating_class_bad':['sum'],'rating_class_good':['sum'],\n",
    "                             'rating_class_neutral':['sum'],'review_text':['size']})\n",
    "\n",
    "\n",
    "\n",
    "#dff.columns=['_'.join(cols).strip() for cols in dff.columns.values]\n",
    "df_group=df_group.reset_index()\n",
    "df_group.columns=['Year','Bad Ratings','Good Ratings',\n",
    "             'Neutral Ratings','Total Reviews']\n",
    "\n",
    "\n",
    "df_group"
   ]
  },
  {
   "cell_type": "code",
   "execution_count": 9,
   "metadata": {},
   "outputs": [
    {
     "data": {
      "image/png": "[encoded data removed]",
      "text/plain": [
       "<Figure size 1152x720 with 1 Axes>"
      ]
     },
     "metadata": {},
     "output_type": "display_data"
    }
   ],
   "source": [
    "df_pivot=pd.pivot_table(data=df,index='year',columns='rating_class',aggfunc='size',values='review_text')\n",
    "\n",
    "# Plot total number of rating class for each year\n",
    "sns.set()\n",
    "ax=df_pivot.plot(kind='bar',figsize=(16,10),width=0.8)\n",
    "\n",
    "\n",
    "\n",
    "\n"
   ]
  },
  {
   "cell_type": "code",
   "execution_count": 10,
   "metadata": {
    "scrolled": true
   },
   "outputs": [
    {
     "data": {
      "text/plain": [
       "<Figure size 936x504 with 0 Axes>"
      ]
     },
     "metadata": {},
     "output_type": "display_data"
    }
   ],
   "source": [
    "#df_pivot=df_pivot.reset_index()\n",
    "\n",
    "plt.figure(figsize=(13,7))\n",
    "\n",
    "\n",
    "      \n",
    "\n",
    "#df_pivot=df_pivot.unstack(level=0)\n",
    "         \n",
    "#df_pivot.columns()            \n",
    "            \n",
    "#pd.DataFrame(df_pivot)  \n",
    "#df_pivot.unstack(level=0)\n",
    "df_pivot1=df_pivot.reset_index()\n",
    "df_pivot1.columns=['year','bad','good','neutral']"
   ]
  },
  {
   "cell_type": "code",
   "execution_count": 11,
   "metadata": {},
   "outputs": [],
   "source": [
    "df_pivot1=df_pivot1.set_index('year')\n",
    "\n"
   ]
  },
  {
   "cell_type": "code",
   "execution_count": 12,
   "metadata": {},
   "outputs": [],
   "source": [
    "df_pivot1=df_pivot1.stack()\n"
   ]
  },
  {
   "cell_type": "code",
   "execution_count": 13,
   "metadata": {},
   "outputs": [],
   "source": [
    "df_pivot1=pd.DataFrame(df_pivot1)\n",
    "#list(df_pivot1.columns)\n"
   ]
  },
  {
   "cell_type": "code",
   "execution_count": 14,
   "metadata": {},
   "outputs": [],
   "source": [
    "#df_pivot1.columns()"
   ]
  },
  {
   "cell_type": "code",
   "execution_count": 15,
   "metadata": {},
   "outputs": [],
   "source": [
    "#df_pivot1.columns=['year','rating_class','total']"
   ]
  },
  {
   "cell_type": "code",
   "execution_count": 16,
   "metadata": {
    "scrolled": true
   },
   "outputs": [
    {
     "ename": "IndentationError",
     "evalue": "unexpected indent (<ipython-input-16-c2ac02d40965>, line 2)",
     "output_type": "error",
     "traceback": [
      "\u001b[0;36m  File \u001b[0;32m\"<ipython-input-16-c2ac02d40965>\"\u001b[0;36m, line \u001b[0;32m2\u001b[0m\n\u001b[0;31m    value_vars=['bad','good','neutral'],value_name='total',var_name='rating_class')\u001b[0m\n\u001b[0m    ^\u001b[0m\n\u001b[0;31mIndentationError\u001b[0m\u001b[0;31m:\u001b[0m unexpected indent\n"
     ]
    }
   ],
   "source": [
    "#df_pivot1=pd.melt(df_pivot1,id_vars=['year'],col_level=0,\n",
    "        value_vars=['bad','good','neutral'],value_name='total',var_name='rating_class')\n",
    "\n",
    "\n",
    "\n",
    "\n",
    "\n"
   ]
  },
  {
   "cell_type": "code",
   "execution_count": 20,
   "metadata": {},
   "outputs": [],
   "source": [
    "\n",
    "\n",
    "df_pivot2=df_pivot1.reset_index()\n",
    "\n",
    "\n",
    "df_pivot2.columns=['year','rating_class','total']\n"
   ]
  },
  {
   "cell_type": "code",
   "execution_count": 26,
   "metadata": {},
   "outputs": [
    {
     "data": {
      "text/html": [
       "<div>\n",
       "<style scoped>\n",
       "    .dataframe tbody tr th:only-of-type {\n",
       "        vertical-align: middle;\n",
       "    }\n",
       "\n",
       "    .dataframe tbody tr th {\n",
       "        vertical-align: top;\n",
       "    }\n",
       "\n",
       "    .dataframe thead th {\n",
       "        text-align: right;\n",
       "    }\n",
       "</style>\n",
       "<table border=\"1\" class=\"dataframe\">\n",
       "  <thead>\n",
       "    <tr style=\"text-align: right;\">\n",
       "      <th></th>\n",
       "      <th>year</th>\n",
       "      <th>rating_class</th>\n",
       "      <th>total</th>\n",
       "    </tr>\n",
       "  </thead>\n",
       "  <tbody>\n",
       "    <tr>\n",
       "      <td>0</td>\n",
       "      <td>2004</td>\n",
       "      <td>good</td>\n",
       "      <td>2.0</td>\n",
       "    </tr>\n",
       "    <tr>\n",
       "      <td>1</td>\n",
       "      <td>2004</td>\n",
       "      <td>neutral</td>\n",
       "      <td>2.0</td>\n",
       "    </tr>\n",
       "    <tr>\n",
       "      <td>2</td>\n",
       "      <td>2005</td>\n",
       "      <td>bad</td>\n",
       "      <td>2.0</td>\n",
       "    </tr>\n",
       "    <tr>\n",
       "      <td>3</td>\n",
       "      <td>2005</td>\n",
       "      <td>good</td>\n",
       "      <td>9.0</td>\n",
       "    </tr>\n",
       "    <tr>\n",
       "      <td>4</td>\n",
       "      <td>2005</td>\n",
       "      <td>neutral</td>\n",
       "      <td>1.0</td>\n",
       "    </tr>\n",
       "    <tr>\n",
       "      <td>5</td>\n",
       "      <td>2006</td>\n",
       "      <td>bad</td>\n",
       "      <td>1.0</td>\n",
       "    </tr>\n",
       "    <tr>\n",
       "      <td>6</td>\n",
       "      <td>2006</td>\n",
       "      <td>good</td>\n",
       "      <td>22.0</td>\n",
       "    </tr>\n",
       "    <tr>\n",
       "      <td>7</td>\n",
       "      <td>2006</td>\n",
       "      <td>neutral</td>\n",
       "      <td>3.0</td>\n",
       "    </tr>\n",
       "    <tr>\n",
       "      <td>8</td>\n",
       "      <td>2007</td>\n",
       "      <td>bad</td>\n",
       "      <td>28.0</td>\n",
       "    </tr>\n",
       "    <tr>\n",
       "      <td>9</td>\n",
       "      <td>2007</td>\n",
       "      <td>good</td>\n",
       "      <td>351.0</td>\n",
       "    </tr>\n",
       "    <tr>\n",
       "      <td>10</td>\n",
       "      <td>2007</td>\n",
       "      <td>neutral</td>\n",
       "      <td>50.0</td>\n",
       "    </tr>\n",
       "    <tr>\n",
       "      <td>11</td>\n",
       "      <td>2008</td>\n",
       "      <td>bad</td>\n",
       "      <td>125.0</td>\n",
       "    </tr>\n",
       "    <tr>\n",
       "      <td>12</td>\n",
       "      <td>2008</td>\n",
       "      <td>good</td>\n",
       "      <td>1057.0</td>\n",
       "    </tr>\n",
       "    <tr>\n",
       "      <td>13</td>\n",
       "      <td>2008</td>\n",
       "      <td>neutral</td>\n",
       "      <td>233.0</td>\n",
       "    </tr>\n",
       "    <tr>\n",
       "      <td>14</td>\n",
       "      <td>2009</td>\n",
       "      <td>bad</td>\n",
       "      <td>270.0</td>\n",
       "    </tr>\n",
       "    <tr>\n",
       "      <td>15</td>\n",
       "      <td>2009</td>\n",
       "      <td>good</td>\n",
       "      <td>1397.0</td>\n",
       "    </tr>\n",
       "    <tr>\n",
       "      <td>16</td>\n",
       "      <td>2009</td>\n",
       "      <td>neutral</td>\n",
       "      <td>382.0</td>\n",
       "    </tr>\n",
       "    <tr>\n",
       "      <td>17</td>\n",
       "      <td>2010</td>\n",
       "      <td>bad</td>\n",
       "      <td>430.0</td>\n",
       "    </tr>\n",
       "    <tr>\n",
       "      <td>18</td>\n",
       "      <td>2010</td>\n",
       "      <td>good</td>\n",
       "      <td>2922.0</td>\n",
       "    </tr>\n",
       "    <tr>\n",
       "      <td>19</td>\n",
       "      <td>2010</td>\n",
       "      <td>neutral</td>\n",
       "      <td>664.0</td>\n",
       "    </tr>\n",
       "    <tr>\n",
       "      <td>20</td>\n",
       "      <td>2011</td>\n",
       "      <td>bad</td>\n",
       "      <td>508.0</td>\n",
       "    </tr>\n",
       "    <tr>\n",
       "      <td>21</td>\n",
       "      <td>2011</td>\n",
       "      <td>good</td>\n",
       "      <td>4471.0</td>\n",
       "    </tr>\n",
       "    <tr>\n",
       "      <td>22</td>\n",
       "      <td>2011</td>\n",
       "      <td>neutral</td>\n",
       "      <td>891.0</td>\n",
       "    </tr>\n",
       "    <tr>\n",
       "      <td>23</td>\n",
       "      <td>2012</td>\n",
       "      <td>bad</td>\n",
       "      <td>696.0</td>\n",
       "    </tr>\n",
       "    <tr>\n",
       "      <td>24</td>\n",
       "      <td>2012</td>\n",
       "      <td>good</td>\n",
       "      <td>4543.0</td>\n",
       "    </tr>\n",
       "    <tr>\n",
       "      <td>25</td>\n",
       "      <td>2012</td>\n",
       "      <td>neutral</td>\n",
       "      <td>1010.0</td>\n",
       "    </tr>\n",
       "    <tr>\n",
       "      <td>26</td>\n",
       "      <td>2013</td>\n",
       "      <td>bad</td>\n",
       "      <td>1744.0</td>\n",
       "    </tr>\n",
       "    <tr>\n",
       "      <td>27</td>\n",
       "      <td>2013</td>\n",
       "      <td>good</td>\n",
       "      <td>15883.0</td>\n",
       "    </tr>\n",
       "    <tr>\n",
       "      <td>28</td>\n",
       "      <td>2013</td>\n",
       "      <td>neutral</td>\n",
       "      <td>3375.0</td>\n",
       "    </tr>\n",
       "    <tr>\n",
       "      <td>29</td>\n",
       "      <td>2014</td>\n",
       "      <td>bad</td>\n",
       "      <td>821.0</td>\n",
       "    </tr>\n",
       "    <tr>\n",
       "      <td>30</td>\n",
       "      <td>2014</td>\n",
       "      <td>good</td>\n",
       "      <td>11222.0</td>\n",
       "    </tr>\n",
       "    <tr>\n",
       "      <td>31</td>\n",
       "      <td>2014</td>\n",
       "      <td>neutral</td>\n",
       "      <td>1672.0</td>\n",
       "    </tr>\n",
       "  </tbody>\n",
       "</table>\n",
       "</div>"
      ],
      "text/plain": [
       "    year rating_class    total\n",
       "0   2004         good      2.0\n",
       "1   2004      neutral      2.0\n",
       "2   2005          bad      2.0\n",
       "3   2005         good      9.0\n",
       "4   2005      neutral      1.0\n",
       "5   2006          bad      1.0\n",
       "6   2006         good     22.0\n",
       "7   2006      neutral      3.0\n",
       "8   2007          bad     28.0\n",
       "9   2007         good    351.0\n",
       "10  2007      neutral     50.0\n",
       "11  2008          bad    125.0\n",
       "12  2008         good   1057.0\n",
       "13  2008      neutral    233.0\n",
       "14  2009          bad    270.0\n",
       "15  2009         good   1397.0\n",
       "16  2009      neutral    382.0\n",
       "17  2010          bad    430.0\n",
       "18  2010         good   2922.0\n",
       "19  2010      neutral    664.0\n",
       "20  2011          bad    508.0\n",
       "21  2011         good   4471.0\n",
       "22  2011      neutral    891.0\n",
       "23  2012          bad    696.0\n",
       "24  2012         good   4543.0\n",
       "25  2012      neutral   1010.0\n",
       "26  2013          bad   1744.0\n",
       "27  2013         good  15883.0\n",
       "28  2013      neutral   3375.0\n",
       "29  2014          bad    821.0\n",
       "30  2014         good  11222.0\n",
       "31  2014      neutral   1672.0"
      ]
     },
     "execution_count": 26,
     "metadata": {},
     "output_type": "execute_result"
    },
    {
     "data": {
      "text/plain": [
       "<Figure size 1296x1440 with 0 Axes>"
      ]
     },
     "metadata": {},
     "output_type": "display_data"
    },
    {
     "data": {
      "image/png": "[encoded data removed]",
      "text/plain": [
       "<Figure size 433.475x360 with 1 Axes>"
      ]
     },
     "metadata": {},
     "output_type": "display_data"
    }
   ],
   "source": [
    "#df_pivot2=df_pivot2.groupby('year').count()\n",
    "plt.figure(figsize=(18,20))\n",
    "ax1=sns.catplot(y='total',hue='rating_class',x='year',kind='violin',data=df_pivot2)\n",
    "      \n",
    "\n",
    "\n",
    "df_pivot2"
   ]
  },
  {
   "cell_type": "markdown",
   "metadata": {},
   "source": [
    "### Fatures"
   ]
  },
  {
   "cell_type": "markdown",
   "metadata": {},
   "source": [
    "#### 1. Customer Feature"
   ]
  },
  {
   "cell_type": "markdown",
   "metadata": {},
   "source": [
    "##### How many distinct customers exist in the dataset?"
   ]
  },
  {
   "cell_type": "code",
   "execution_count": null,
   "metadata": {},
   "outputs": [],
   "source": [
    "# Check unique number of customer\n",
    "\n",
    "print('Number of unique customers: {}'.format(df['customer'].nunique()))\n"
   ]
  },
  {
   "cell_type": "markdown",
   "metadata": {},
   "source": [
    "##### How many unique customers exist in each year?"
   ]
  },
  {
   "cell_type": "code",
   "execution_count": null,
   "metadata": {
    "scrolled": true
   },
   "outputs": [],
   "source": [
    "# Calculate number of unique customers in each year\n",
    "cust=df.groupby('year')['customer'].nunique()\n",
    "\n",
    "\n",
    "# Set the figure size in order to plot\n",
    "plt.figure(figsize=(10,5))\n",
    "\n",
    "# Plot the distibution of unique customers by year\n",
    "ax = sns.lineplot(x='year',y='customer',data=cust.reset_index(),err_style=\"bars\")\n",
    "\n",
    "# Add a title\n",
    "plt.title('Distribution of unique customers by years',fontsize=16,fontweight='bold')\n",
    "\n",
    "# Display plot\n",
    "plt.show()\n",
    "\n",
    "\n",
    "# Print number of unique customers in each year as a dataframe\n",
    "print(pd.DataFrame(cust))"
   ]
  },
  {
   "cell_type": "markdown",
   "metadata": {},
   "source": [
    "##### How many unique customers exist in each rating class?"
   ]
  },
  {
   "cell_type": "code",
   "execution_count": null,
   "metadata": {
    "scrolled": true
   },
   "outputs": [],
   "source": [
    "\n",
    "# Check out total number of reviews for each rating class:\n",
    "df_ratingclass = pd.DataFrame(df.groupby('rating_class')['review_text'].count().sort_values())\n",
    "\n",
    "\n",
    "# Check out number of unique customers for each rating class as a list:\n",
    "number_of_customers = list(df.groupby('rating_class')['customer'].nunique())\n",
    "\n",
    "\n",
    "# Add list number of unique customers as a to DataFrame df_rr :\n",
    "df_ratingclass['number_of_customers']=number_of_customers\n",
    "\n",
    "\n",
    "\n",
    "\n",
    "\n",
    "print(df_ratingclass)\n",
    "\n"
   ]
  },
  {
   "cell_type": "markdown",
   "metadata": {},
   "source": [
    "##### Who are the first 10 customers with most reviews and  buying product?"
   ]
  },
  {
   "cell_type": "code",
   "execution_count": null,
   "metadata": {},
   "outputs": [],
   "source": [
    "# Create new dataframe as df1  \n",
    "df1=df[['customer','review_text','product']][:]\n",
    "\n",
    "# Groupby with customer column ,sort and find first 10 customer who wrote most reviews\n",
    "df1.groupby(['customer']).count().sort_values('review_text',ascending=False)[:10]\n"
   ]
  },
  {
   "cell_type": "markdown",
   "metadata": {},
   "source": [
    "##### How many   ratings are   rated in each rating class  by the first 10 customers which bought most product ?"
   ]
  },
  {
   "cell_type": "code",
   "execution_count": null,
   "metadata": {},
   "outputs": [],
   "source": [
    "'''Calculate ratings on each rating class \n",
    "for the first 10 customers having most reviews through pivot table'''\n",
    "\n",
    "df_pivot=pd.pivot_table(data=df,index='customer',columns='rating_class',\n",
    "               values=['rating'],aggfunc=[len])\n",
    "\n",
    "df_pivot=df_pivot[df_pivot.index.str.contains('A3NHUQ33CFH3VM|A1UQBFCERIP7VJ|A2OCDK0BOW6UCY|ALNFHVS3SC4FV|A2P739KOM4U5JB|A3094EPI56GKZ6|A34BZM6S9L7QI4|AEL6CQNQXONBX|ALQ4USPEQ9L5N|A2ULQOGN59LDNK')]\n",
    "\n",
    "\n",
    "# Plot ratings of each rating class for first 10 customers having most reviews\n",
    "sns.set()\n",
    "plt.figure(figsize=(15,10))\n",
    "df_pivot.plot(kind='bar')\n",
    "\n",
    "# Set the tittle and labels\n",
    "plt.title('The 10 customers rating class rate',fontsize=16,fontweight='bold')\n",
    "plt.ylabel('Rating',fontsize=13,fontweight='bold')\n",
    "plt.xlabel(' The 10 customers with most reviews ',fontsize=13,fontweight='bold')\n",
    "\n",
    "# Display plot\n",
    "plt.show()\n",
    "\n",
    "\n",
    "\n",
    "# Print number of ratings on each rating class the first 10 customers having most reviews\n",
    "print(df_pivot)"
   ]
  },
  {
   "cell_type": "code",
   "execution_count": null,
   "metadata": {},
   "outputs": [],
   "source": []
  },
  {
   "cell_type": "markdown",
   "metadata": {},
   "source": []
  },
  {
   "cell_type": "markdown",
   "metadata": {},
   "source": [
    "#### 2. Product Feature"
   ]
  },
  {
   "cell_type": "markdown",
   "metadata": {},
   "source": [
    "##### How many unique products exist in the dataset?"
   ]
  },
  {
   "cell_type": "code",
   "execution_count": null,
   "metadata": {},
   "outputs": [],
   "source": [
    "# Print number of unique product in the dataset\n",
    "\n",
    "print('Number of unique health and personalcare products : {}'.format(df['product'].nunique()))"
   ]
  },
  {
   "cell_type": "markdown",
   "metadata": {},
   "source": [
    "##### How many unique products exist in each year?"
   ]
  },
  {
   "cell_type": "code",
   "execution_count": null,
   "metadata": {},
   "outputs": [],
   "source": [
    "# Check out number of unique products in each year\n",
    "prod = df.groupby('year')['product'].nunique()\n",
    "prod=pd.DataFrame(prod)\n",
    "\n",
    "# Plot number of unique products in each year\n",
    "plt.figure(figsize=(10,7))\n",
    "sns.catplot(x='year',y='product',data=prod.reset_index(), palette=\"ch:.25\",kind='bar')\n",
    "\n",
    "# Set title and xticks\n",
    "plt.title('Number of unique products in each year',fontsize=13,fontweight='bold')\n",
    "plt.xticks(rotation=90)\n",
    "\n",
    "# Display plot\n",
    "plt.show()\n",
    "\n",
    "print(prod)"
   ]
  },
  {
   "cell_type": "markdown",
   "metadata": {},
   "source": [
    "##### What are the first 10 products with most reviews"
   ]
  },
  {
   "cell_type": "code",
   "execution_count": null,
   "metadata": {},
   "outputs": [],
   "source": [
    "# Create new dataframe as df1  \n",
    "df_p=df[['review_text','product']][:]\n",
    "\n",
    "# Groupby with customer column ,sort and find first 10 customer who wrote most reviews\n",
    "df_p.groupby(['product']).count().sort_values('review_text',ascending=False)[:10]\n",
    "\n"
   ]
  },
  {
   "cell_type": "markdown",
   "metadata": {},
   "source": [
    "##### How many   ratings are   rated in each rating class  by the first 10 customers which bought "
   ]
  },
  {
   "cell_type": "code",
   "execution_count": null,
   "metadata": {},
   "outputs": [],
   "source": [
    "'''Calculate ratings on each rating class \n",
    "for the first 10 products having most reviews through pivot table'''\n",
    "\n",
    "df_prod_pivot=pd.pivot_table(data=df,index='product',columns='rating_class',\n",
    "               values=['rating'],aggfunc=[len])\n",
    "\n",
    "df_prod_pivot=df_prod_pivot[df_prod_pivot.index.str.contains('B0037KMI0U|B001F51VRK|B001F51VS4|B003X5FYJQ|B0013OQGO6|B007LEO4Y6|B006DR2BEW|B0013OX9NC|B0072DAZEE|B00GY2AY18')]\n",
    "\n",
    "\n",
    "# Plot ratings of each rating class for first 10 products having most reviews\n",
    "sns.set()\n",
    "plt.figure(figsize=(13,7))\n",
    "df_prod_pivot.plot(kind='bar')\n",
    "\n",
    "# Set the tittle and labels\n",
    "plt.title('The 10 products rating class rate',fontsize=16,fontweight='bold')\n",
    "plt.ylabel('Rating',fontsize=13,fontweight='bold')\n",
    "plt.xlabel(' The 10 products with most reviews ',fontsize=13,fontweight='bold')\n",
    "\n",
    "# Display plot\n",
    "plt.show()\n",
    "\n",
    "\n",
    "\n",
    "# Print number of ratings on each rating class the first 10 products having most reviews\n",
    "print(df_prod_pivot)"
   ]
  },
  {
   "cell_type": "raw",
   "metadata": {},
   "source": []
  },
  {
   "cell_type": "markdown",
   "metadata": {},
   "source": [
    "##### 3. Review Length Feature"
   ]
  },
  {
   "cell_type": "code",
   "execution_count": null,
   "metadata": {},
   "outputs": [],
   "source": []
  },
  {
   "cell_type": "code",
   "execution_count": null,
   "metadata": {},
   "outputs": [],
   "source": []
  },
  {
   "cell_type": "code",
   "execution_count": null,
   "metadata": {},
   "outputs": [],
   "source": []
  },
  {
   "cell_type": "code",
   "execution_count": null,
   "metadata": {},
   "outputs": [],
   "source": []
  },
  {
   "cell_type": "code",
   "execution_count": null,
   "metadata": {},
   "outputs": [],
   "source": []
  },
  {
   "cell_type": "code",
   "execution_count": null,
   "metadata": {},
   "outputs": [],
   "source": []
  },
  {
   "cell_type": "code",
   "execution_count": null,
   "metadata": {},
   "outputs": [],
   "source": []
  },
  {
   "cell_type": "code",
   "execution_count": null,
   "metadata": {},
   "outputs": [],
   "source": []
  },
  {
   "cell_type": "code",
   "execution_count": null,
   "metadata": {},
   "outputs": [],
   "source": []
  },
  {
   "cell_type": "code",
   "execution_count": null,
   "metadata": {},
   "outputs": [],
   "source": []
  },
  {
   "cell_type": "code",
   "execution_count": null,
   "metadata": {},
   "outputs": [],
   "source": []
  },
  {
   "cell_type": "code",
   "execution_count": null,
   "metadata": {},
   "outputs": [],
   "source": []
  },
  {
   "cell_type": "code",
   "execution_count": null,
   "metadata": {},
   "outputs": [],
   "source": []
  },
  {
   "cell_type": "code",
   "execution_count": null,
   "metadata": {},
   "outputs": [],
   "source": []
  },
  {
   "cell_type": "code",
   "execution_count": null,
   "metadata": {},
   "outputs": [],
   "source": []
  },
  {
   "cell_type": "code",
   "execution_count": null,
   "metadata": {},
   "outputs": [],
   "source": []
  },
  {
   "cell_type": "code",
   "execution_count": null,
   "metadata": {},
   "outputs": [],
   "source": []
  },
  {
   "cell_type": "code",
   "execution_count": null,
   "metadata": {},
   "outputs": [],
   "source": []
  },
  {
   "cell_type": "code",
   "execution_count": null,
   "metadata": {},
   "outputs": [],
   "source": []
  },
  {
   "cell_type": "code",
   "execution_count": null,
   "metadata": {},
   "outputs": [],
   "source": []
  },
  {
   "cell_type": "code",
   "execution_count": null,
   "metadata": {},
   "outputs": [],
   "source": []
  },
  {
   "cell_type": "code",
   "execution_count": null,
   "metadata": {},
   "outputs": [],
   "source": []
  },
  {
   "cell_type": "code",
   "execution_count": null,
   "metadata": {},
   "outputs": [],
   "source": []
  },
  {
   "cell_type": "code",
   "execution_count": null,
   "metadata": {},
   "outputs": [],
   "source": []
  },
  {
   "cell_type": "code",
   "execution_count": null,
   "metadata": {},
   "outputs": [],
   "source": []
  },
  {
   "cell_type": "code",
   "execution_count": null,
   "metadata": {},
   "outputs": [],
   "source": []
  },
  {
   "cell_type": "code",
   "execution_count": null,
   "metadata": {},
   "outputs": [],
   "source": []
  },
  {
   "cell_type": "code",
   "execution_count": null,
   "metadata": {},
   "outputs": [],
   "source": []
  },
  {
   "cell_type": "code",
   "execution_count": null,
   "metadata": {},
   "outputs": [],
   "source": []
  },
  {
   "cell_type": "code",
   "execution_count": null,
   "metadata": {},
   "outputs": [],
   "source": []
  },
  {
   "cell_type": "code",
   "execution_count": null,
   "metadata": {},
   "outputs": [],
   "source": []
  },
  {
   "cell_type": "code",
   "execution_count": null,
   "metadata": {},
   "outputs": [],
   "source": []
  },
  {
   "cell_type": "code",
   "execution_count": null,
   "metadata": {},
   "outputs": [],
   "source": []
  },
  {
   "cell_type": "code",
   "execution_count": null,
   "metadata": {},
   "outputs": [],
   "source": []
  },
  {
   "cell_type": "code",
   "execution_count": null,
   "metadata": {},
   "outputs": [],
   "source": []
  },
  {
   "cell_type": "code",
   "execution_count": null,
   "metadata": {},
   "outputs": [],
   "source": []
  },
  {
   "cell_type": "code",
   "execution_count": null,
   "metadata": {},
   "outputs": [],
   "source": []
  },
  {
   "cell_type": "code",
   "execution_count": null,
   "metadata": {},
   "outputs": [],
   "source": []
  },
  {
   "cell_type": "code",
   "execution_count": null,
   "metadata": {},
   "outputs": [],
   "source": []
  },
  {
   "cell_type": "code",
   "execution_count": null,
   "metadata": {},
   "outputs": [],
   "source": []
  },
  {
   "cell_type": "code",
   "execution_count": null,
   "metadata": {},
   "outputs": [],
   "source": []
  },
  {
   "cell_type": "code",
   "execution_count": null,
   "metadata": {},
   "outputs": [],
   "source": []
  },
  {
   "cell_type": "code",
   "execution_count": null,
   "metadata": {},
   "outputs": [],
   "source": []
  },
  {
   "cell_type": "code",
   "execution_count": null,
   "metadata": {},
   "outputs": [],
   "source": []
  }
 ],
 "metadata": {
  "kernelspec": {
   "display_name": "Python 3",
   "language": "python",
   "name": "python3"
  },
  "language_info": {
   "codemirror_mode": {
    "name": "ipython",
    "version": 3
   },
   "file_extension": ".py",
   "mimetype": "text/x-python",
   "name": "python",
   "nbconvert_exporter": "python",
   "pygments_lexer": "ipython3",
   "version": "3.7.4"
  },
  "toc": {
   "base_numbering": 1,
   "nav_menu": {},
   "number_sections": false,
   "sideBar": true,
   "skip_h1_title": false,
   "title_cell": "Table of Contents",
   "title_sidebar": "Contents",
   "toc_cell": true,
   "toc_position": {},
   "toc_section_display": true,
   "toc_window_display": false
  }
 },
 "nbformat": 4,
 "nbformat_minor": 2
}
