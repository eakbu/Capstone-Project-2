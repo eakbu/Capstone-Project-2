{
 "cells": [
  {
   "cell_type": "markdown",
   "metadata": {
    "toc": true
   },
   "source": [
    "<h1>Table of Contents<span class=\"tocSkip\"></span></h1>\n",
    "<div class=\"toc\"><ul class=\"toc-item\"><li><span><a href=\"#Data-Storytelling-of-Sentiment-Analysis\" data-toc-modified-id=\"Data-Storytelling-of-Sentiment-Analysis-1\">Data Storytelling of Sentiment Analysis</a></span><ul class=\"toc-item\"><li><ul class=\"toc-item\"><li><span><a href=\"#Import-necessary-packages\" data-toc-modified-id=\"Import-necessary-packages-1.0.1\">Import necessary packages</a></span></li><li><span><a href=\"#Reading-the-Dataset\" data-toc-modified-id=\"Reading-the-Dataset-1.0.2\">Reading the Dataset</a></span></li><li><span><a href=\"#Examine-the-Dataset\" data-toc-modified-id=\"Examine-the-Dataset-1.0.3\">Examine the Dataset</a></span></li><li><span><a href=\"##-Basic-information-about-Dataset\" data-toc-modified-id=\"#-Basic-information-about-Dataset-1.0.4\"># Basic information about Dataset</a></span></li></ul></li><li><span><a href=\"#Exploratory-Data-Analysis-(EDA)\" data-toc-modified-id=\"Exploratory-Data-Analysis-(EDA)-1.1\">Exploratory Data Analysis (EDA)</a></span><ul class=\"toc-item\"><li><span><a href=\"#Target-Variable\" data-toc-modified-id=\"Target-Variable-1.1.1\">Target Variable</a></span></li><li><span><a href=\"#Fatures\" data-toc-modified-id=\"Fatures-1.1.2\">Fatures</a></span><ul class=\"toc-item\"><li><span><a href=\"#1.-Year-Feature\" data-toc-modified-id=\"1.-Year-Feature-1.1.2.1\">1. Year Feature</a></span><ul class=\"toc-item\"><li><span><a href=\"#How-the-number-of-rating-classes--change-for-each-year-?\" data-toc-modified-id=\"How-the-number-of-rating-classes--change-for-each-year-?-1.1.2.1.1\">How the number of rating classes  change for each year ?</a></span><ul class=\"toc-item\"><li><span><a href=\"#Drawing-number-of-rating-class-for-each-year\" data-toc-modified-id=\"Drawing-number-of-rating-class-for-each-year-1.1.2.1.1.1\">Drawing number of rating class for each year</a></span></li></ul></li></ul></li><li><span><a href=\"#2.-Customer-Feature\" data-toc-modified-id=\"2.-Customer-Feature-1.1.2.2\">2. Customer Feature</a></span><ul class=\"toc-item\"><li><span><a href=\"#How-many-distinct-customers-exist-in-the-dataset?\" data-toc-modified-id=\"How-many-distinct-customers-exist-in-the-dataset?-1.1.2.2.1\">How many distinct customers exist in the dataset?</a></span></li><li><span><a href=\"#How-many-unique-customers-exist-in-each-year?\" data-toc-modified-id=\"How-many-unique-customers-exist-in-each-year?-1.1.2.2.2\">How many unique customers exist in each year?</a></span></li><li><span><a href=\"#How-many-unique-customers-exist-in-each-rating-class?\" data-toc-modified-id=\"How-many-unique-customers-exist-in-each-rating-class?-1.1.2.2.3\">How many unique customers exist in each rating class?</a></span></li><li><span><a href=\"#Who-are-the-first-10-customers-with-most-reviews-and--buying-product?\" data-toc-modified-id=\"Who-are-the-first-10-customers-with-most-reviews-and--buying-product?-1.1.2.2.4\">Who are the first 10 customers with most reviews and  buying product?</a></span></li><li><span><a href=\"#How-many---ratings-are---rated-in-each-rating-class--by-the-first-10-customers-which-bought-most-product-?\" data-toc-modified-id=\"How-many---ratings-are---rated-in-each-rating-class--by-the-first-10-customers-which-bought-most-product-?-1.1.2.2.5\">How many   ratings are   rated in each rating class  by the first 10 customers which bought most product ?</a></span></li></ul></li><li><span><a href=\"#3.-Product-Feature\" data-toc-modified-id=\"3.-Product-Feature-1.1.2.3\">3. Product Feature</a></span><ul class=\"toc-item\"><li><span><a href=\"#How-many-unique-products-exist-in-the-dataset?\" data-toc-modified-id=\"How-many-unique-products-exist-in-the-dataset?-1.1.2.3.1\">How many unique products exist in the dataset?</a></span></li><li><span><a href=\"#How-many-unique-products-exist-in-each-year?\" data-toc-modified-id=\"How-many-unique-products-exist-in-each-year?-1.1.2.3.2\">How many unique products exist in each year?</a></span></li><li><span><a href=\"#What-are-the-first-10-products-with-most-reviews\" data-toc-modified-id=\"What-are-the-first-10-products-with-most-reviews-1.1.2.3.3\">What are the first 10 products with most reviews</a></span></li><li><span><a href=\"#How-many---ratings-are---rated-in-each-rating-class--by-the-first-10-customers-which-bought\" data-toc-modified-id=\"How-many---ratings-are---rated-in-each-rating-class--by-the-first-10-customers-which-bought-1.1.2.3.4\">How many   ratings are   rated in each rating class  by the first 10 customers which bought</a></span></li></ul></li><li><span><a href=\"#4.-Review-Length-Feature\" data-toc-modified-id=\"4.-Review-Length-Feature-1.1.2.4\">4. Review Length Feature</a></span></li><li><span><a href=\"#5.-Text-Review-Feature\" data-toc-modified-id=\"5.-Text-Review-Feature-1.1.2.5\">5. Text Review Feature</a></span></li></ul></li></ul></li></ul></li><li><span><a href=\"#Let's-see-the-new-dataframe\" data-toc-modified-id=\"Let's-see-the-new-dataframe-2\">Let's see the new dataframe</a></span></li></ul></div>"
   ]
  },
  {
   "cell_type": "markdown",
   "metadata": {},
   "source": [
    "# Data Storytelling of Sentiment Analysis "
   ]
  },
  {
   "cell_type": "markdown",
   "metadata": {},
   "source": [
    "### Import necessary packages"
   ]
  },
  {
   "cell_type": "code",
   "execution_count": 1,
   "metadata": {
    "scrolled": true
   },
   "outputs": [
    {
     "name": "stderr",
     "output_type": "stream",
     "text": [
      "[nltk_data] Downloading package punkt to\n",
      "[nltk_data]     /Users/emineakbulut/nltk_data...\n",
      "[nltk_data]   Package punkt is already up-to-date!\n"
     ]
    }
   ],
   "source": [
    "# Dataframe\n",
    "import pandas as pd\n",
    "\n",
    "# Array\n",
    "import numpy as np\n",
    "\n",
    "# Decompress the file\n",
    "import gzip\n",
    "\n",
    "# Visualizations\n",
    "import matplotlib.pyplot as plt\n",
    "from matplotlib.colors import ListedColormap\n",
    "import seaborn as sns\n",
    "import matplotlib.colors as colors\n",
    "plt.style.use('ggplot')\n",
    "%matplotlib inline\n",
    "from wordcloud import WordCloud, STOPWORDS\n",
    "\n",
    "# Datetime\n",
    "from datetime import datetime\n",
    "\n",
    "# text preprocessing\n",
    "import spacy\n",
    "import nltk\n",
    "nltk.download('punkt')\n",
    "from nltk.corpus import stopwords\n",
    "from nltk.stem import PorterStemmer, WordNetLemmatizer\n",
    "from nltk.tokenize import word_tokenize, sent_tokenize, regexp_tokenize\n",
    "from nltk.tokenize import RegexpTokenizer\n",
    "from nltk.tokenize.toktok import ToktokTokenizer\n",
    "import re\n",
    "from bs4 import BeautifulSoup\n",
    "from contractions import CONTRACTION_MAP\n",
    "import unicodedata\n",
    "tokenizer = ToktokTokenizer()\n",
    "nlp = spacy.load('en', parse=True, tag=True, entity=True)\n",
    "from sklearn.feature_extraction.text import CountVectorizer\n",
    "\n",
    "## Warnings\n",
    "import warnings\n",
    "from scipy import stats\n",
    "warnings.filterwarnings('ignore')"
   ]
  },
  {
   "cell_type": "markdown",
   "metadata": {},
   "source": [
    "### Reading the Dataset"
   ]
  },
  {
   "cell_type": "code",
   "execution_count": 2,
   "metadata": {},
   "outputs": [],
   "source": [
    "# Read the file\n",
    "df=pd.read_csv('/Users/emineakbulut/Desktop/capstone project 2/data/cleaned_review_health_and_personal_care.csv')"
   ]
  },
  {
   "cell_type": "markdown",
   "metadata": {},
   "source": [
    "### Examine the Dataset"
   ]
  },
  {
   "cell_type": "code",
   "execution_count": 3,
   "metadata": {},
   "outputs": [
    {
     "data": {
      "text/html": [
       "<div>\n",
       "<style scoped>\n",
       "    .dataframe tbody tr th:only-of-type {\n",
       "        vertical-align: middle;\n",
       "    }\n",
       "\n",
       "    .dataframe tbody tr th {\n",
       "        vertical-align: top;\n",
       "    }\n",
       "\n",
       "    .dataframe thead th {\n",
       "        text-align: right;\n",
       "    }\n",
       "</style>\n",
       "<table border=\"1\" class=\"dataframe\">\n",
       "  <thead>\n",
       "    <tr style=\"text-align: right;\">\n",
       "      <th></th>\n",
       "      <th>customer</th>\n",
       "      <th>product</th>\n",
       "      <th>rating</th>\n",
       "      <th>review_text</th>\n",
       "      <th>pos_feedback</th>\n",
       "      <th>neg_feedback</th>\n",
       "      <th>rating_class</th>\n",
       "      <th>time</th>\n",
       "      <th>year</th>\n",
       "      <th>clean_text</th>\n",
       "      <th>clues</th>\n",
       "    </tr>\n",
       "  </thead>\n",
       "  <tbody>\n",
       "    <tr>\n",
       "      <td>54784</td>\n",
       "      <td>A1Y3FEUELH3FTI</td>\n",
       "      <td>B00LJBMCKK</td>\n",
       "      <td>5.0</td>\n",
       "      <td>Great Product, Gave extra energy without the j...</td>\n",
       "      <td>0</td>\n",
       "      <td>0</td>\n",
       "      <td>good</td>\n",
       "      <td>2014-07-12</td>\n",
       "      <td>2014</td>\n",
       "      <td>great product give extra energy without jitter...</td>\n",
       "      <td>['great', 'product', 'give', 'extra', 'energy'...</td>\n",
       "    </tr>\n",
       "    <tr>\n",
       "      <td>54785</td>\n",
       "      <td>A11LC938XF35XN</td>\n",
       "      <td>B00LJBMCKK</td>\n",
       "      <td>5.0</td>\n",
       "      <td>I get lots of energy from this product. I felt...</td>\n",
       "      <td>0</td>\n",
       "      <td>0</td>\n",
       "      <td>good</td>\n",
       "      <td>2014-07-18</td>\n",
       "      <td>2014</td>\n",
       "      <td>get lot energy product feel sluggish slow morn...</td>\n",
       "      <td>['get', 'lot', 'energy', 'product', 'feel', 's...</td>\n",
       "    </tr>\n",
       "    <tr>\n",
       "      <td>54786</td>\n",
       "      <td>A2I8KUDXTC9WYI</td>\n",
       "      <td>B00LJBMCKK</td>\n",
       "      <td>5.0</td>\n",
       "      <td>I started using this product because it was re...</td>\n",
       "      <td>1</td>\n",
       "      <td>0</td>\n",
       "      <td>good</td>\n",
       "      <td>2014-07-17</td>\n",
       "      <td>2014</td>\n",
       "      <td>start use product recommend dr oz program dr o...</td>\n",
       "      <td>['start', 'use', 'product', 'recommend', 'dr',...</td>\n",
       "    </tr>\n",
       "  </tbody>\n",
       "</table>\n",
       "</div>"
      ],
      "text/plain": [
       "             customer     product  rating  \\\n",
       "54784  A1Y3FEUELH3FTI  B00LJBMCKK     5.0   \n",
       "54785  A11LC938XF35XN  B00LJBMCKK     5.0   \n",
       "54786  A2I8KUDXTC9WYI  B00LJBMCKK     5.0   \n",
       "\n",
       "                                             review_text  pos_feedback  \\\n",
       "54784  Great Product, Gave extra energy without the j...             0   \n",
       "54785  I get lots of energy from this product. I felt...             0   \n",
       "54786  I started using this product because it was re...             1   \n",
       "\n",
       "       neg_feedback rating_class        time  year  \\\n",
       "54784             0         good  2014-07-12  2014   \n",
       "54785             0         good  2014-07-18  2014   \n",
       "54786             0         good  2014-07-17  2014   \n",
       "\n",
       "                                              clean_text  \\\n",
       "54784  great product give extra energy without jitter...   \n",
       "54785  get lot energy product feel sluggish slow morn...   \n",
       "54786  start use product recommend dr oz program dr o...   \n",
       "\n",
       "                                                   clues  \n",
       "54784  ['great', 'product', 'give', 'extra', 'energy'...  \n",
       "54785  ['get', 'lot', 'energy', 'product', 'feel', 's...  \n",
       "54786  ['start', 'use', 'product', 'recommend', 'dr',...  "
      ]
     },
     "execution_count": 3,
     "metadata": {},
     "output_type": "execute_result"
    }
   ],
   "source": [
    "# Tail observations of the dataset\n",
    "df.tail(3)"
   ]
  },
  {
   "cell_type": "code",
   "execution_count": 4,
   "metadata": {
    "scrolled": true
   },
   "outputs": [
    {
     "data": {
      "image/png": "[encoded data removed]",
      "text/plain": [
       "<Figure size 648x648 with 1 Axes>"
      ]
     },
     "metadata": {
      "needs_background": "light"
     },
     "output_type": "display_data"
    }
   ],
   "source": [
    "# Check missing value in the dataset\n",
    "plt.figure(figsize=(9,9))\n",
    "#sns.set()\n",
    "ax=sns.heatmap(df.isnull(),cbar=False,cmap='Pastel1')"
   ]
  },
  {
   "cell_type": "markdown",
   "metadata": {},
   "source": [
    "<font color='green'> \n",
    "    \n",
    "> **There is no missing values.**\n",
    " \n",
    "</font>"
   ]
  },
  {
   "cell_type": "markdown",
   "metadata": {},
   "source": [
    "### # Basic information about Dataset"
   ]
  },
  {
   "cell_type": "code",
   "execution_count": 5,
   "metadata": {},
   "outputs": [
    {
     "name": "stdout",
     "output_type": "stream",
     "text": [
      "<class 'pandas.core.frame.DataFrame'>\n",
      "RangeIndex: 54787 entries, 0 to 54786\n",
      "Data columns (total 11 columns):\n",
      "customer        54787 non-null object\n",
      "product         54787 non-null object\n",
      "rating          54787 non-null float64\n",
      "review_text     54787 non-null object\n",
      "pos_feedback    54787 non-null int64\n",
      "neg_feedback    54787 non-null int64\n",
      "rating_class    54787 non-null object\n",
      "time            54787 non-null object\n",
      "year            54787 non-null int64\n",
      "clean_text      54787 non-null object\n",
      "clues           54787 non-null object\n",
      "dtypes: float64(1), int64(3), object(7)\n",
      "memory usage: 4.6+ MB\n"
     ]
    }
   ],
   "source": [
    "# Print the info of the dataset\n",
    "\n",
    "df.info()"
   ]
  },
  {
   "cell_type": "code",
   "execution_count": 6,
   "metadata": {},
   "outputs": [
    {
     "data": {
      "text/html": [
       "<div>\n",
       "<style scoped>\n",
       "    .dataframe tbody tr th:only-of-type {\n",
       "        vertical-align: middle;\n",
       "    }\n",
       "\n",
       "    .dataframe tbody tr th {\n",
       "        vertical-align: top;\n",
       "    }\n",
       "\n",
       "    .dataframe thead th {\n",
       "        text-align: right;\n",
       "    }\n",
       "</style>\n",
       "<table border=\"1\" class=\"dataframe\">\n",
       "  <thead>\n",
       "    <tr style=\"text-align: right;\">\n",
       "      <th></th>\n",
       "      <th>rating</th>\n",
       "      <th>pos_feedback</th>\n",
       "      <th>neg_feedback</th>\n",
       "      <th>year</th>\n",
       "    </tr>\n",
       "  </thead>\n",
       "  <tbody>\n",
       "    <tr>\n",
       "      <td>count</td>\n",
       "      <td>54787.000000</td>\n",
       "      <td>54787.000000</td>\n",
       "      <td>54787.000000</td>\n",
       "      <td>54787.000000</td>\n",
       "    </tr>\n",
       "    <tr>\n",
       "      <td>mean</td>\n",
       "      <td>4.089492</td>\n",
       "      <td>2.147754</td>\n",
       "      <td>0.524705</td>\n",
       "      <td>2012.370635</td>\n",
       "    </tr>\n",
       "    <tr>\n",
       "      <td>std</td>\n",
       "      <td>1.026216</td>\n",
       "      <td>25.584276</td>\n",
       "      <td>2.131750</td>\n",
       "      <td>1.620425</td>\n",
       "    </tr>\n",
       "    <tr>\n",
       "      <td>min</td>\n",
       "      <td>1.000000</td>\n",
       "      <td>0.000000</td>\n",
       "      <td>0.000000</td>\n",
       "      <td>2004.000000</td>\n",
       "    </tr>\n",
       "    <tr>\n",
       "      <td>25%</td>\n",
       "      <td>4.000000</td>\n",
       "      <td>0.000000</td>\n",
       "      <td>0.000000</td>\n",
       "      <td>2011.000000</td>\n",
       "    </tr>\n",
       "    <tr>\n",
       "      <td>50%</td>\n",
       "      <td>4.000000</td>\n",
       "      <td>0.000000</td>\n",
       "      <td>0.000000</td>\n",
       "      <td>2013.000000</td>\n",
       "    </tr>\n",
       "    <tr>\n",
       "      <td>75%</td>\n",
       "      <td>5.000000</td>\n",
       "      <td>1.000000</td>\n",
       "      <td>1.000000</td>\n",
       "      <td>2014.000000</td>\n",
       "    </tr>\n",
       "    <tr>\n",
       "      <td>max</td>\n",
       "      <td>5.000000</td>\n",
       "      <td>1950.000000</td>\n",
       "      <td>181.000000</td>\n",
       "      <td>2014.000000</td>\n",
       "    </tr>\n",
       "  </tbody>\n",
       "</table>\n",
       "</div>"
      ],
      "text/plain": [
       "             rating  pos_feedback  neg_feedback          year\n",
       "count  54787.000000  54787.000000  54787.000000  54787.000000\n",
       "mean       4.089492      2.147754      0.524705   2012.370635\n",
       "std        1.026216     25.584276      2.131750      1.620425\n",
       "min        1.000000      0.000000      0.000000   2004.000000\n",
       "25%        4.000000      0.000000      0.000000   2011.000000\n",
       "50%        4.000000      0.000000      0.000000   2013.000000\n",
       "75%        5.000000      1.000000      1.000000   2014.000000\n",
       "max        5.000000   1950.000000    181.000000   2014.000000"
      ]
     },
     "execution_count": 6,
     "metadata": {},
     "output_type": "execute_result"
    }
   ],
   "source": [
    "# Print the describe of the dataset\n",
    "\n",
    "df.describe()"
   ]
  },
  {
   "cell_type": "markdown",
   "metadata": {},
   "source": [
    "## Exploratory Data Analysis (EDA)"
   ]
  },
  {
   "cell_type": "markdown",
   "metadata": {},
   "source": [
    "### Target Variable"
   ]
  },
  {
   "cell_type": "code",
   "execution_count": 7,
   "metadata": {},
   "outputs": [
    {
     "data": {
      "image/png": "[encoded data removed]",
      "text/plain": [
       "<Figure size 648x648 with 1 Axes>"
      ]
     },
     "metadata": {
      "needs_background": "light"
     },
     "output_type": "display_data"
    },
    {
     "name": "stdout",
     "output_type": "stream",
     "text": [
      "Total Reviews : 54787\n",
      "\n",
      "Total Rate of Rating Class\n",
      "\n",
      "good       41879\n",
      "neutral     8283\n",
      "bad         4625\n",
      "Name: rating_class, dtype: int64\n"
     ]
    }
   ],
   "source": [
    "#Total rate of Rating Class in the health and personal care reviews from amazon\n",
    "\n",
    "# Plot the total rate of rating class column\n",
    "plt.figure(figsize=(9,9))\n",
    "ax = sns.countplot(x='rating_class',data=df,order=df.rating_class.value_counts().index,palette='tab20')\n",
    "_  = plt.title('Total Rate of Rating Class', fontsize=17, fontweight='bold')\n",
    "_  = plt.xticks(fontsize=16)\n",
    "_  = plt.ylabel('Number of reviews',fontsize=15,fontweight='bold')\n",
    "_  = plt.xlabel('Rating Class',fontsize=15,fontweight='bold')\n",
    "\n",
    "# Calculate the percentages of the category\n",
    "size=[]\n",
    "total_data = len(df)\n",
    "for i in ax.patches:\n",
    "    height = i.get_height()\n",
    "    ax.text(i.get_x()+i.get_width()/2.,height+0.2,\n",
    "           '{:1.2f}%'.format(height/total_data*100),ha='center',fontsize=13)\n",
    "    \n",
    "# Display the plot\n",
    "_  = plt.show()\n",
    "\n",
    "\n",
    "\n",
    "# Total Reviews for each rating class \n",
    "\n",
    "print('Total Reviews : {}'.format(len(df.rating_class)))\n",
    "print('')\n",
    "print('Total Rate of Rating Class')\n",
    "print('')\n",
    "print(df.rating_class.value_counts())\n"
   ]
  },
  {
   "cell_type": "markdown",
   "metadata": {},
   "source": [
    "<font color='green'> \n",
    "\n",
    ">**There are 54787 reviews and ratings that are wroted for each health and personal care product which they are bought in the Amazon between 2004-2014. This above graph demonstrates most of costumer satisfy with product.**\n",
    "\n",
    ">**I categorized those 5 rating categories into 3 categories such as good, bad ,and neutral for doing a better sentiment analysis on their reviews. As the graph shows, %76.44 of reviews (41879) are classified as good, %15.12 of reviews(8283) are classified as neutral. %8.44 of reviews(4625) are classified as bad.**\n",
    "</font>"
   ]
  },
  {
   "cell_type": "markdown",
   "metadata": {},
   "source": [
    "### Fatures"
   ]
  },
  {
   "cell_type": "markdown",
   "metadata": {},
   "source": [
    "#### 1. Year Feature\n"
   ]
  },
  {
   "cell_type": "markdown",
   "metadata": {},
   "source": [
    "##### How the number of rating classes  change for each year ?"
   ]
  },
  {
   "cell_type": "code",
   "execution_count": 8,
   "metadata": {
    "scrolled": true
   },
   "outputs": [
    {
     "name": "stdout",
     "output_type": "stream",
     "text": [
      "    Year  Bad Ratings Total  Good Ratings Total  Neutral Ratings Total\n",
      "0   2004                0.0                 2.0                    2.0\n",
      "1   2005                2.0                 9.0                    1.0\n",
      "2   2006                1.0                22.0                    3.0\n",
      "3   2007               28.0               351.0                   50.0\n",
      "4   2008              125.0              1057.0                  233.0\n",
      "5   2009              270.0              1397.0                  382.0\n",
      "6   2010              430.0              2922.0                  664.0\n",
      "7   2011              508.0              4471.0                  891.0\n",
      "8   2012              696.0              4543.0                 1010.0\n",
      "9   2013             1744.0             15883.0                 3375.0\n",
      "10  2014              821.0             11222.0                 1672.0\n"
     ]
    }
   ],
   "source": [
    "# Select the data frame\n",
    "\n",
    "df_new=df[['year','rating_class','review_text']]\n",
    "\n",
    "# One hot encoding in the dataframe \n",
    "df_dummy=pd.get_dummies(df_new,columns=['rating_class'])\n",
    "\n",
    "# Groupby year column and aggregate number of rating class and total reviews for each year \n",
    "df_group=df_dummy.groupby('year').agg({'rating_class_bad':['sum','mean'],'rating_class_good':['sum','mean'],\n",
    "                             'rating_class_neutral':['sum','mean'],'review_text':['size']})\n",
    "\n",
    "\n",
    "# Rename columns name\n",
    "df_group.columns=['_'.join(cols).strip() for cols in df_group.columns.values]\n",
    "df_group=df_group.reset_index()\n",
    "\n",
    "df_group['rating_class_bad_mean']=df_group['rating_class_bad_mean']*100\n",
    "df_group['rating_class_good_mean']=df_group['rating_class_good_mean']*100\n",
    "df_group['rating_class_neutral_mean']=df_group['rating_class_neutral_mean']*100\n",
    "\n",
    "\n",
    "\n",
    "df_group.columns=['Year','Bad Ratings Total','% of Bad Rating to Total Review in This Year ',\n",
    "                  'Good Ratings Total','% of Good Rating to Total Review in This Year ',\n",
    "                  'Neutral Ratings Total','% of Neutral Rating to Total Review in This Year ','Total Reviews']\n",
    "\n",
    "# Print number of rating class and total reviews for each year\n",
    "print(df_group[['Year','Bad Ratings Total','Good Ratings Total','Neutral Ratings Total']])\n",
    "\n",
    "\n",
    "\n"
   ]
  },
  {
   "cell_type": "code",
   "execution_count": 9,
   "metadata": {},
   "outputs": [
    {
     "data": {
      "text/html": [
       "<div>\n",
       "<style scoped>\n",
       "    .dataframe tbody tr th:only-of-type {\n",
       "        vertical-align: middle;\n",
       "    }\n",
       "\n",
       "    .dataframe tbody tr th {\n",
       "        vertical-align: top;\n",
       "    }\n",
       "\n",
       "    .dataframe thead th {\n",
       "        text-align: right;\n",
       "    }\n",
       "</style>\n",
       "<table border=\"1\" class=\"dataframe\">\n",
       "  <thead>\n",
       "    <tr style=\"text-align: right;\">\n",
       "      <th></th>\n",
       "      <th>Year</th>\n",
       "      <th>% of Bad Rating to Total Review in This Year</th>\n",
       "      <th>% of Good Rating to Total Review in This Year</th>\n",
       "      <th>% of Neutral Rating to Total Review in This Year</th>\n",
       "    </tr>\n",
       "  </thead>\n",
       "  <tbody>\n",
       "    <tr>\n",
       "      <td>0</td>\n",
       "      <td>2004</td>\n",
       "      <td>0.000000</td>\n",
       "      <td>50.000000</td>\n",
       "      <td>50.000000</td>\n",
       "    </tr>\n",
       "    <tr>\n",
       "      <td>1</td>\n",
       "      <td>2005</td>\n",
       "      <td>16.666667</td>\n",
       "      <td>75.000000</td>\n",
       "      <td>8.333333</td>\n",
       "    </tr>\n",
       "    <tr>\n",
       "      <td>2</td>\n",
       "      <td>2006</td>\n",
       "      <td>3.846154</td>\n",
       "      <td>84.615385</td>\n",
       "      <td>11.538462</td>\n",
       "    </tr>\n",
       "    <tr>\n",
       "      <td>3</td>\n",
       "      <td>2007</td>\n",
       "      <td>6.526807</td>\n",
       "      <td>81.818182</td>\n",
       "      <td>11.655012</td>\n",
       "    </tr>\n",
       "    <tr>\n",
       "      <td>4</td>\n",
       "      <td>2008</td>\n",
       "      <td>8.833922</td>\n",
       "      <td>74.699647</td>\n",
       "      <td>16.466431</td>\n",
       "    </tr>\n",
       "    <tr>\n",
       "      <td>5</td>\n",
       "      <td>2009</td>\n",
       "      <td>13.177160</td>\n",
       "      <td>68.179600</td>\n",
       "      <td>18.643241</td>\n",
       "    </tr>\n",
       "    <tr>\n",
       "      <td>6</td>\n",
       "      <td>2010</td>\n",
       "      <td>10.707171</td>\n",
       "      <td>72.758964</td>\n",
       "      <td>16.533865</td>\n",
       "    </tr>\n",
       "    <tr>\n",
       "      <td>7</td>\n",
       "      <td>2011</td>\n",
       "      <td>8.654174</td>\n",
       "      <td>76.166951</td>\n",
       "      <td>15.178876</td>\n",
       "    </tr>\n",
       "    <tr>\n",
       "      <td>8</td>\n",
       "      <td>2012</td>\n",
       "      <td>11.137782</td>\n",
       "      <td>72.699632</td>\n",
       "      <td>16.162586</td>\n",
       "    </tr>\n",
       "    <tr>\n",
       "      <td>9</td>\n",
       "      <td>2013</td>\n",
       "      <td>8.303971</td>\n",
       "      <td>75.626131</td>\n",
       "      <td>16.069898</td>\n",
       "    </tr>\n",
       "    <tr>\n",
       "      <td>10</td>\n",
       "      <td>2014</td>\n",
       "      <td>5.986147</td>\n",
       "      <td>81.822822</td>\n",
       "      <td>12.191032</td>\n",
       "    </tr>\n",
       "  </tbody>\n",
       "</table>\n",
       "</div>"
      ],
      "text/plain": [
       "    Year  % of Bad Rating to Total Review in This Year   \\\n",
       "0   2004                                       0.000000   \n",
       "1   2005                                      16.666667   \n",
       "2   2006                                       3.846154   \n",
       "3   2007                                       6.526807   \n",
       "4   2008                                       8.833922   \n",
       "5   2009                                      13.177160   \n",
       "6   2010                                      10.707171   \n",
       "7   2011                                       8.654174   \n",
       "8   2012                                      11.137782   \n",
       "9   2013                                       8.303971   \n",
       "10  2014                                       5.986147   \n",
       "\n",
       "    % of Good Rating to Total Review in This Year   \\\n",
       "0                                        50.000000   \n",
       "1                                        75.000000   \n",
       "2                                        84.615385   \n",
       "3                                        81.818182   \n",
       "4                                        74.699647   \n",
       "5                                        68.179600   \n",
       "6                                        72.758964   \n",
       "7                                        76.166951   \n",
       "8                                        72.699632   \n",
       "9                                        75.626131   \n",
       "10                                       81.822822   \n",
       "\n",
       "    % of Neutral Rating to Total Review in This Year   \n",
       "0                                           50.000000  \n",
       "1                                            8.333333  \n",
       "2                                           11.538462  \n",
       "3                                           11.655012  \n",
       "4                                           16.466431  \n",
       "5                                           18.643241  \n",
       "6                                           16.533865  \n",
       "7                                           15.178876  \n",
       "8                                           16.162586  \n",
       "9                                           16.069898  \n",
       "10                                          12.191032  "
      ]
     },
     "execution_count": 9,
     "metadata": {},
     "output_type": "execute_result"
    }
   ],
   "source": [
    "# \n",
    "df_group[['Year','% of Bad Rating to Total Review in This Year ','% of Good Rating to Total Review in This Year ','% of Neutral Rating to Total Review in This Year ']]"
   ]
  },
  {
   "cell_type": "markdown",
   "metadata": {},
   "source": [
    "###### Drawing number of rating class for each year"
   ]
  },
  {
   "cell_type": "code",
   "execution_count": 10,
   "metadata": {
    "scrolled": true
   },
   "outputs": [
    {
     "data": {
      "image/png": "[encoded data removed]",
      "text/plain": [
       "<Figure size 936x504 with 2 Axes>"
      ]
     },
     "metadata": {},
     "output_type": "display_data"
    }
   ],
   "source": [
    "# Reform dataframe with using pivot table\n",
    "df_pivot=pd.pivot_table(data=df,index='year',columns='rating_class',aggfunc='size',values='review_text')\n",
    "\n",
    "# Reform dataframe for % rating classes in each year\n",
    "df_percent=df_group[['% of Bad Rating to Total Review in This Year ','% of Good Rating to Total Review in This Year ','% of Neutral Rating to Total Review in This Year ']]\n",
    "\n",
    "\n",
    "# Plot total number of rating classes and % of rating classes in each year\n",
    "sns.set()\n",
    "fig0, ax1 = plt.subplots()\n",
    "ax2 = ax1.twinx()\n",
    "\n",
    "df_pivot.plot(kind='bar',figsize=(13,7),ax=ax1,width=0.8)\n",
    "\n",
    "df_percent.plot(kind='line',ax=ax2,use_index=False)\n",
    "\n",
    "# Add title , label and adjust finely\n",
    "_  = plt.title('Number of rating class  each year',fontsize=22,fontweight='bold')\n",
    "\n",
    "_  = ax1.set_xlabel('Year',fontsize=15,fontweight='bold')\n",
    "\n",
    "_  = ax1.set_ylabel('Total Number of rating class',fontsize=18,fontweight='bold')\n",
    "\n",
    "_  = ax1.tick_params(axis='both', labelsize=16)\n",
    "\n",
    "_  = ax1.legend(loc='upper left',fontsize='small',title='Total Rating Class',title_fontsize='medium')\n",
    "\n",
    "_  = ax2.legend(loc='center left',fontsize='small',title='% of Rating Class',title_fontsize='medium')\n",
    "\n",
    "_  = ax2.set_ylabel(\" Percentage of Rating Class for Each Year\",fontsize=16,fontweight='bold')\n",
    "\n",
    "_  = ax2.yaxis.label.set_color('red')\n",
    "\n",
    "_  = ax2.tick_params(axis='both', labelsize=16)\n",
    "\n",
    "#plt.tight_layout()\n",
    "# Display the plot\n",
    "_  = plt.show()\n",
    "\n",
    "\n",
    "\n",
    "\n"
   ]
  },
  {
   "cell_type": "markdown",
   "metadata": {},
   "source": []
  },
  {
   "cell_type": "markdown",
   "metadata": {},
   "source": [
    "#### 2. Customer Feature"
   ]
  },
  {
   "cell_type": "markdown",
   "metadata": {},
   "source": [
    "##### How many distinct customers exist in the dataset?"
   ]
  },
  {
   "cell_type": "code",
   "execution_count": 11,
   "metadata": {},
   "outputs": [
    {
     "name": "stdout",
     "output_type": "stream",
     "text": [
      "Number of unique customers: 2184\n"
     ]
    }
   ],
   "source": [
    "# Check unique number of customer\n",
    "\n",
    "print('Number of unique customers: {}'.format(df['customer'].nunique()))\n"
   ]
  },
  {
   "cell_type": "markdown",
   "metadata": {},
   "source": [
    "##### How many unique customers exist in each year?"
   ]
  },
  {
   "cell_type": "code",
   "execution_count": 12,
   "metadata": {
    "scrolled": true
   },
   "outputs": [
    {
     "data": {
      "image/png": "[encoded data removed]",
      "text/plain": [
       "<Figure size 720x360 with 1 Axes>"
      ]
     },
     "metadata": {},
     "output_type": "display_data"
    },
    {
     "name": "stdout",
     "output_type": "stream",
     "text": [
      "      customer\n",
      "year          \n",
      "2004         4\n",
      "2005        12\n",
      "2006        26\n",
      "2007       223\n",
      "2008       589\n",
      "2009       920\n",
      "2010      1392\n",
      "2011      1827\n",
      "2012      1863\n",
      "2013      2076\n",
      "2014      1965\n"
     ]
    }
   ],
   "source": [
    "# Calculate number of unique customers in each year\n",
    "cust=df.groupby('year')['customer'].nunique()\n",
    "\n",
    "\n",
    "# Set the figure size in order to plot\n",
    "plt.figure(figsize=(10,5))\n",
    "\n",
    "# Plot the distibution of unique customers by year\n",
    "ax = sns.lineplot(x='year',y='customer',data=cust.reset_index(),err_style=\"bars\")\n",
    "\n",
    "# Add a title\n",
    "plt.title('Distribution of unique customers by years',fontsize=16,fontweight='bold')\n",
    "\n",
    "# Display plot\n",
    "plt.show()\n",
    "\n",
    "\n",
    "# Print number of unique customers in each year as a dataframe\n",
    "print(pd.DataFrame(cust))"
   ]
  },
  {
   "cell_type": "markdown",
   "metadata": {},
   "source": [
    "##### How many unique customers exist in each rating class?"
   ]
  },
  {
   "cell_type": "code",
   "execution_count": 13,
   "metadata": {
    "scrolled": true
   },
   "outputs": [
    {
     "name": "stdout",
     "output_type": "stream",
     "text": [
      "              review_text  number_of_customers\n",
      "rating_class                                  \n",
      "bad                  4625                 1510\n",
      "neutral              8283                 2183\n",
      "good                41879                 1900\n"
     ]
    }
   ],
   "source": [
    "\n",
    "# Check out total number of reviews for each rating class:\n",
    "df_ratingclass = pd.DataFrame(df.groupby('rating_class')['review_text'].count().sort_values())\n",
    "\n",
    "\n",
    "# Check out number of unique customers for each rating class as a list:\n",
    "number_of_customers = list(df.groupby('rating_class')['customer'].nunique())\n",
    "\n",
    "\n",
    "# Add list number of unique customers as a to DataFrame df_rr :\n",
    "df_ratingclass['number_of_customers']=number_of_customers\n",
    "\n",
    "\n",
    "\n",
    "\n",
    "\n",
    "print(df_ratingclass)\n",
    "\n"
   ]
  },
  {
   "cell_type": "markdown",
   "metadata": {},
   "source": [
    "##### Who are the first 10 customers with most reviews and  buying product?"
   ]
  },
  {
   "cell_type": "code",
   "execution_count": 14,
   "metadata": {},
   "outputs": [
    {
     "data": {
      "text/html": [
       "<div>\n",
       "<style scoped>\n",
       "    .dataframe tbody tr th:only-of-type {\n",
       "        vertical-align: middle;\n",
       "    }\n",
       "\n",
       "    .dataframe tbody tr th {\n",
       "        vertical-align: top;\n",
       "    }\n",
       "\n",
       "    .dataframe thead th {\n",
       "        text-align: right;\n",
       "    }\n",
       "</style>\n",
       "<table border=\"1\" class=\"dataframe\">\n",
       "  <thead>\n",
       "    <tr style=\"text-align: right;\">\n",
       "      <th></th>\n",
       "      <th>review_text</th>\n",
       "      <th>product</th>\n",
       "    </tr>\n",
       "    <tr>\n",
       "      <th>customer</th>\n",
       "      <th></th>\n",
       "      <th></th>\n",
       "    </tr>\n",
       "  </thead>\n",
       "  <tbody>\n",
       "    <tr>\n",
       "      <td>A3NHUQ33CFH3VM</td>\n",
       "      <td>235</td>\n",
       "      <td>235</td>\n",
       "    </tr>\n",
       "    <tr>\n",
       "      <td>A1UQBFCERIP7VJ</td>\n",
       "      <td>235</td>\n",
       "      <td>235</td>\n",
       "    </tr>\n",
       "    <tr>\n",
       "      <td>A2OCDK0BOW6UCY</td>\n",
       "      <td>198</td>\n",
       "      <td>198</td>\n",
       "    </tr>\n",
       "    <tr>\n",
       "      <td>ALNFHVS3SC4FV</td>\n",
       "      <td>196</td>\n",
       "      <td>196</td>\n",
       "    </tr>\n",
       "    <tr>\n",
       "      <td>A2P739KOM4U5JB</td>\n",
       "      <td>182</td>\n",
       "      <td>182</td>\n",
       "    </tr>\n",
       "    <tr>\n",
       "      <td>A3094EPI56GKZ6</td>\n",
       "      <td>181</td>\n",
       "      <td>181</td>\n",
       "    </tr>\n",
       "    <tr>\n",
       "      <td>A34BZM6S9L7QI4</td>\n",
       "      <td>170</td>\n",
       "      <td>170</td>\n",
       "    </tr>\n",
       "    <tr>\n",
       "      <td>AEL6CQNQXONBX</td>\n",
       "      <td>170</td>\n",
       "      <td>170</td>\n",
       "    </tr>\n",
       "    <tr>\n",
       "      <td>ALQ4USPEQ9L5N</td>\n",
       "      <td>158</td>\n",
       "      <td>158</td>\n",
       "    </tr>\n",
       "    <tr>\n",
       "      <td>A2ULQOGN59LDNK</td>\n",
       "      <td>155</td>\n",
       "      <td>155</td>\n",
       "    </tr>\n",
       "  </tbody>\n",
       "</table>\n",
       "</div>"
      ],
      "text/plain": [
       "                review_text  product\n",
       "customer                            \n",
       "A3NHUQ33CFH3VM          235      235\n",
       "A1UQBFCERIP7VJ          235      235\n",
       "A2OCDK0BOW6UCY          198      198\n",
       "ALNFHVS3SC4FV           196      196\n",
       "A2P739KOM4U5JB          182      182\n",
       "A3094EPI56GKZ6          181      181\n",
       "A34BZM6S9L7QI4          170      170\n",
       "AEL6CQNQXONBX           170      170\n",
       "ALQ4USPEQ9L5N           158      158\n",
       "A2ULQOGN59LDNK          155      155"
      ]
     },
     "execution_count": 14,
     "metadata": {},
     "output_type": "execute_result"
    }
   ],
   "source": [
    "# Create new dataframe as df1  \n",
    "df1=df[['customer','review_text','product']][:]\n",
    "\n",
    "# Groupby with customer column ,sort and find first 10 customer who wrote most reviews\n",
    "df1.groupby(['customer']).count().sort_values('review_text',ascending=False)[:10]\n"
   ]
  },
  {
   "cell_type": "markdown",
   "metadata": {},
   "source": [
    "##### How many   ratings are   rated in each rating class  by the first 10 customers which bought most product ?"
   ]
  },
  {
   "cell_type": "code",
   "execution_count": 15,
   "metadata": {},
   "outputs": [
    {
     "data": {
      "text/plain": [
       "<Figure size 1080x720 with 0 Axes>"
      ]
     },
     "metadata": {},
     "output_type": "display_data"
    },
    {
     "data": {
      "image/png": "[encoded data removed]",
      "text/plain": [
       "<Figure size 432x288 with 1 Axes>"
      ]
     },
     "metadata": {},
     "output_type": "display_data"
    },
    {
     "name": "stdout",
     "output_type": "stream",
     "text": [
      "                  len               \n",
      "               rating               \n",
      "rating_class      bad   good neutral\n",
      "customer                            \n",
      "A1UQBFCERIP7VJ    6.0  216.0    13.0\n",
      "A2OCDK0BOW6UCY    6.0  155.0    37.0\n",
      "A2P739KOM4U5JB   35.0  105.0    42.0\n",
      "A2ULQOGN59LDNK    1.0  150.0     4.0\n",
      "A3094EPI56GKZ6    1.0  169.0    11.0\n",
      "A34BZM6S9L7QI4    4.0  156.0    10.0\n",
      "A3NHUQ33CFH3VM   11.0  195.0    29.0\n",
      "AEL6CQNQXONBX    14.0  124.0    32.0\n",
      "ALNFHVS3SC4FV    19.0  139.0    38.0\n",
      "ALQ4USPEQ9L5N    27.0   98.0    33.0\n"
     ]
    }
   ],
   "source": [
    "'''Calculate ratings on each rating class \n",
    "for the first 10 customers having most reviews through pivot table'''\n",
    "\n",
    "df_pivot=pd.pivot_table(data=df,index='customer',columns='rating_class',\n",
    "               values=['rating'],aggfunc=[len])\n",
    "\n",
    "df_pivot=df_pivot[df_pivot.index.str.contains('A3NHUQ33CFH3VM|A1UQBFCERIP7VJ|A2OCDK0BOW6UCY|ALNFHVS3SC4FV|A2P739KOM4U5JB|A3094EPI56GKZ6|A34BZM6S9L7QI4|AEL6CQNQXONBX|ALQ4USPEQ9L5N|A2ULQOGN59LDNK')]\n",
    "\n",
    "\n",
    "# Plot ratings of each rating class for first 10 customers having most reviews\n",
    "sns.set()\n",
    "plt.figure(figsize=(15,10))\n",
    "df_pivot.plot(kind='bar',width=0.8)\n",
    "\n",
    "# Set the tittle and labels\n",
    "plt.title('The 10 customers rating class rate',fontsize=16,fontweight='bold')\n",
    "plt.ylabel('Rating',fontsize=13,fontweight='bold')\n",
    "plt.xlabel(' The 10 customers with most reviews ',fontsize=13,fontweight='bold')\n",
    "\n",
    "# Display plot\n",
    "plt.show()\n",
    "\n",
    "\n",
    "\n",
    "# Print number of ratings on each rating class the first 10 customers having most reviews\n",
    "print(df_pivot)"
   ]
  },
  {
   "cell_type": "code",
   "execution_count": null,
   "metadata": {},
   "outputs": [],
   "source": []
  },
  {
   "cell_type": "markdown",
   "metadata": {},
   "source": []
  },
  {
   "cell_type": "markdown",
   "metadata": {},
   "source": [
    "#### 3. Product Feature"
   ]
  },
  {
   "cell_type": "markdown",
   "metadata": {},
   "source": [
    "##### How many unique products exist in the dataset?"
   ]
  },
  {
   "cell_type": "code",
   "execution_count": 16,
   "metadata": {},
   "outputs": [
    {
     "name": "stdout",
     "output_type": "stream",
     "text": [
      "Number of unique health and personalcare products : 1260\n"
     ]
    }
   ],
   "source": [
    "# Print number of unique product in the dataset\n",
    "\n",
    "print('Number of unique health and personalcare products : {}'.format(df['product'].nunique()))"
   ]
  },
  {
   "cell_type": "markdown",
   "metadata": {},
   "source": [
    "##### How many unique products exist in each year?"
   ]
  },
  {
   "cell_type": "code",
   "execution_count": 17,
   "metadata": {},
   "outputs": [
    {
     "data": {
      "text/plain": [
       "<Figure size 720x504 with 0 Axes>"
      ]
     },
     "metadata": {},
     "output_type": "display_data"
    },
    {
     "data": {
      "image/png": "[encoded data removed]",
      "text/plain": [
       "<Figure size 360x360 with 1 Axes>"
      ]
     },
     "metadata": {},
     "output_type": "display_data"
    },
    {
     "name": "stdout",
     "output_type": "stream",
     "text": [
      "      product\n",
      "year         \n",
      "2004        1\n",
      "2005        5\n",
      "2006       14\n",
      "2007       38\n",
      "2008       80\n",
      "2009      130\n",
      "2010      181\n",
      "2011      306\n",
      "2012      408\n",
      "2013      700\n",
      "2014      602\n"
     ]
    }
   ],
   "source": [
    "# Check out number of unique products in each year\n",
    "prod = df.groupby('year')['product'].nunique()\n",
    "prod=pd.DataFrame(prod)\n",
    "\n",
    "# Plot number of unique products in each year\n",
    "plt.figure(figsize=(10,7))\n",
    "sns.catplot(x='year',y='product',data=prod.reset_index(), palette=\"ch:.25\",kind='bar')\n",
    "\n",
    "# Set title and xticks\n",
    "plt.title('Number of unique products in each year',fontsize=13,fontweight='bold')\n",
    "plt.xticks(rotation=90)\n",
    "\n",
    "# Display plot\n",
    "plt.show()\n",
    "\n",
    "print(prod)"
   ]
  },
  {
   "cell_type": "markdown",
   "metadata": {},
   "source": [
    "##### What are the first 10 products with most reviews"
   ]
  },
  {
   "cell_type": "code",
   "execution_count": 18,
   "metadata": {},
   "outputs": [
    {
     "data": {
      "text/html": [
       "<div>\n",
       "<style scoped>\n",
       "    .dataframe tbody tr th:only-of-type {\n",
       "        vertical-align: middle;\n",
       "    }\n",
       "\n",
       "    .dataframe tbody tr th {\n",
       "        vertical-align: top;\n",
       "    }\n",
       "\n",
       "    .dataframe thead th {\n",
       "        text-align: right;\n",
       "    }\n",
       "</style>\n",
       "<table border=\"1\" class=\"dataframe\">\n",
       "  <thead>\n",
       "    <tr style=\"text-align: right;\">\n",
       "      <th></th>\n",
       "      <th>review_text</th>\n",
       "    </tr>\n",
       "    <tr>\n",
       "      <th>product</th>\n",
       "      <th></th>\n",
       "    </tr>\n",
       "  </thead>\n",
       "  <tbody>\n",
       "    <tr>\n",
       "      <td>B0037KMI0U</td>\n",
       "      <td>665</td>\n",
       "    </tr>\n",
       "    <tr>\n",
       "      <td>B001F51VRK</td>\n",
       "      <td>367</td>\n",
       "    </tr>\n",
       "    <tr>\n",
       "      <td>B001F51VS4</td>\n",
       "      <td>319</td>\n",
       "    </tr>\n",
       "    <tr>\n",
       "      <td>B003X5FYJQ</td>\n",
       "      <td>267</td>\n",
       "    </tr>\n",
       "    <tr>\n",
       "      <td>B0013OQGO6</td>\n",
       "      <td>259</td>\n",
       "    </tr>\n",
       "    <tr>\n",
       "      <td>B007LEO4Y6</td>\n",
       "      <td>253</td>\n",
       "    </tr>\n",
       "    <tr>\n",
       "      <td>B006DR2BEW</td>\n",
       "      <td>252</td>\n",
       "    </tr>\n",
       "    <tr>\n",
       "      <td>B0013OX9NC</td>\n",
       "      <td>248</td>\n",
       "    </tr>\n",
       "    <tr>\n",
       "      <td>B0072DAZEE</td>\n",
       "      <td>239</td>\n",
       "    </tr>\n",
       "    <tr>\n",
       "      <td>B00GY2AY18</td>\n",
       "      <td>231</td>\n",
       "    </tr>\n",
       "  </tbody>\n",
       "</table>\n",
       "</div>"
      ],
      "text/plain": [
       "            review_text\n",
       "product                \n",
       "B0037KMI0U          665\n",
       "B001F51VRK          367\n",
       "B001F51VS4          319\n",
       "B003X5FYJQ          267\n",
       "B0013OQGO6          259\n",
       "B007LEO4Y6          253\n",
       "B006DR2BEW          252\n",
       "B0013OX9NC          248\n",
       "B0072DAZEE          239\n",
       "B00GY2AY18          231"
      ]
     },
     "execution_count": 18,
     "metadata": {},
     "output_type": "execute_result"
    }
   ],
   "source": [
    "# Create new dataframe as df1  \n",
    "df_p=df[['review_text','product']][:]\n",
    "\n",
    "# Groupby with customer column ,sort and find first 10 customer who wrote most reviews\n",
    "df_p.groupby(['product']).count().sort_values('review_text',ascending=False)[:10]\n",
    "\n"
   ]
  },
  {
   "cell_type": "markdown",
   "metadata": {},
   "source": [
    "##### How many   ratings are   rated in each rating class  by the first 10 customers which bought "
   ]
  },
  {
   "cell_type": "code",
   "execution_count": 19,
   "metadata": {},
   "outputs": [
    {
     "data": {
      "text/plain": [
       "<Figure size 936x504 with 0 Axes>"
      ]
     },
     "metadata": {},
     "output_type": "display_data"
    },
    {
     "data": {
      "image/png": "[encoded data removed]",
      "text/plain": [
       "<Figure size 432x288 with 1 Axes>"
      ]
     },
     "metadata": {},
     "output_type": "display_data"
    },
    {
     "name": "stdout",
     "output_type": "stream",
     "text": [
      "                len               \n",
      "             rating               \n",
      "rating_class    bad   good neutral\n",
      "product                           \n",
      "B0013OQGO6      5.0  228.0    26.0\n",
      "B0013OX9NC      4.0  219.0    25.0\n",
      "B001F51VRK     17.0  303.0    47.0\n",
      "B001F51VS4     10.0  272.0    37.0\n",
      "B0037KMI0U     17.0  600.0    48.0\n",
      "B003X5FYJQ     29.0  184.0    54.0\n",
      "B006DR2BEW     15.0  194.0    43.0\n",
      "B0072DAZEE     24.0  173.0    42.0\n",
      "B007LEO4Y6     22.0  172.0    59.0\n",
      "B00GY2AY18      7.0  199.0    25.0\n"
     ]
    }
   ],
   "source": [
    "'''Calculate ratings on each rating class \n",
    "for the first 10 products having most reviews through pivot table'''\n",
    "\n",
    "df_prod_pivot=pd.pivot_table(data=df,index='product',columns='rating_class',\n",
    "               values=['rating'],aggfunc=[len])\n",
    "\n",
    "df_prod_pivot=df_prod_pivot[df_prod_pivot.index.str.contains('B0037KMI0U|B001F51VRK|B001F51VS4|B003X5FYJQ|B0013OQGO6|B007LEO4Y6|B006DR2BEW|B0013OX9NC|B0072DAZEE|B00GY2AY18')]\n",
    "\n",
    "\n",
    "# Plot ratings of each rating class for first 10 products having most reviews\n",
    "sns.set()\n",
    "plt.figure(figsize=(13,7))\n",
    "df_prod_pivot.plot(kind='bar',width=0.8)\n",
    "\n",
    "# Set the tittle and labels\n",
    "plt.title('The 10 products rating class rate',fontsize=16,fontweight='bold')\n",
    "plt.ylabel('Rating',fontsize=13,fontweight='bold')\n",
    "plt.xlabel(' The 10 products with most reviews ',fontsize=13,fontweight='bold')\n",
    "\n",
    "# Display plot\n",
    "plt.show()\n",
    "\n",
    "\n",
    "\n",
    "# Print number of ratings on each rating class the first 10 products having most reviews\n",
    "print(df_prod_pivot)"
   ]
  },
  {
   "cell_type": "raw",
   "metadata": {},
   "source": []
  },
  {
   "cell_type": "markdown",
   "metadata": {},
   "source": [
    "#### 4. Review Length Feature"
   ]
  },
  {
   "cell_type": "code",
   "execution_count": 20,
   "metadata": {},
   "outputs": [
    {
     "data": {
      "text/html": [
       "<div>\n",
       "<style scoped>\n",
       "    .dataframe tbody tr th:only-of-type {\n",
       "        vertical-align: middle;\n",
       "    }\n",
       "\n",
       "    .dataframe tbody tr th {\n",
       "        vertical-align: top;\n",
       "    }\n",
       "\n",
       "    .dataframe thead th {\n",
       "        text-align: right;\n",
       "    }\n",
       "</style>\n",
       "<table border=\"1\" class=\"dataframe\">\n",
       "  <thead>\n",
       "    <tr style=\"text-align: right;\">\n",
       "      <th></th>\n",
       "      <th>customer</th>\n",
       "      <th>product</th>\n",
       "      <th>rating</th>\n",
       "      <th>review_text</th>\n",
       "      <th>pos_feedback</th>\n",
       "      <th>neg_feedback</th>\n",
       "      <th>rating_class</th>\n",
       "      <th>time</th>\n",
       "      <th>year</th>\n",
       "      <th>clean_text</th>\n",
       "      <th>clues</th>\n",
       "      <th>review_length</th>\n",
       "    </tr>\n",
       "  </thead>\n",
       "  <tbody>\n",
       "    <tr>\n",
       "      <td>26612</td>\n",
       "      <td>A122SFGLAHQLSJ</td>\n",
       "      <td>B0057D81PQ</td>\n",
       "      <td>5.0</td>\n",
       "      <td>Most of my life I have had varicose veins and ...</td>\n",
       "      <td>0</td>\n",
       "      <td>0</td>\n",
       "      <td>good</td>\n",
       "      <td>2012-02-16</td>\n",
       "      <td>2012</td>\n",
       "      <td>life varicose vein wear support sock try many ...</td>\n",
       "      <td>['life', 'varicose', 'vein', 'wear', 'support'...</td>\n",
       "      <td>161</td>\n",
       "    </tr>\n",
       "    <tr>\n",
       "      <td>31363</td>\n",
       "      <td>A2W0XCWOK3MW6F</td>\n",
       "      <td>B007A1XBUS</td>\n",
       "      <td>5.0</td>\n",
       "      <td>My spouse is the one taking these vitamins. Hi...</td>\n",
       "      <td>0</td>\n",
       "      <td>0</td>\n",
       "      <td>good</td>\n",
       "      <td>2012-07-25</td>\n",
       "      <td>2012</td>\n",
       "      <td>spouse one take vitamin requirement multivitam...</td>\n",
       "      <td>['spouse', 'one', 'take', 'vitamin', 'requirem...</td>\n",
       "      <td>131</td>\n",
       "    </tr>\n",
       "    <tr>\n",
       "      <td>45694</td>\n",
       "      <td>A2TI5R93FF69UN</td>\n",
       "      <td>B00D5UZMDC</td>\n",
       "      <td>4.0</td>\n",
       "      <td>To start every one knows how much the doctor p...</td>\n",
       "      <td>1</td>\n",
       "      <td>0</td>\n",
       "      <td>good</td>\n",
       "      <td>2014-03-14</td>\n",
       "      <td>2014</td>\n",
       "      <td>start every one know much doctor prescribed st...</td>\n",
       "      <td>['start', 'every', 'one', 'know', 'much', 'doc...</td>\n",
       "      <td>746</td>\n",
       "    </tr>\n",
       "  </tbody>\n",
       "</table>\n",
       "</div>"
      ],
      "text/plain": [
       "             customer     product  rating  \\\n",
       "26612  A122SFGLAHQLSJ  B0057D81PQ     5.0   \n",
       "31363  A2W0XCWOK3MW6F  B007A1XBUS     5.0   \n",
       "45694  A2TI5R93FF69UN  B00D5UZMDC     4.0   \n",
       "\n",
       "                                             review_text  pos_feedback  \\\n",
       "26612  Most of my life I have had varicose veins and ...             0   \n",
       "31363  My spouse is the one taking these vitamins. Hi...             0   \n",
       "45694  To start every one knows how much the doctor p...             1   \n",
       "\n",
       "       neg_feedback rating_class        time  year  \\\n",
       "26612             0         good  2012-02-16  2012   \n",
       "31363             0         good  2012-07-25  2012   \n",
       "45694             0         good  2014-03-14  2014   \n",
       "\n",
       "                                              clean_text  \\\n",
       "26612  life varicose vein wear support sock try many ...   \n",
       "31363  spouse one take vitamin requirement multivitam...   \n",
       "45694  start every one know much doctor prescribed st...   \n",
       "\n",
       "                                                   clues  review_length  \n",
       "26612  ['life', 'varicose', 'vein', 'wear', 'support'...            161  \n",
       "31363  ['spouse', 'one', 'take', 'vitamin', 'requirem...            131  \n",
       "45694  ['start', 'every', 'one', 'know', 'much', 'doc...            746  "
      ]
     },
     "execution_count": 20,
     "metadata": {},
     "output_type": "execute_result"
    }
   ],
   "source": [
    "# Write function to see the length of the review text\n",
    "def length(review_text):\n",
    "    length = len([w for w in nltk.word_tokenize(review_text)])\n",
    "    return length\n",
    "\n",
    "# Create review length feature \n",
    "df['review_length']=df['review_text'].apply(length)\n",
    "\n",
    "# Show 3 example of dataframe\n",
    "df.sample(3)"
   ]
  },
  {
   "cell_type": "code",
   "execution_count": 21,
   "metadata": {},
   "outputs": [
    {
     "data": {
      "text/html": [
       "<div>\n",
       "<style scoped>\n",
       "    .dataframe tbody tr th:only-of-type {\n",
       "        vertical-align: middle;\n",
       "    }\n",
       "\n",
       "    .dataframe tbody tr th {\n",
       "        vertical-align: top;\n",
       "    }\n",
       "\n",
       "    .dataframe thead th {\n",
       "        text-align: right;\n",
       "    }\n",
       "</style>\n",
       "<table border=\"1\" class=\"dataframe\">\n",
       "  <thead>\n",
       "    <tr style=\"text-align: right;\">\n",
       "      <th></th>\n",
       "      <th>customer</th>\n",
       "      <th>product</th>\n",
       "      <th>rating</th>\n",
       "      <th>review_text</th>\n",
       "      <th>pos_feedback</th>\n",
       "      <th>neg_feedback</th>\n",
       "      <th>rating_class</th>\n",
       "      <th>time</th>\n",
       "      <th>year</th>\n",
       "      <th>clean_text</th>\n",
       "      <th>clues</th>\n",
       "      <th>review_length</th>\n",
       "      <th>review_length_bin</th>\n",
       "    </tr>\n",
       "  </thead>\n",
       "  <tbody>\n",
       "    <tr>\n",
       "      <td>29703</td>\n",
       "      <td>A2BD0G4SRK0WMV</td>\n",
       "      <td>B006GTEC1W</td>\n",
       "      <td>3.0</td>\n",
       "      <td>I like New Chapter, and I really like the idea...</td>\n",
       "      <td>3</td>\n",
       "      <td>1</td>\n",
       "      <td>neutral</td>\n",
       "      <td>2012-05-16</td>\n",
       "      <td>2012</td>\n",
       "      <td>like new chapter really like idea target multi...</td>\n",
       "      <td>['like', 'new', 'chapter', 'really', 'like', '...</td>\n",
       "      <td>420</td>\n",
       "      <td>(400, 450]</td>\n",
       "    </tr>\n",
       "    <tr>\n",
       "      <td>34037</td>\n",
       "      <td>A3IMO49QD6OYKN</td>\n",
       "      <td>B0086UI32S</td>\n",
       "      <td>4.0</td>\n",
       "      <td>Kay's Naturals has never let me down in the pa...</td>\n",
       "      <td>7</td>\n",
       "      <td>0</td>\n",
       "      <td>good</td>\n",
       "      <td>2013-05-02</td>\n",
       "      <td>2013</td>\n",
       "      <td>kays naturals never let past high expectation ...</td>\n",
       "      <td>['kays', 'naturals', 'never', 'let', 'past', '...</td>\n",
       "      <td>347</td>\n",
       "      <td>(300, 350]</td>\n",
       "    </tr>\n",
       "  </tbody>\n",
       "</table>\n",
       "</div>"
      ],
      "text/plain": [
       "             customer     product  rating  \\\n",
       "29703  A2BD0G4SRK0WMV  B006GTEC1W     3.0   \n",
       "34037  A3IMO49QD6OYKN  B0086UI32S     4.0   \n",
       "\n",
       "                                             review_text  pos_feedback  \\\n",
       "29703  I like New Chapter, and I really like the idea...             3   \n",
       "34037  Kay's Naturals has never let me down in the pa...             7   \n",
       "\n",
       "       neg_feedback rating_class        time  year  \\\n",
       "29703             1      neutral  2012-05-16  2012   \n",
       "34037             0         good  2013-05-02  2013   \n",
       "\n",
       "                                              clean_text  \\\n",
       "29703  like new chapter really like idea target multi...   \n",
       "34037  kays naturals never let past high expectation ...   \n",
       "\n",
       "                                                   clues  review_length  \\\n",
       "29703  ['like', 'new', 'chapter', 'really', 'like', '...            420   \n",
       "34037  ['kays', 'naturals', 'never', 'let', 'past', '...            347   \n",
       "\n",
       "      review_length_bin  \n",
       "29703        (400, 450]  \n",
       "34037        (300, 350]  "
      ]
     },
     "execution_count": 21,
     "metadata": {},
     "output_type": "execute_result"
    }
   ],
   "source": [
    "# Create review bin column\n",
    "df['review_length_bin']=pd.cut(df['review_length'],\n",
    "                               bins=np.arange(0,600,50),\n",
    "                               labels=['(0, 50]','(50, 100]','(100, 150]','(150, 200]','(200, 250]','(250, 300]','(300, 350]','(350, 400]','(400, 450]','(450, 500]','(500, +]'])\n",
    "\n",
    "df.sample(2)\n",
    "\n",
    "\n"
   ]
  },
  {
   "cell_type": "markdown",
   "metadata": {},
   "source": []
  },
  {
   "cell_type": "code",
   "execution_count": 22,
   "metadata": {},
   "outputs": [
    {
     "data": {
      "text/html": [
       "<div>\n",
       "<style scoped>\n",
       "    .dataframe tbody tr th:only-of-type {\n",
       "        vertical-align: middle;\n",
       "    }\n",
       "\n",
       "    .dataframe tbody tr th {\n",
       "        vertical-align: top;\n",
       "    }\n",
       "\n",
       "    .dataframe thead th {\n",
       "        text-align: right;\n",
       "    }\n",
       "</style>\n",
       "<table border=\"1\" class=\"dataframe\">\n",
       "  <thead>\n",
       "    <tr style=\"text-align: right;\">\n",
       "      <th>rating_class</th>\n",
       "      <th>bad</th>\n",
       "      <th>good</th>\n",
       "      <th>neutral</th>\n",
       "    </tr>\n",
       "    <tr>\n",
       "      <th>review_length_bin</th>\n",
       "      <th></th>\n",
       "      <th></th>\n",
       "      <th></th>\n",
       "    </tr>\n",
       "  </thead>\n",
       "  <tbody>\n",
       "    <tr>\n",
       "      <td>(0, 50]</td>\n",
       "      <td>4.691892</td>\n",
       "      <td>7.812985</td>\n",
       "      <td>4.141012</td>\n",
       "    </tr>\n",
       "    <tr>\n",
       "      <td>(50, 100]</td>\n",
       "      <td>21.967568</td>\n",
       "      <td>25.595167</td>\n",
       "      <td>20.451527</td>\n",
       "    </tr>\n",
       "    <tr>\n",
       "      <td>(100, 150]</td>\n",
       "      <td>21.578378</td>\n",
       "      <td>22.801404</td>\n",
       "      <td>23.759507</td>\n",
       "    </tr>\n",
       "    <tr>\n",
       "      <td>(150, 200]</td>\n",
       "      <td>16.583784</td>\n",
       "      <td>14.880967</td>\n",
       "      <td>16.877943</td>\n",
       "    </tr>\n",
       "    <tr>\n",
       "      <td>(200, 250]</td>\n",
       "      <td>10.810811</td>\n",
       "      <td>9.520285</td>\n",
       "      <td>11.143306</td>\n",
       "    </tr>\n",
       "    <tr>\n",
       "      <td>(250, 300]</td>\n",
       "      <td>7.329730</td>\n",
       "      <td>6.287161</td>\n",
       "      <td>7.304117</td>\n",
       "    </tr>\n",
       "    <tr>\n",
       "      <td>(300, 350]</td>\n",
       "      <td>5.275676</td>\n",
       "      <td>3.987679</td>\n",
       "      <td>4.623929</td>\n",
       "    </tr>\n",
       "    <tr>\n",
       "      <td>(350, 400]</td>\n",
       "      <td>3.243243</td>\n",
       "      <td>2.674371</td>\n",
       "      <td>3.259689</td>\n",
       "    </tr>\n",
       "    <tr>\n",
       "      <td>(400, 450]</td>\n",
       "      <td>2.227027</td>\n",
       "      <td>1.745505</td>\n",
       "      <td>2.209344</td>\n",
       "    </tr>\n",
       "    <tr>\n",
       "      <td>(450, 500]</td>\n",
       "      <td>1.491892</td>\n",
       "      <td>1.179589</td>\n",
       "      <td>1.738501</td>\n",
       "    </tr>\n",
       "    <tr>\n",
       "      <td>(500, +]</td>\n",
       "      <td>0.994595</td>\n",
       "      <td>0.845292</td>\n",
       "      <td>1.171073</td>\n",
       "    </tr>\n",
       "  </tbody>\n",
       "</table>\n",
       "</div>"
      ],
      "text/plain": [
       "rating_class             bad       good    neutral\n",
       "review_length_bin                                 \n",
       "(0, 50]             4.691892   7.812985   4.141012\n",
       "(50, 100]          21.967568  25.595167  20.451527\n",
       "(100, 150]         21.578378  22.801404  23.759507\n",
       "(150, 200]         16.583784  14.880967  16.877943\n",
       "(200, 250]         10.810811   9.520285  11.143306\n",
       "(250, 300]          7.329730   6.287161   7.304117\n",
       "(300, 350]          5.275676   3.987679   4.623929\n",
       "(350, 400]          3.243243   2.674371   3.259689\n",
       "(400, 450]          2.227027   1.745505   2.209344\n",
       "(450, 500]          1.491892   1.179589   1.738501\n",
       "(500, +]            0.994595   0.845292   1.171073"
      ]
     },
     "execution_count": 22,
     "metadata": {},
     "output_type": "execute_result"
    }
   ],
   "source": [
    "# Percentages of rating classes for each length bin \n",
    "\n",
    "ds=pd.pivot_table(data=df,index='review_length_bin',columns='rating_class',aggfunc='size',values='review_text')\n",
    "\n",
    "ds=ds.reset_index()\n",
    "#ds['review_length_bin'] = ds.review_length_bin.astype(str)\n",
    "\n",
    "ds.bad=ds.bad/4625*100\n",
    "ds.good=ds.good/41879*100\n",
    "ds.neutral=ds.neutral/8283*100\n",
    "ds=ds.set_index('review_length_bin')\n",
    "ds"
   ]
  },
  {
   "cell_type": "code",
   "execution_count": 23,
   "metadata": {
    "scrolled": true
   },
   "outputs": [
    {
     "data": {
      "text/plain": [
       "\"df['rating_class_num'] = df['rating_class'].map({'good': 1, 'bad': 0})\\n\\n\\n# Good rating percentages for each length bin with 50's\\nper_pos_length = df.groupby(['review_length_bin'])['rating_class_num'].mean()\\ndf['review_length_bin'] = df.review_length_bin.astype(str)\\n\\nper_pos_length = per_pos_length*100\\nper_pos_length\""
      ]
     },
     "execution_count": 23,
     "metadata": {},
     "output_type": "execute_result"
    }
   ],
   "source": [
    "'''df['rating_class_num'] = df['rating_class'].map({'good': 1, 'bad': 0})\n",
    "\n",
    "\n",
    "# Good rating percentages for each length bin with 50's\n",
    "per_pos_length = df.groupby(['review_length_bin'])['rating_class_num'].mean()\n",
    "df['review_length_bin'] = df.review_length_bin.astype(str)\n",
    "\n",
    "per_pos_length = per_pos_length*100\n",
    "per_pos_length'''"
   ]
  },
  {
   "cell_type": "code",
   "execution_count": 24,
   "metadata": {},
   "outputs": [
    {
     "data": {
      "text/html": [
       "<div>\n",
       "<style scoped>\n",
       "    .dataframe tbody tr th:only-of-type {\n",
       "        vertical-align: middle;\n",
       "    }\n",
       "\n",
       "    .dataframe tbody tr th {\n",
       "        vertical-align: top;\n",
       "    }\n",
       "\n",
       "    .dataframe thead th {\n",
       "        text-align: right;\n",
       "    }\n",
       "</style>\n",
       "<table border=\"1\" class=\"dataframe\">\n",
       "  <thead>\n",
       "    <tr style=\"text-align: right;\">\n",
       "      <th></th>\n",
       "      <th>rating</th>\n",
       "      <th>pos_feedback</th>\n",
       "      <th>neg_feedback</th>\n",
       "      <th>year</th>\n",
       "      <th>review_length</th>\n",
       "      <th>rating_class_bad</th>\n",
       "      <th>rating_class_good</th>\n",
       "      <th>rating_class_neutral</th>\n",
       "    </tr>\n",
       "  </thead>\n",
       "  <tbody>\n",
       "    <tr>\n",
       "      <td>rating</td>\n",
       "      <td>1.000000</td>\n",
       "      <td>-0.010402</td>\n",
       "      <td>-0.096800</td>\n",
       "      <td>0.075724</td>\n",
       "      <td>-0.083144</td>\n",
       "      <td>-0.713334</td>\n",
       "      <td>0.845538</td>\n",
       "      <td>-0.448062</td>\n",
       "    </tr>\n",
       "    <tr>\n",
       "      <td>pos_feedback</td>\n",
       "      <td>-0.010402</td>\n",
       "      <td>1.000000</td>\n",
       "      <td>0.579408</td>\n",
       "      <td>-0.075258</td>\n",
       "      <td>0.177762</td>\n",
       "      <td>0.007769</td>\n",
       "      <td>-0.011843</td>\n",
       "      <td>0.008000</td>\n",
       "    </tr>\n",
       "    <tr>\n",
       "      <td>neg_feedback</td>\n",
       "      <td>-0.096800</td>\n",
       "      <td>0.579408</td>\n",
       "      <td>1.000000</td>\n",
       "      <td>-0.133668</td>\n",
       "      <td>0.198992</td>\n",
       "      <td>0.092463</td>\n",
       "      <td>-0.089565</td>\n",
       "      <td>0.034344</td>\n",
       "    </tr>\n",
       "    <tr>\n",
       "      <td>year</td>\n",
       "      <td>0.075724</td>\n",
       "      <td>-0.075258</td>\n",
       "      <td>-0.133668</td>\n",
       "      <td>1.000000</td>\n",
       "      <td>-0.128272</td>\n",
       "      <td>-0.047250</td>\n",
       "      <td>0.055877</td>\n",
       "      <td>-0.029525</td>\n",
       "    </tr>\n",
       "    <tr>\n",
       "      <td>review_length</td>\n",
       "      <td>-0.083144</td>\n",
       "      <td>0.177762</td>\n",
       "      <td>0.198992</td>\n",
       "      <td>-0.128272</td>\n",
       "      <td>1.000000</td>\n",
       "      <td>0.034587</td>\n",
       "      <td>-0.060971</td>\n",
       "      <td>0.045386</td>\n",
       "    </tr>\n",
       "    <tr>\n",
       "      <td>rating_class_bad</td>\n",
       "      <td>-0.713334</td>\n",
       "      <td>0.007769</td>\n",
       "      <td>0.092463</td>\n",
       "      <td>-0.047250</td>\n",
       "      <td>0.034587</td>\n",
       "      <td>1.000000</td>\n",
       "      <td>-0.546937</td>\n",
       "      <td>-0.128150</td>\n",
       "    </tr>\n",
       "    <tr>\n",
       "      <td>rating_class_good</td>\n",
       "      <td>0.845538</td>\n",
       "      <td>-0.011843</td>\n",
       "      <td>-0.089565</td>\n",
       "      <td>0.055877</td>\n",
       "      <td>-0.060971</td>\n",
       "      <td>-0.546937</td>\n",
       "      <td>1.000000</td>\n",
       "      <td>-0.760182</td>\n",
       "    </tr>\n",
       "    <tr>\n",
       "      <td>rating_class_neutral</td>\n",
       "      <td>-0.448062</td>\n",
       "      <td>0.008000</td>\n",
       "      <td>0.034344</td>\n",
       "      <td>-0.029525</td>\n",
       "      <td>0.045386</td>\n",
       "      <td>-0.128150</td>\n",
       "      <td>-0.760182</td>\n",
       "      <td>1.000000</td>\n",
       "    </tr>\n",
       "  </tbody>\n",
       "</table>\n",
       "</div>"
      ],
      "text/plain": [
       "                        rating  pos_feedback  neg_feedback      year  \\\n",
       "rating                1.000000     -0.010402     -0.096800  0.075724   \n",
       "pos_feedback         -0.010402      1.000000      0.579408 -0.075258   \n",
       "neg_feedback         -0.096800      0.579408      1.000000 -0.133668   \n",
       "year                  0.075724     -0.075258     -0.133668  1.000000   \n",
       "review_length        -0.083144      0.177762      0.198992 -0.128272   \n",
       "rating_class_bad     -0.713334      0.007769      0.092463 -0.047250   \n",
       "rating_class_good     0.845538     -0.011843     -0.089565  0.055877   \n",
       "rating_class_neutral -0.448062      0.008000      0.034344 -0.029525   \n",
       "\n",
       "                      review_length  rating_class_bad  rating_class_good  \\\n",
       "rating                    -0.083144         -0.713334           0.845538   \n",
       "pos_feedback               0.177762          0.007769          -0.011843   \n",
       "neg_feedback               0.198992          0.092463          -0.089565   \n",
       "year                      -0.128272         -0.047250           0.055877   \n",
       "review_length              1.000000          0.034587          -0.060971   \n",
       "rating_class_bad           0.034587          1.000000          -0.546937   \n",
       "rating_class_good         -0.060971         -0.546937           1.000000   \n",
       "rating_class_neutral       0.045386         -0.128150          -0.760182   \n",
       "\n",
       "                      rating_class_neutral  \n",
       "rating                           -0.448062  \n",
       "pos_feedback                      0.008000  \n",
       "neg_feedback                      0.034344  \n",
       "year                             -0.029525  \n",
       "review_length                     0.045386  \n",
       "rating_class_bad                 -0.128150  \n",
       "rating_class_good                -0.760182  \n",
       "rating_class_neutral              1.000000  "
      ]
     },
     "execution_count": 24,
     "metadata": {},
     "output_type": "execute_result"
    }
   ],
   "source": [
    "# Find correlation matrix between numeric variables\n",
    "df_dummy2=pd.get_dummies(df,columns=['rating_class'])\n",
    "corr = df_dummy2.corr()\n",
    "corr"
   ]
  },
  {
   "cell_type": "code",
   "execution_count": 25,
   "metadata": {},
   "outputs": [
    {
     "data": {
      "image/png": "[encoded data removed]",
      "text/plain": [
       "<Figure size 432x288 with 2 Axes>"
      ]
     },
     "metadata": {},
     "output_type": "display_data"
    }
   ],
   "source": [
    "# Plotting correlation matrix between numeric variables\n",
    "\n",
    "\n",
    "\n",
    "\n",
    "# Now let's visualize the correlations \n",
    "'''# Generate a mask for the upper triangle\n",
    "mask = np.zeros_like(df_temp.corr(), dtype=np.bool)\n",
    "mask[np.triu_indices_from(mask)] = True'''\n",
    "\n",
    "\n",
    "cmap = cmap=sns.diverging_palette(5, 250, as_cmap=True)\n",
    "\n",
    "ax = sns.heatmap(\n",
    "    corr,\n",
    "    annot=True, \n",
    "    linewidths = 1,\n",
    "    vmin=-1, vmax=1, center=0,\n",
    "    cmap=cmap,\n",
    "    annot_kws = {'size': 12},\n",
    "    fmt = '.1g',\n",
    "    square=False,\n",
    "    cbar_kws = {'shrink': 1, 'ticks' : [-1, -.5, 0, 0.5, 1]}\n",
    ")\n",
    "\n",
    "sns.set_style({'xtick.bottom': True}, {'ytick.left': True})\n",
    "bottom, top = ax.get_ylim()\n",
    "ax.set_ylim(bottom + 0.5, top - 0.5)\n",
    "\n",
    "#  Display (correlation plot)\n",
    "\n",
    "ax.get_figure().savefig('heatmap.png', bbox_inches='tight')\n"
   ]
  },
  {
   "cell_type": "markdown",
   "metadata": {},
   "source": []
  },
  {
   "cell_type": "markdown",
   "metadata": {},
   "source": []
  },
  {
   "cell_type": "markdown",
   "metadata": {},
   "source": [
    "#### 5. Text Review Feature"
   ]
  },
  {
   "cell_type": "code",
   "execution_count": 26,
   "metadata": {},
   "outputs": [
    {
     "data": {
      "text/html": [
       "<div>\n",
       "<style scoped>\n",
       "    .dataframe tbody tr th:only-of-type {\n",
       "        vertical-align: middle;\n",
       "    }\n",
       "\n",
       "    .dataframe tbody tr th {\n",
       "        vertical-align: top;\n",
       "    }\n",
       "\n",
       "    .dataframe thead th {\n",
       "        text-align: right;\n",
       "    }\n",
       "</style>\n",
       "<table border=\"1\" class=\"dataframe\">\n",
       "  <thead>\n",
       "    <tr style=\"text-align: right;\">\n",
       "      <th></th>\n",
       "      <th>clean_text</th>\n",
       "      <th>rating_class_bad</th>\n",
       "      <th>rating_class_good</th>\n",
       "      <th>rating_class_neutral</th>\n",
       "    </tr>\n",
       "  </thead>\n",
       "  <tbody>\n",
       "    <tr>\n",
       "      <td>0</td>\n",
       "      <td>right box ready go everything star packaging p...</td>\n",
       "      <td>0</td>\n",
       "      <td>1</td>\n",
       "      <td>0</td>\n",
       "    </tr>\n",
       "    <tr>\n",
       "      <td>1</td>\n",
       "      <td>day age hard understand everyone not use recha...</td>\n",
       "      <td>0</td>\n",
       "      <td>1</td>\n",
       "      <td>0</td>\n",
       "    </tr>\n",
       "    <tr>\n",
       "      <td>2</td>\n",
       "      <td>ah rechargeable nimh battery provide power ful...</td>\n",
       "      <td>0</td>\n",
       "      <td>1</td>\n",
       "      <td>0</td>\n",
       "    </tr>\n",
       "    <tr>\n",
       "      <td>3</td>\n",
       "      <td>give throw battery couple month rotation two s...</td>\n",
       "      <td>1</td>\n",
       "      <td>0</td>\n",
       "      <td>0</td>\n",
       "    </tr>\n",
       "    <tr>\n",
       "      <td>4</td>\n",
       "      <td>product advertise new energizer rechargeable n...</td>\n",
       "      <td>1</td>\n",
       "      <td>0</td>\n",
       "      <td>0</td>\n",
       "    </tr>\n",
       "  </tbody>\n",
       "</table>\n",
       "</div>"
      ],
      "text/plain": [
       "                                          clean_text  rating_class_bad  \\\n",
       "0  right box ready go everything star packaging p...                 0   \n",
       "1  day age hard understand everyone not use recha...                 0   \n",
       "2  ah rechargeable nimh battery provide power ful...                 0   \n",
       "3  give throw battery couple month rotation two s...                 1   \n",
       "4  product advertise new energizer rechargeable n...                 1   \n",
       "\n",
       "   rating_class_good  rating_class_neutral  \n",
       "0                  1                     0  \n",
       "1                  1                     0  \n",
       "2                  1                     0  \n",
       "3                  0                     0  \n",
       "4                  0                     0  "
      ]
     },
     "execution_count": 26,
     "metadata": {},
     "output_type": "execute_result"
    }
   ],
   "source": [
    "# Make a new dataframe with clean text and rating classes\n",
    "df_new=df_dummy2[['clean_text','rating_class_bad','rating_class_good',\n",
    "               'rating_class_neutral']]\n",
    "df_new.head()\n"
   ]
  },
  {
   "cell_type": "code",
   "execution_count": 27,
   "metadata": {},
   "outputs": [],
   "source": [
    "# Initialize the countervectorizer\n",
    "countVec=CountVectorizer(binary=True)"
   ]
  },
  {
   "cell_type": "code",
   "execution_count": 28,
   "metadata": {},
   "outputs": [
    {
     "data": {
      "text/plain": [
       "CountVectorizer(analyzer='word', binary=True, decode_error='strict',\n",
       "                dtype=<class 'numpy.int64'>, encoding='utf-8', input='content',\n",
       "                lowercase=True, max_df=1.0, max_features=None, min_df=1,\n",
       "                ngram_range=(1, 1), preprocessor=None, stop_words=None,\n",
       "                strip_accents=None, token_pattern='(?u)\\\\b\\\\w\\\\w+\\\\b',\n",
       "                tokenizer=None, vocabulary=None)"
      ]
     },
     "execution_count": 28,
     "metadata": {},
     "output_type": "execute_result"
    }
   ],
   "source": [
    "# Fit the 'clean_text' to countvectorizer\n",
    "countVec.fit(df_new['clean_text'])"
   ]
  },
  {
   "cell_type": "code",
   "execution_count": 29,
   "metadata": {},
   "outputs": [],
   "source": [
    "# Transform the matrix\n",
    "transformed_matrix= countVec.transform(df_new['clean_text'])\n"
   ]
  },
  {
   "cell_type": "code",
   "execution_count": 30,
   "metadata": {},
   "outputs": [
    {
     "data": {
      "text/plain": [
       "array([[0, 0, 0, ..., 0, 0, 0],\n",
       "       [0, 0, 0, ..., 0, 0, 0],\n",
       "       [0, 0, 0, ..., 0, 0, 0],\n",
       "       ...,\n",
       "       [0, 0, 0, ..., 0, 0, 0],\n",
       "       [0, 0, 0, ..., 0, 0, 0],\n",
       "       [0, 0, 0, ..., 0, 0, 0]])"
      ]
     },
     "execution_count": 30,
     "metadata": {},
     "output_type": "execute_result"
    }
   ],
   "source": [
    "# Convert matrix to array\n",
    "transformed_matrix.toarray()\n"
   ]
  },
  {
   "cell_type": "code",
   "execution_count": 31,
   "metadata": {},
   "outputs": [
    {
     "data": {
      "text/plain": [
       "'academic'"
      ]
     },
     "execution_count": 31,
     "metadata": {},
     "output_type": "execute_result"
    }
   ],
   "source": [
    "# Extract the feature names\n",
    "names= countVec.get_feature_names()\n",
    "\n",
    "# Export it out one sample\n",
    "names[250]"
   ]
  },
  {
   "cell_type": "code",
   "execution_count": 32,
   "metadata": {},
   "outputs": [],
   "source": [
    "# Adding a 'rating' column \n",
    "\n",
    "df_transf=pd.DataFrame(\n",
    "    transformed_matrix.toarray(),\n",
    "    columns=names)\n",
    "\n",
    "\n",
    "df_transf['rating_bad']=df_new['rating_class_bad']\n",
    "df_transf['rating_good']=df_new['rating_class_good']\n",
    "\n"
   ]
  },
  {
   "cell_type": "code",
   "execution_count": null,
   "metadata": {},
   "outputs": [],
   "source": [
    "# Create lists for forming a dataframe summary\n",
    "feature_names = []\n",
    "avg_bad_ratings = [] \n",
    "bad_rating_counts = []\n",
    "\n",
    "for name in names:\n",
    "    if name != 'rating_bad':    \n",
    "        avg_bad_rating   = df_transf[df_transf[name]== 1]['rating_bad'].mean()\n",
    "        bad_rating_count = df_transf[df_transf[name]== 1]['rating_bad'].count()\n",
    "        feature_names.append(name)\n",
    "        avg_bad_ratings.append(avg_bad_rating)\n",
    "        bad_rating_counts.append(bad_rating_count)  \n",
    "  \n",
    "    \n",
    "    else:\n",
    "        pass    \n",
    "    "
   ]
  },
  {
   "cell_type": "code",
   "execution_count": null,
   "metadata": {},
   "outputs": [],
   "source": [
    "# Create a new dataframe from words, average ratings, and rating counts\n",
    "df_summary_bad = pd.DataFrame(\n",
    "    {'feature_name':feature_names, \n",
    "     'avg_bad_rating': avg_bad_ratings, \n",
    "     'bad_rating_count':bad_rating_counts,})\n",
    "     "
   ]
  },
  {
   "cell_type": "markdown",
   "metadata": {},
   "source": [
    "# Let's see the new dataframe\n",
    "df_summary_bad.sample(10)"
   ]
  },
  {
   "cell_type": "markdown",
   "metadata": {},
   "source": [
    "feature_names = []\n",
    "avg_good_ratings = [] \n",
    "good_rating_counts = []\n",
    "for name in names:\n",
    "    if name != 'rating_good':    \n",
    "        avg_good_rating   = df_transf[df_transf[name]== 1]['rating_good'].mean()\n",
    "        good_rating_count = df_transf[df_transf[name]== 1]['rating_good'].count()\n",
    "        feature_names.append(name)\n",
    "        avg_good_ratings.append(avg_good_rating)\n",
    "        good_rating_counts.append(good_rating_count) \n",
    "  \n",
    "    \n",
    "    else:\n",
    "        pass"
   ]
  },
  {
   "cell_type": "markdown",
   "metadata": {},
   "source": [
    "df_summary_good = pd.DataFrame(\n",
    "    {'feature_name':feature_names, \n",
    "     'avg_good_rating': avg_good_ratings, \n",
    "     'good_rating_count':good_rating_counts})"
   ]
  },
  {
   "cell_type": "code",
   "execution_count": null,
   "metadata": {},
   "outputs": [],
   "source": []
  },
  {
   "cell_type": "code",
   "execution_count": null,
   "metadata": {},
   "outputs": [],
   "source": []
  },
  {
   "cell_type": "code",
   "execution_count": null,
   "metadata": {},
   "outputs": [],
   "source": []
  },
  {
   "cell_type": "code",
   "execution_count": null,
   "metadata": {},
   "outputs": [],
   "source": []
  },
  {
   "cell_type": "code",
   "execution_count": null,
   "metadata": {},
   "outputs": [],
   "source": []
  },
  {
   "cell_type": "code",
   "execution_count": null,
   "metadata": {},
   "outputs": [],
   "source": []
  },
  {
   "cell_type": "code",
   "execution_count": null,
   "metadata": {},
   "outputs": [],
   "source": []
  },
  {
   "cell_type": "code",
   "execution_count": null,
   "metadata": {},
   "outputs": [],
   "source": []
  },
  {
   "cell_type": "code",
   "execution_count": null,
   "metadata": {},
   "outputs": [],
   "source": []
  },
  {
   "cell_type": "code",
   "execution_count": null,
   "metadata": {},
   "outputs": [],
   "source": []
  },
  {
   "cell_type": "code",
   "execution_count": null,
   "metadata": {},
   "outputs": [],
   "source": []
  },
  {
   "cell_type": "code",
   "execution_count": null,
   "metadata": {},
   "outputs": [],
   "source": []
  },
  {
   "cell_type": "code",
   "execution_count": null,
   "metadata": {},
   "outputs": [],
   "source": []
  },
  {
   "cell_type": "code",
   "execution_count": null,
   "metadata": {},
   "outputs": [],
   "source": []
  },
  {
   "cell_type": "code",
   "execution_count": null,
   "metadata": {},
   "outputs": [],
   "source": []
  },
  {
   "cell_type": "code",
   "execution_count": null,
   "metadata": {},
   "outputs": [],
   "source": []
  },
  {
   "cell_type": "code",
   "execution_count": null,
   "metadata": {},
   "outputs": [],
   "source": []
  },
  {
   "cell_type": "code",
   "execution_count": null,
   "metadata": {},
   "outputs": [],
   "source": []
  },
  {
   "cell_type": "code",
   "execution_count": null,
   "metadata": {},
   "outputs": [],
   "source": []
  },
  {
   "cell_type": "code",
   "execution_count": null,
   "metadata": {},
   "outputs": [],
   "source": []
  },
  {
   "cell_type": "code",
   "execution_count": null,
   "metadata": {},
   "outputs": [],
   "source": []
  },
  {
   "cell_type": "code",
   "execution_count": null,
   "metadata": {},
   "outputs": [],
   "source": []
  },
  {
   "cell_type": "code",
   "execution_count": null,
   "metadata": {},
   "outputs": [],
   "source": []
  },
  {
   "cell_type": "code",
   "execution_count": null,
   "metadata": {},
   "outputs": [],
   "source": []
  }
 ],
 "metadata": {
  "kernelspec": {
   "display_name": "Python 3",
   "language": "python",
   "name": "python3"
  },
  "language_info": {
   "codemirror_mode": {
    "name": "ipython",
    "version": 3
   },
   "file_extension": ".py",
   "mimetype": "text/x-python",
   "name": "python",
   "nbconvert_exporter": "python",
   "pygments_lexer": "ipython3",
   "version": "3.7.4"
  },
  "toc": {
   "base_numbering": 1,
   "nav_menu": {},
   "number_sections": false,
   "sideBar": true,
   "skip_h1_title": false,
   "title_cell": "Table of Contents",
   "title_sidebar": "Contents",
   "toc_cell": true,
   "toc_position": {},
   "toc_section_display": true,
   "toc_window_display": false
  }
 },
 "nbformat": 4,
 "nbformat_minor": 2
}
